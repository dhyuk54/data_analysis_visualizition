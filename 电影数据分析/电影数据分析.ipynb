{
 "cells": [
  {
   "cell_type": "code",
   "execution_count": 1,
   "metadata": {
    "ExecuteTime": {
     "end_time": "2023-10-01T03:28:03.409187Z",
     "start_time": "2023-10-01T03:28:01.086467Z"
    }
   },
   "outputs": [],
   "source": [
    "#导入模块\n",
    "import numpy as np\n",
    "import pandas as pd\n",
    "import matplotlib.pyplot as plt"
   ]
  },
  {
   "cell_type": "markdown",
   "metadata": {},
   "source": [
    "加载数据"
   ]
  },
  {
   "cell_type": "code",
   "execution_count": 2,
   "metadata": {
    "ExecuteTime": {
     "end_time": "2023-10-01T03:28:03.449975Z",
     "start_time": "2023-10-01T03:28:03.400022Z"
    }
   },
   "outputs": [
    {
     "data": {
      "text/plain": "     user_id  age gender     occupation zip_code\n0          1   24      M     technician    85711\n1          2   53      F          other    94043\n2          3   23      M         writer    32067\n3          4   24      M     technician    43537\n4          5   33      F          other    15213\n..       ...  ...    ...            ...      ...\n938      939   26      F        student    33319\n939      940   32      M  administrator    02215\n940      941   20      M        student    97229\n941      942   48      F      librarian    78209\n942      943   22      M        student    77841\n\n[943 rows x 5 columns]",
      "text/html": "<div>\n<style scoped>\n    .dataframe tbody tr th:only-of-type {\n        vertical-align: middle;\n    }\n\n    .dataframe tbody tr th {\n        vertical-align: top;\n    }\n\n    .dataframe thead th {\n        text-align: right;\n    }\n</style>\n<table border=\"1\" class=\"dataframe\">\n  <thead>\n    <tr style=\"text-align: right;\">\n      <th></th>\n      <th>user_id</th>\n      <th>age</th>\n      <th>gender</th>\n      <th>occupation</th>\n      <th>zip_code</th>\n    </tr>\n  </thead>\n  <tbody>\n    <tr>\n      <th>0</th>\n      <td>1</td>\n      <td>24</td>\n      <td>M</td>\n      <td>technician</td>\n      <td>85711</td>\n    </tr>\n    <tr>\n      <th>1</th>\n      <td>2</td>\n      <td>53</td>\n      <td>F</td>\n      <td>other</td>\n      <td>94043</td>\n    </tr>\n    <tr>\n      <th>2</th>\n      <td>3</td>\n      <td>23</td>\n      <td>M</td>\n      <td>writer</td>\n      <td>32067</td>\n    </tr>\n    <tr>\n      <th>3</th>\n      <td>4</td>\n      <td>24</td>\n      <td>M</td>\n      <td>technician</td>\n      <td>43537</td>\n    </tr>\n    <tr>\n      <th>4</th>\n      <td>5</td>\n      <td>33</td>\n      <td>F</td>\n      <td>other</td>\n      <td>15213</td>\n    </tr>\n    <tr>\n      <th>...</th>\n      <td>...</td>\n      <td>...</td>\n      <td>...</td>\n      <td>...</td>\n      <td>...</td>\n    </tr>\n    <tr>\n      <th>938</th>\n      <td>939</td>\n      <td>26</td>\n      <td>F</td>\n      <td>student</td>\n      <td>33319</td>\n    </tr>\n    <tr>\n      <th>939</th>\n      <td>940</td>\n      <td>32</td>\n      <td>M</td>\n      <td>administrator</td>\n      <td>02215</td>\n    </tr>\n    <tr>\n      <th>940</th>\n      <td>941</td>\n      <td>20</td>\n      <td>M</td>\n      <td>student</td>\n      <td>97229</td>\n    </tr>\n    <tr>\n      <th>941</th>\n      <td>942</td>\n      <td>48</td>\n      <td>F</td>\n      <td>librarian</td>\n      <td>78209</td>\n    </tr>\n    <tr>\n      <th>942</th>\n      <td>943</td>\n      <td>22</td>\n      <td>M</td>\n      <td>student</td>\n      <td>77841</td>\n    </tr>\n  </tbody>\n</table>\n<p>943 rows × 5 columns</p>\n</div>"
     },
     "execution_count": 2,
     "metadata": {},
     "output_type": "execute_result"
    }
   ],
   "source": [
    "#加载用户信息 \n",
    "#指定列名称user id | age | gender | occupation | zip code\n",
    "user_cols = ['user_id','age','gender','occupation','zip_code']\n",
    "users = pd.read_csv('ml-100k/u.user',sep='|',names=user_cols)\n",
    "users"
   ]
  },
  {
   "cell_type": "code",
   "execution_count": 3,
   "metadata": {
    "ExecuteTime": {
     "end_time": "2023-10-01T03:28:03.464837Z",
     "start_time": "2023-10-01T03:28:03.420023Z"
    }
   },
   "outputs": [
    {
     "data": {
      "text/plain": "      movie_id                                movie_title release_date  \\\n0            1                           Toy Story (1995)  01-Jan-1995   \n1            2                           GoldenEye (1995)  01-Jan-1995   \n2            3                          Four Rooms (1995)  01-Jan-1995   \n3            4                          Get Shorty (1995)  01-Jan-1995   \n4            5                             Copycat (1995)  01-Jan-1995   \n...        ...                                        ...          ...   \n1677      1678                          Mat' i syn (1997)  06-Feb-1998   \n1678      1679                           B. Monkey (1998)  06-Feb-1998   \n1679      1680                       Sliding Doors (1998)  01-Jan-1998   \n1680      1681                        You So Crazy (1994)  01-Jan-1994   \n1681      1682  Scream of Stone (Schrei aus Stein) (1991)  08-Mar-1996   \n\n      video_release_date                                           IMDb_URL  \n0                    NaN  http://us.imdb.com/M/title-exact?Toy%20Story%2...  \n1                    NaN  http://us.imdb.com/M/title-exact?GoldenEye%20(...  \n2                    NaN  http://us.imdb.com/M/title-exact?Four%20Rooms%...  \n3                    NaN  http://us.imdb.com/M/title-exact?Get%20Shorty%...  \n4                    NaN  http://us.imdb.com/M/title-exact?Copycat%20(1995)  \n...                  ...                                                ...  \n1677                 NaN  http://us.imdb.com/M/title-exact?Mat%27+i+syn+...  \n1678                 NaN  http://us.imdb.com/M/title-exact?B%2E+Monkey+(...  \n1679                 NaN      http://us.imdb.com/Title?Sliding+Doors+(1998)  \n1680                 NaN  http://us.imdb.com/M/title-exact?You%20So%20Cr...  \n1681                 NaN  http://us.imdb.com/M/title-exact?Schrei%20aus%...  \n\n[1682 rows x 5 columns]",
      "text/html": "<div>\n<style scoped>\n    .dataframe tbody tr th:only-of-type {\n        vertical-align: middle;\n    }\n\n    .dataframe tbody tr th {\n        vertical-align: top;\n    }\n\n    .dataframe thead th {\n        text-align: right;\n    }\n</style>\n<table border=\"1\" class=\"dataframe\">\n  <thead>\n    <tr style=\"text-align: right;\">\n      <th></th>\n      <th>movie_id</th>\n      <th>movie_title</th>\n      <th>release_date</th>\n      <th>video_release_date</th>\n      <th>IMDb_URL</th>\n    </tr>\n  </thead>\n  <tbody>\n    <tr>\n      <th>0</th>\n      <td>1</td>\n      <td>Toy Story (1995)</td>\n      <td>01-Jan-1995</td>\n      <td>NaN</td>\n      <td>http://us.imdb.com/M/title-exact?Toy%20Story%2...</td>\n    </tr>\n    <tr>\n      <th>1</th>\n      <td>2</td>\n      <td>GoldenEye (1995)</td>\n      <td>01-Jan-1995</td>\n      <td>NaN</td>\n      <td>http://us.imdb.com/M/title-exact?GoldenEye%20(...</td>\n    </tr>\n    <tr>\n      <th>2</th>\n      <td>3</td>\n      <td>Four Rooms (1995)</td>\n      <td>01-Jan-1995</td>\n      <td>NaN</td>\n      <td>http://us.imdb.com/M/title-exact?Four%20Rooms%...</td>\n    </tr>\n    <tr>\n      <th>3</th>\n      <td>4</td>\n      <td>Get Shorty (1995)</td>\n      <td>01-Jan-1995</td>\n      <td>NaN</td>\n      <td>http://us.imdb.com/M/title-exact?Get%20Shorty%...</td>\n    </tr>\n    <tr>\n      <th>4</th>\n      <td>5</td>\n      <td>Copycat (1995)</td>\n      <td>01-Jan-1995</td>\n      <td>NaN</td>\n      <td>http://us.imdb.com/M/title-exact?Copycat%20(1995)</td>\n    </tr>\n    <tr>\n      <th>...</th>\n      <td>...</td>\n      <td>...</td>\n      <td>...</td>\n      <td>...</td>\n      <td>...</td>\n    </tr>\n    <tr>\n      <th>1677</th>\n      <td>1678</td>\n      <td>Mat' i syn (1997)</td>\n      <td>06-Feb-1998</td>\n      <td>NaN</td>\n      <td>http://us.imdb.com/M/title-exact?Mat%27+i+syn+...</td>\n    </tr>\n    <tr>\n      <th>1678</th>\n      <td>1679</td>\n      <td>B. Monkey (1998)</td>\n      <td>06-Feb-1998</td>\n      <td>NaN</td>\n      <td>http://us.imdb.com/M/title-exact?B%2E+Monkey+(...</td>\n    </tr>\n    <tr>\n      <th>1679</th>\n      <td>1680</td>\n      <td>Sliding Doors (1998)</td>\n      <td>01-Jan-1998</td>\n      <td>NaN</td>\n      <td>http://us.imdb.com/Title?Sliding+Doors+(1998)</td>\n    </tr>\n    <tr>\n      <th>1680</th>\n      <td>1681</td>\n      <td>You So Crazy (1994)</td>\n      <td>01-Jan-1994</td>\n      <td>NaN</td>\n      <td>http://us.imdb.com/M/title-exact?You%20So%20Cr...</td>\n    </tr>\n    <tr>\n      <th>1681</th>\n      <td>1682</td>\n      <td>Scream of Stone (Schrei aus Stein) (1991)</td>\n      <td>08-Mar-1996</td>\n      <td>NaN</td>\n      <td>http://us.imdb.com/M/title-exact?Schrei%20aus%...</td>\n    </tr>\n  </tbody>\n</table>\n<p>1682 rows × 5 columns</p>\n</div>"
     },
     "execution_count": 3,
     "metadata": {},
     "output_type": "execute_result"
    }
   ],
   "source": [
    "#加载电影信息\n",
    "#指定列名称movie id | movie title | release date | video release date |IMDb URL\n",
    "movie_cols = ['movie_id','movie_title','release_date','video_release_date','IMDb_URL'] \n",
    "movies = pd.read_csv('ml-100k/u.item',encoding='latin-1',sep='|',names=movie_cols,usecols=range(5))\n",
    "movies"
   ]
  },
  {
   "cell_type": "code",
   "execution_count": 4,
   "metadata": {
    "ExecuteTime": {
     "end_time": "2023-10-01T03:28:03.517780Z",
     "start_time": "2023-10-01T03:28:03.435899Z"
    }
   },
   "outputs": [
    {
     "data": {
      "text/plain": "       user_id  movie_id  rating  timestamp\n0          196       242       3  881250949\n1          186       302       3  891717742\n2           22       377       1  878887116\n3          244        51       2  880606923\n4          166       346       1  886397596\n...        ...       ...     ...        ...\n99995      880       476       3  880175444\n99996      716       204       5  879795543\n99997      276      1090       1  874795795\n99998       13       225       2  882399156\n99999       12       203       3  879959583\n\n[100000 rows x 4 columns]",
      "text/html": "<div>\n<style scoped>\n    .dataframe tbody tr th:only-of-type {\n        vertical-align: middle;\n    }\n\n    .dataframe tbody tr th {\n        vertical-align: top;\n    }\n\n    .dataframe thead th {\n        text-align: right;\n    }\n</style>\n<table border=\"1\" class=\"dataframe\">\n  <thead>\n    <tr style=\"text-align: right;\">\n      <th></th>\n      <th>user_id</th>\n      <th>movie_id</th>\n      <th>rating</th>\n      <th>timestamp</th>\n    </tr>\n  </thead>\n  <tbody>\n    <tr>\n      <th>0</th>\n      <td>196</td>\n      <td>242</td>\n      <td>3</td>\n      <td>881250949</td>\n    </tr>\n    <tr>\n      <th>1</th>\n      <td>186</td>\n      <td>302</td>\n      <td>3</td>\n      <td>891717742</td>\n    </tr>\n    <tr>\n      <th>2</th>\n      <td>22</td>\n      <td>377</td>\n      <td>1</td>\n      <td>878887116</td>\n    </tr>\n    <tr>\n      <th>3</th>\n      <td>244</td>\n      <td>51</td>\n      <td>2</td>\n      <td>880606923</td>\n    </tr>\n    <tr>\n      <th>4</th>\n      <td>166</td>\n      <td>346</td>\n      <td>1</td>\n      <td>886397596</td>\n    </tr>\n    <tr>\n      <th>...</th>\n      <td>...</td>\n      <td>...</td>\n      <td>...</td>\n      <td>...</td>\n    </tr>\n    <tr>\n      <th>99995</th>\n      <td>880</td>\n      <td>476</td>\n      <td>3</td>\n      <td>880175444</td>\n    </tr>\n    <tr>\n      <th>99996</th>\n      <td>716</td>\n      <td>204</td>\n      <td>5</td>\n      <td>879795543</td>\n    </tr>\n    <tr>\n      <th>99997</th>\n      <td>276</td>\n      <td>1090</td>\n      <td>1</td>\n      <td>874795795</td>\n    </tr>\n    <tr>\n      <th>99998</th>\n      <td>13</td>\n      <td>225</td>\n      <td>2</td>\n      <td>882399156</td>\n    </tr>\n    <tr>\n      <th>99999</th>\n      <td>12</td>\n      <td>203</td>\n      <td>3</td>\n      <td>879959583</td>\n    </tr>\n  </tbody>\n</table>\n<p>100000 rows × 4 columns</p>\n</div>"
     },
     "execution_count": 4,
     "metadata": {},
     "output_type": "execute_result"
    }
   ],
   "source": [
    "#加载评分信息\n",
    "#指定列名称user id | item id | rating | timestamp\n",
    "rating_cols = ['user_id','movie_id','rating','timestamp']\n",
    "ratings = pd.read_csv('ml-100k/u.data',sep='\\t',names=rating_cols)\n",
    "ratings"
   ]
  },
  {
   "cell_type": "code",
   "execution_count": 5,
   "metadata": {
    "ExecuteTime": {
     "end_time": "2023-10-01T03:28:03.557047Z",
     "start_time": "2023-10-01T03:28:03.480562Z"
    }
   },
   "outputs": [
    {
     "data": {
      "text/plain": "       user_id  age gender  occupation zip_code  movie_id  rating  timestamp\n0            1   24      M  technician    85711        61       4  878542420\n1            1   24      M  technician    85711       189       3  888732928\n2            1   24      M  technician    85711        33       4  878542699\n3            1   24      M  technician    85711       160       4  875072547\n4            1   24      M  technician    85711        20       4  887431883\n...        ...  ...    ...         ...      ...       ...     ...        ...\n99995      943   22      M     student    77841       415       1  888640027\n99996      943   22      M     student    77841       219       4  888639575\n99997      943   22      M     student    77841       796       3  888640311\n99998      943   22      M     student    77841       739       4  888639929\n99999      943   22      M     student    77841       391       2  888640291\n\n[100000 rows x 8 columns]",
      "text/html": "<div>\n<style scoped>\n    .dataframe tbody tr th:only-of-type {\n        vertical-align: middle;\n    }\n\n    .dataframe tbody tr th {\n        vertical-align: top;\n    }\n\n    .dataframe thead th {\n        text-align: right;\n    }\n</style>\n<table border=\"1\" class=\"dataframe\">\n  <thead>\n    <tr style=\"text-align: right;\">\n      <th></th>\n      <th>user_id</th>\n      <th>age</th>\n      <th>gender</th>\n      <th>occupation</th>\n      <th>zip_code</th>\n      <th>movie_id</th>\n      <th>rating</th>\n      <th>timestamp</th>\n    </tr>\n  </thead>\n  <tbody>\n    <tr>\n      <th>0</th>\n      <td>1</td>\n      <td>24</td>\n      <td>M</td>\n      <td>technician</td>\n      <td>85711</td>\n      <td>61</td>\n      <td>4</td>\n      <td>878542420</td>\n    </tr>\n    <tr>\n      <th>1</th>\n      <td>1</td>\n      <td>24</td>\n      <td>M</td>\n      <td>technician</td>\n      <td>85711</td>\n      <td>189</td>\n      <td>3</td>\n      <td>888732928</td>\n    </tr>\n    <tr>\n      <th>2</th>\n      <td>1</td>\n      <td>24</td>\n      <td>M</td>\n      <td>technician</td>\n      <td>85711</td>\n      <td>33</td>\n      <td>4</td>\n      <td>878542699</td>\n    </tr>\n    <tr>\n      <th>3</th>\n      <td>1</td>\n      <td>24</td>\n      <td>M</td>\n      <td>technician</td>\n      <td>85711</td>\n      <td>160</td>\n      <td>4</td>\n      <td>875072547</td>\n    </tr>\n    <tr>\n      <th>4</th>\n      <td>1</td>\n      <td>24</td>\n      <td>M</td>\n      <td>technician</td>\n      <td>85711</td>\n      <td>20</td>\n      <td>4</td>\n      <td>887431883</td>\n    </tr>\n    <tr>\n      <th>...</th>\n      <td>...</td>\n      <td>...</td>\n      <td>...</td>\n      <td>...</td>\n      <td>...</td>\n      <td>...</td>\n      <td>...</td>\n      <td>...</td>\n    </tr>\n    <tr>\n      <th>99995</th>\n      <td>943</td>\n      <td>22</td>\n      <td>M</td>\n      <td>student</td>\n      <td>77841</td>\n      <td>415</td>\n      <td>1</td>\n      <td>888640027</td>\n    </tr>\n    <tr>\n      <th>99996</th>\n      <td>943</td>\n      <td>22</td>\n      <td>M</td>\n      <td>student</td>\n      <td>77841</td>\n      <td>219</td>\n      <td>4</td>\n      <td>888639575</td>\n    </tr>\n    <tr>\n      <th>99997</th>\n      <td>943</td>\n      <td>22</td>\n      <td>M</td>\n      <td>student</td>\n      <td>77841</td>\n      <td>796</td>\n      <td>3</td>\n      <td>888640311</td>\n    </tr>\n    <tr>\n      <th>99998</th>\n      <td>943</td>\n      <td>22</td>\n      <td>M</td>\n      <td>student</td>\n      <td>77841</td>\n      <td>739</td>\n      <td>4</td>\n      <td>888639929</td>\n    </tr>\n    <tr>\n      <th>99999</th>\n      <td>943</td>\n      <td>22</td>\n      <td>M</td>\n      <td>student</td>\n      <td>77841</td>\n      <td>391</td>\n      <td>2</td>\n      <td>888640291</td>\n    </tr>\n  </tbody>\n</table>\n<p>100000 rows × 8 columns</p>\n</div>"
     },
     "execution_count": 5,
     "metadata": {},
     "output_type": "execute_result"
    }
   ],
   "source": [
    "#合并数据\n",
    "#用户和评分合并\n",
    "users_ratings = pd.merge(users,ratings)\n",
    "users_ratings"
   ]
  },
  {
   "cell_type": "code",
   "execution_count": 6,
   "metadata": {
    "ExecuteTime": {
     "end_time": "2023-10-01T03:28:03.624413Z",
     "start_time": "2023-10-01T03:28:03.506Z"
    }
   },
   "outputs": [
    {
     "data": {
      "text/plain": "       user_id  age gender  occupation zip_code  movie_id  rating  timestamp  \\\n0            1   24      M  technician    85711        61       4  878542420   \n1           13   47      M    educator    29206        61       4  882140552   \n2           18   35      F       other    37212        61       4  880130803   \n3           58   27      M  programmer    52246        61       5  884305271   \n4           59   49      M    educator    08403        61       4  888204597   \n...        ...  ...    ...         ...      ...       ...     ...        ...   \n99995      863   17      M     student    60089      1679       3  889289491   \n99996      863   17      M     student    60089      1678       1  889289570   \n99997      863   17      M     student    60089      1680       2  889289570   \n99998      896   28      M      writer    91505      1681       3  887160722   \n99999      916   27      M    engineer    N2L5N      1682       3  880845755   \n\n                                     movie_title release_date  \\\n0                     Three Colors: White (1994)  01-Jan-1994   \n1                     Three Colors: White (1994)  01-Jan-1994   \n2                     Three Colors: White (1994)  01-Jan-1994   \n3                     Three Colors: White (1994)  01-Jan-1994   \n4                     Three Colors: White (1994)  01-Jan-1994   \n...                                          ...          ...   \n99995                           B. Monkey (1998)  06-Feb-1998   \n99996                          Mat' i syn (1997)  06-Feb-1998   \n99997                       Sliding Doors (1998)  01-Jan-1998   \n99998                        You So Crazy (1994)  01-Jan-1994   \n99999  Scream of Stone (Schrei aus Stein) (1991)  08-Mar-1996   \n\n       video_release_date                                           IMDb_URL  \n0                     NaN  http://us.imdb.com/M/title-exact?Trzy%20kolory...  \n1                     NaN  http://us.imdb.com/M/title-exact?Trzy%20kolory...  \n2                     NaN  http://us.imdb.com/M/title-exact?Trzy%20kolory...  \n3                     NaN  http://us.imdb.com/M/title-exact?Trzy%20kolory...  \n4                     NaN  http://us.imdb.com/M/title-exact?Trzy%20kolory...  \n...                   ...                                                ...  \n99995                 NaN  http://us.imdb.com/M/title-exact?B%2E+Monkey+(...  \n99996                 NaN  http://us.imdb.com/M/title-exact?Mat%27+i+syn+...  \n99997                 NaN      http://us.imdb.com/Title?Sliding+Doors+(1998)  \n99998                 NaN  http://us.imdb.com/M/title-exact?You%20So%20Cr...  \n99999                 NaN  http://us.imdb.com/M/title-exact?Schrei%20aus%...  \n\n[100000 rows x 12 columns]",
      "text/html": "<div>\n<style scoped>\n    .dataframe tbody tr th:only-of-type {\n        vertical-align: middle;\n    }\n\n    .dataframe tbody tr th {\n        vertical-align: top;\n    }\n\n    .dataframe thead th {\n        text-align: right;\n    }\n</style>\n<table border=\"1\" class=\"dataframe\">\n  <thead>\n    <tr style=\"text-align: right;\">\n      <th></th>\n      <th>user_id</th>\n      <th>age</th>\n      <th>gender</th>\n      <th>occupation</th>\n      <th>zip_code</th>\n      <th>movie_id</th>\n      <th>rating</th>\n      <th>timestamp</th>\n      <th>movie_title</th>\n      <th>release_date</th>\n      <th>video_release_date</th>\n      <th>IMDb_URL</th>\n    </tr>\n  </thead>\n  <tbody>\n    <tr>\n      <th>0</th>\n      <td>1</td>\n      <td>24</td>\n      <td>M</td>\n      <td>technician</td>\n      <td>85711</td>\n      <td>61</td>\n      <td>4</td>\n      <td>878542420</td>\n      <td>Three Colors: White (1994)</td>\n      <td>01-Jan-1994</td>\n      <td>NaN</td>\n      <td>http://us.imdb.com/M/title-exact?Trzy%20kolory...</td>\n    </tr>\n    <tr>\n      <th>1</th>\n      <td>13</td>\n      <td>47</td>\n      <td>M</td>\n      <td>educator</td>\n      <td>29206</td>\n      <td>61</td>\n      <td>4</td>\n      <td>882140552</td>\n      <td>Three Colors: White (1994)</td>\n      <td>01-Jan-1994</td>\n      <td>NaN</td>\n      <td>http://us.imdb.com/M/title-exact?Trzy%20kolory...</td>\n    </tr>\n    <tr>\n      <th>2</th>\n      <td>18</td>\n      <td>35</td>\n      <td>F</td>\n      <td>other</td>\n      <td>37212</td>\n      <td>61</td>\n      <td>4</td>\n      <td>880130803</td>\n      <td>Three Colors: White (1994)</td>\n      <td>01-Jan-1994</td>\n      <td>NaN</td>\n      <td>http://us.imdb.com/M/title-exact?Trzy%20kolory...</td>\n    </tr>\n    <tr>\n      <th>3</th>\n      <td>58</td>\n      <td>27</td>\n      <td>M</td>\n      <td>programmer</td>\n      <td>52246</td>\n      <td>61</td>\n      <td>5</td>\n      <td>884305271</td>\n      <td>Three Colors: White (1994)</td>\n      <td>01-Jan-1994</td>\n      <td>NaN</td>\n      <td>http://us.imdb.com/M/title-exact?Trzy%20kolory...</td>\n    </tr>\n    <tr>\n      <th>4</th>\n      <td>59</td>\n      <td>49</td>\n      <td>M</td>\n      <td>educator</td>\n      <td>08403</td>\n      <td>61</td>\n      <td>4</td>\n      <td>888204597</td>\n      <td>Three Colors: White (1994)</td>\n      <td>01-Jan-1994</td>\n      <td>NaN</td>\n      <td>http://us.imdb.com/M/title-exact?Trzy%20kolory...</td>\n    </tr>\n    <tr>\n      <th>...</th>\n      <td>...</td>\n      <td>...</td>\n      <td>...</td>\n      <td>...</td>\n      <td>...</td>\n      <td>...</td>\n      <td>...</td>\n      <td>...</td>\n      <td>...</td>\n      <td>...</td>\n      <td>...</td>\n      <td>...</td>\n    </tr>\n    <tr>\n      <th>99995</th>\n      <td>863</td>\n      <td>17</td>\n      <td>M</td>\n      <td>student</td>\n      <td>60089</td>\n      <td>1679</td>\n      <td>3</td>\n      <td>889289491</td>\n      <td>B. Monkey (1998)</td>\n      <td>06-Feb-1998</td>\n      <td>NaN</td>\n      <td>http://us.imdb.com/M/title-exact?B%2E+Monkey+(...</td>\n    </tr>\n    <tr>\n      <th>99996</th>\n      <td>863</td>\n      <td>17</td>\n      <td>M</td>\n      <td>student</td>\n      <td>60089</td>\n      <td>1678</td>\n      <td>1</td>\n      <td>889289570</td>\n      <td>Mat' i syn (1997)</td>\n      <td>06-Feb-1998</td>\n      <td>NaN</td>\n      <td>http://us.imdb.com/M/title-exact?Mat%27+i+syn+...</td>\n    </tr>\n    <tr>\n      <th>99997</th>\n      <td>863</td>\n      <td>17</td>\n      <td>M</td>\n      <td>student</td>\n      <td>60089</td>\n      <td>1680</td>\n      <td>2</td>\n      <td>889289570</td>\n      <td>Sliding Doors (1998)</td>\n      <td>01-Jan-1998</td>\n      <td>NaN</td>\n      <td>http://us.imdb.com/Title?Sliding+Doors+(1998)</td>\n    </tr>\n    <tr>\n      <th>99998</th>\n      <td>896</td>\n      <td>28</td>\n      <td>M</td>\n      <td>writer</td>\n      <td>91505</td>\n      <td>1681</td>\n      <td>3</td>\n      <td>887160722</td>\n      <td>You So Crazy (1994)</td>\n      <td>01-Jan-1994</td>\n      <td>NaN</td>\n      <td>http://us.imdb.com/M/title-exact?You%20So%20Cr...</td>\n    </tr>\n    <tr>\n      <th>99999</th>\n      <td>916</td>\n      <td>27</td>\n      <td>M</td>\n      <td>engineer</td>\n      <td>N2L5N</td>\n      <td>1682</td>\n      <td>3</td>\n      <td>880845755</td>\n      <td>Scream of Stone (Schrei aus Stein) (1991)</td>\n      <td>08-Mar-1996</td>\n      <td>NaN</td>\n      <td>http://us.imdb.com/M/title-exact?Schrei%20aus%...</td>\n    </tr>\n  </tbody>\n</table>\n<p>100000 rows × 12 columns</p>\n</div>"
     },
     "execution_count": 6,
     "metadata": {},
     "output_type": "execute_result"
    }
   ],
   "source": [
    "#用户和评分合并 后的数据  与电影数据进行合并\n",
    "data = pd.merge(users_ratings,movies)\n",
    "data"
   ]
  },
  {
   "cell_type": "markdown",
   "metadata": {},
   "source": [
    "基本信息描述"
   ]
  },
  {
   "cell_type": "code",
   "execution_count": 7,
   "metadata": {
    "ExecuteTime": {
     "end_time": "2023-10-01T03:28:03.626998Z",
     "start_time": "2023-10-01T03:28:03.533789Z"
    }
   },
   "outputs": [
    {
     "data": {
      "text/plain": "            user_id            age       movie_id         rating  \\\ncount  100000.00000  100000.000000  100000.000000  100000.000000   \nmean      462.48475      32.969850     425.530130       3.529860   \nstd       266.61442      11.562623     330.798356       1.125674   \nmin         1.00000       7.000000       1.000000       1.000000   \n25%       254.00000      24.000000     175.000000       3.000000   \n50%       447.00000      30.000000     322.000000       4.000000   \n75%       682.00000      40.000000     631.000000       4.000000   \nmax       943.00000      73.000000    1682.000000       5.000000   \n\n          timestamp  video_release_date  \ncount  1.000000e+05                 0.0  \nmean   8.835289e+08                 NaN  \nstd    5.343856e+06                 NaN  \nmin    8.747247e+08                 NaN  \n25%    8.794487e+08                 NaN  \n50%    8.828269e+08                 NaN  \n75%    8.882600e+08                 NaN  \nmax    8.932866e+08                 NaN  ",
      "text/html": "<div>\n<style scoped>\n    .dataframe tbody tr th:only-of-type {\n        vertical-align: middle;\n    }\n\n    .dataframe tbody tr th {\n        vertical-align: top;\n    }\n\n    .dataframe thead th {\n        text-align: right;\n    }\n</style>\n<table border=\"1\" class=\"dataframe\">\n  <thead>\n    <tr style=\"text-align: right;\">\n      <th></th>\n      <th>user_id</th>\n      <th>age</th>\n      <th>movie_id</th>\n      <th>rating</th>\n      <th>timestamp</th>\n      <th>video_release_date</th>\n    </tr>\n  </thead>\n  <tbody>\n    <tr>\n      <th>count</th>\n      <td>100000.00000</td>\n      <td>100000.000000</td>\n      <td>100000.000000</td>\n      <td>100000.000000</td>\n      <td>1.000000e+05</td>\n      <td>0.0</td>\n    </tr>\n    <tr>\n      <th>mean</th>\n      <td>462.48475</td>\n      <td>32.969850</td>\n      <td>425.530130</td>\n      <td>3.529860</td>\n      <td>8.835289e+08</td>\n      <td>NaN</td>\n    </tr>\n    <tr>\n      <th>std</th>\n      <td>266.61442</td>\n      <td>11.562623</td>\n      <td>330.798356</td>\n      <td>1.125674</td>\n      <td>5.343856e+06</td>\n      <td>NaN</td>\n    </tr>\n    <tr>\n      <th>min</th>\n      <td>1.00000</td>\n      <td>7.000000</td>\n      <td>1.000000</td>\n      <td>1.000000</td>\n      <td>8.747247e+08</td>\n      <td>NaN</td>\n    </tr>\n    <tr>\n      <th>25%</th>\n      <td>254.00000</td>\n      <td>24.000000</td>\n      <td>175.000000</td>\n      <td>3.000000</td>\n      <td>8.794487e+08</td>\n      <td>NaN</td>\n    </tr>\n    <tr>\n      <th>50%</th>\n      <td>447.00000</td>\n      <td>30.000000</td>\n      <td>322.000000</td>\n      <td>4.000000</td>\n      <td>8.828269e+08</td>\n      <td>NaN</td>\n    </tr>\n    <tr>\n      <th>75%</th>\n      <td>682.00000</td>\n      <td>40.000000</td>\n      <td>631.000000</td>\n      <td>4.000000</td>\n      <td>8.882600e+08</td>\n      <td>NaN</td>\n    </tr>\n    <tr>\n      <th>max</th>\n      <td>943.00000</td>\n      <td>73.000000</td>\n      <td>1682.000000</td>\n      <td>5.000000</td>\n      <td>8.932866e+08</td>\n      <td>NaN</td>\n    </tr>\n  </tbody>\n</table>\n</div>"
     },
     "execution_count": 7,
     "metadata": {},
     "output_type": "execute_result"
    }
   ],
   "source": [
    "#describe()\n",
    "data.describe()"
   ]
  },
  {
   "cell_type": "code",
   "execution_count": 8,
   "metadata": {
    "ExecuteTime": {
     "end_time": "2023-10-01T03:28:03.773701Z",
     "start_time": "2023-10-01T03:28:03.567322Z"
    }
   },
   "outputs": [
    {
     "data": {
      "text/plain": "<AxesSubplot:ylabel='gender'>"
     },
     "execution_count": 8,
     "metadata": {},
     "output_type": "execute_result"
    },
    {
     "data": {
      "text/plain": "<Figure size 432x288 with 1 Axes>",
      "image/png": "[encoded data removed]"
     },
     "metadata": {},
     "output_type": "display_data"
    }
   ],
   "source": [
    "#统计对电影评分男性和女性人数\n",
    "data['gender'].value_counts().plot(kind='pie',autopct='%.2f',fontsize=20)"
   ]
  },
  {
   "cell_type": "code",
   "execution_count": 9,
   "metadata": {
    "ExecuteTime": {
     "end_time": "2023-10-01T03:28:03.812321Z",
     "start_time": "2023-10-01T03:28:03.661861Z"
    }
   },
   "outputs": [
    {
     "data": {
      "text/plain": "(100000, 12)"
     },
     "execution_count": 9,
     "metadata": {},
     "output_type": "execute_result"
    }
   ],
   "source": [
    "#了解数据 缺值处理\n",
    "data.shape"
   ]
  },
  {
   "cell_type": "code",
   "execution_count": 10,
   "metadata": {
    "ExecuteTime": {
     "end_time": "2023-10-01T03:28:03.916986Z",
     "start_time": "2023-10-01T03:28:03.730283Z"
    }
   },
   "outputs": [
    {
     "name": "stdout",
     "output_type": "stream",
     "text": [
      "<class 'pandas.core.frame.DataFrame'>\n",
      "Int64Index: 100000 entries, 0 to 99999\n",
      "Data columns (total 12 columns):\n",
      " #   Column              Non-Null Count   Dtype  \n",
      "---  ------              --------------   -----  \n",
      " 0   user_id             100000 non-null  int64  \n",
      " 1   age                 100000 non-null  int64  \n",
      " 2   gender              100000 non-null  object \n",
      " 3   occupation          100000 non-null  object \n",
      " 4   zip_code            100000 non-null  object \n",
      " 5   movie_id            100000 non-null  int64  \n",
      " 6   rating              100000 non-null  int64  \n",
      " 7   timestamp           100000 non-null  int64  \n",
      " 8   movie_title         100000 non-null  object \n",
      " 9   release_date        99991 non-null   object \n",
      " 10  video_release_date  0 non-null       float64\n",
      " 11  IMDb_URL            99987 non-null   object \n",
      "dtypes: float64(1), int64(5), object(6)\n",
      "memory usage: 9.9+ MB\n"
     ]
    }
   ],
   "source": [
    "#每列是否有缺值\n",
    "data.info()"
   ]
  },
  {
   "cell_type": "code",
   "execution_count": 11,
   "metadata": {
    "ExecuteTime": {
     "end_time": "2023-10-01T03:28:03.950832Z",
     "start_time": "2023-10-01T03:28:03.805091Z"
    }
   },
   "outputs": [
    {
     "data": {
      "text/plain": "user_id                    0\nage                        0\ngender                     0\noccupation                 0\nzip_code                   0\nmovie_id                   0\nrating                     0\ntimestamp                  0\nmovie_title                0\nrelease_date               9\nvideo_release_date    100000\nIMDb_URL                  13\ndtype: int64"
     },
     "execution_count": 11,
     "metadata": {},
     "output_type": "execute_result"
    }
   ],
   "source": [
    "data.isnull().sum()"
   ]
  },
  {
   "cell_type": "code",
   "execution_count": 12,
   "metadata": {
    "ExecuteTime": {
     "end_time": "2023-10-01T03:28:03.956322Z",
     "start_time": "2023-10-01T03:28:03.812584Z"
    }
   },
   "outputs": [],
   "source": [
    "#删除video_release_date\n",
    "data.dropna(axis=1,how='all',inplace=True)"
   ]
  },
  {
   "cell_type": "code",
   "execution_count": 13,
   "metadata": {
    "ExecuteTime": {
     "end_time": "2023-10-01T03:28:03.994317Z",
     "start_time": "2023-10-01T03:28:03.899730Z"
    }
   },
   "outputs": [
    {
     "name": "stdout",
     "output_type": "stream",
     "text": [
      "<class 'pandas.core.frame.DataFrame'>\n",
      "Int64Index: 100000 entries, 0 to 99999\n",
      "Data columns (total 11 columns):\n",
      " #   Column        Non-Null Count   Dtype \n",
      "---  ------        --------------   ----- \n",
      " 0   user_id       100000 non-null  int64 \n",
      " 1   age           100000 non-null  int64 \n",
      " 2   gender        100000 non-null  object\n",
      " 3   occupation    100000 non-null  object\n",
      " 4   zip_code      100000 non-null  object\n",
      " 5   movie_id      100000 non-null  int64 \n",
      " 6   rating        100000 non-null  int64 \n",
      " 7   timestamp     100000 non-null  int64 \n",
      " 8   movie_title   100000 non-null  object\n",
      " 9   release_date  99991 non-null   object\n",
      " 10  IMDb_URL      99987 non-null   object\n",
      "dtypes: int64(5), object(6)\n",
      "memory usage: 9.2+ MB\n"
     ]
    }
   ],
   "source": [
    "data.info()"
   ]
  },
  {
   "cell_type": "code",
   "execution_count": 14,
   "metadata": {
    "ExecuteTime": {
     "end_time": "2023-10-01T03:28:04.058053Z",
     "start_time": "2023-10-01T03:28:03.976277Z"
    }
   },
   "outputs": [
    {
     "data": {
      "text/plain": "False"
     },
     "execution_count": 14,
     "metadata": {},
     "output_type": "execute_result"
    }
   ],
   "source": [
    "#查看是否有重复值\n",
    "# data.duplicated()\n",
    "data.duplicated().any()"
   ]
  },
  {
   "cell_type": "markdown",
   "metadata": {},
   "source": [
    "评分最多的电影"
   ]
  },
  {
   "cell_type": "code",
   "execution_count": 15,
   "metadata": {
    "ExecuteTime": {
     "end_time": "2023-10-01T03:28:04.061470Z",
     "start_time": "2023-10-01T03:28:04.037411Z"
    }
   },
   "outputs": [
    {
     "data": {
      "text/plain": "movie_title\nStar Wars (1977)                 583\nContact (1997)                   509\nFargo (1996)                     508\nReturn of the Jedi (1983)        507\nLiar Liar (1997)                 485\nEnglish Patient, The (1996)      481\nScream (1996)                    478\nToy Story (1995)                 452\nAir Force One (1997)             431\nIndependence Day (ID4) (1996)    429\nName: movie_title, dtype: int64"
     },
     "execution_count": 15,
     "metadata": {},
     "output_type": "execute_result"
    }
   ],
   "source": [
    "#获取每部电影的评分次数\n",
    "#按照电影标题进行分组统计次数\n",
    "data.groupby('movie_title')['movie_title'].count().sort_values(ascending=False).head(10)"
   ]
  },
  {
   "cell_type": "code",
   "execution_count": 16,
   "metadata": {
    "ExecuteTime": {
     "end_time": "2023-10-01T03:28:04.073647Z",
     "start_time": "2023-10-01T03:28:04.053506Z"
    }
   },
   "outputs": [
    {
     "data": {
      "text/plain": "movie_title\nStar Wars (1977)                 583\nContact (1997)                   509\nFargo (1996)                     508\nReturn of the Jedi (1983)        507\nLiar Liar (1997)                 485\nEnglish Patient, The (1996)      481\nScream (1996)                    478\nToy Story (1995)                 452\nAir Force One (1997)             431\nIndependence Day (ID4) (1996)    429\ndtype: int64"
     },
     "execution_count": 16,
     "metadata": {},
     "output_type": "execute_result"
    }
   ],
   "source": [
    "#size()统计次数\n",
    "data.groupby('movie_title').size().sort_values(ascending=False).head(10)"
   ]
  },
  {
   "cell_type": "code",
   "execution_count": 17,
   "metadata": {
    "ExecuteTime": {
     "end_time": "2023-10-01T03:28:04.114290Z",
     "start_time": "2023-10-01T03:28:04.068372Z"
    }
   },
   "outputs": [
    {
     "data": {
      "text/plain": "Star Wars (1977)                 583\nContact (1997)                   509\nFargo (1996)                     508\nReturn of the Jedi (1983)        507\nLiar Liar (1997)                 485\nEnglish Patient, The (1996)      481\nScream (1996)                    478\nToy Story (1995)                 452\nAir Force One (1997)             431\nIndependence Day (ID4) (1996)    429\nName: movie_title, dtype: int64"
     },
     "execution_count": 17,
     "metadata": {},
     "output_type": "execute_result"
    }
   ],
   "source": [
    "#或者使用value_counts()\n",
    "data['movie_title'].value_counts().head(10)"
   ]
  },
  {
   "cell_type": "code",
   "execution_count": 18,
   "metadata": {
    "ExecuteTime": {
     "end_time": "2023-10-01T03:28:04.213274Z",
     "start_time": "2023-10-01T03:28:04.078833Z"
    }
   },
   "outputs": [
    {
     "data": {
      "text/plain": "<AxesSubplot:>"
     },
     "execution_count": 18,
     "metadata": {},
     "output_type": "execute_result"
    },
    {
     "data": {
      "text/plain": "<Figure size 864x432 with 1 Axes>",
      "image/png": "[encoded data removed]"
     },
     "metadata": {
      "needs_background": "light"
     },
     "output_type": "display_data"
    }
   ],
   "source": [
    "#绘制条形图\n",
    "data['movie_title'].value_counts().head(10).plot(kind='bar',figsize=(12,6))"
   ]
  },
  {
   "cell_type": "markdown",
   "metadata": {},
   "source": [
    "评分最高的电影"
   ]
  },
  {
   "cell_type": "code",
   "execution_count": 19,
   "metadata": {
    "ExecuteTime": {
     "end_time": "2023-10-01T03:28:04.231738Z",
     "start_time": "2023-10-01T03:28:04.218047Z"
    }
   },
   "outputs": [
    {
     "data": {
      "text/plain": "movie_title\nThey Made Me a Criminal (1939)                       5.0\nMarlene Dietrich: Shadow and Light (1996)            5.0\nSaint of Fort Washington, The (1993)                 5.0\nSomeone Else's America (1995)                        5.0\nStar Kid (1997)                                      5.0\nGreat Day in Harlem, A (1994)                        5.0\nAiqing wansui (1994)                                 5.0\nSanta with Muscles (1996)                            5.0\nPrefontaine (1997)                                   5.0\nEntertaining Angels: The Dorothy Day Story (1996)    5.0\nName: rating, dtype: float64"
     },
     "execution_count": 19,
     "metadata": {},
     "output_type": "execute_result"
    }
   ],
   "source": [
    "#按电影名称进行分组  评分均值\n",
    "data.groupby('movie_title')['rating'].mean().sort_values(ascending=False).head(10)"
   ]
  },
  {
   "cell_type": "code",
   "execution_count": 20,
   "metadata": {
    "ExecuteTime": {
     "end_time": "2023-10-01T03:28:04.295646Z",
     "start_time": "2023-10-01T03:28:04.232300Z"
    }
   },
   "outputs": [
    {
     "data": {
      "text/plain": "                                                   count  mean\nmovie_title                                                   \nPrefontaine (1997)                                     3   5.0\nStar Kid (1997)                                        3   5.0\nSaint of Fort Washington, The (1993)                   2   5.0\nSanta with Muscles (1996)                              2   5.0\nAiqing wansui (1994)                                   1   5.0\nEntertaining Angels: The Dorothy Day Story (1996)      1   5.0\nGreat Day in Harlem, A (1994)                          1   5.0\nMarlene Dietrich: Shadow and Light (1996)              1   5.0\nSomeone Else's America (1995)                          1   5.0\nThey Made Me a Criminal (1939)                         1   5.0",
      "text/html": "<div>\n<style scoped>\n    .dataframe tbody tr th:only-of-type {\n        vertical-align: middle;\n    }\n\n    .dataframe tbody tr th {\n        vertical-align: top;\n    }\n\n    .dataframe thead th {\n        text-align: right;\n    }\n</style>\n<table border=\"1\" class=\"dataframe\">\n  <thead>\n    <tr style=\"text-align: right;\">\n      <th></th>\n      <th>count</th>\n      <th>mean</th>\n    </tr>\n    <tr>\n      <th>movie_title</th>\n      <th></th>\n      <th></th>\n    </tr>\n  </thead>\n  <tbody>\n    <tr>\n      <th>Prefontaine (1997)</th>\n      <td>3</td>\n      <td>5.0</td>\n    </tr>\n    <tr>\n      <th>Star Kid (1997)</th>\n      <td>3</td>\n      <td>5.0</td>\n    </tr>\n    <tr>\n      <th>Saint of Fort Washington, The (1993)</th>\n      <td>2</td>\n      <td>5.0</td>\n    </tr>\n    <tr>\n      <th>Santa with Muscles (1996)</th>\n      <td>2</td>\n      <td>5.0</td>\n    </tr>\n    <tr>\n      <th>Aiqing wansui (1994)</th>\n      <td>1</td>\n      <td>5.0</td>\n    </tr>\n    <tr>\n      <th>Entertaining Angels: The Dorothy Day Story (1996)</th>\n      <td>1</td>\n      <td>5.0</td>\n    </tr>\n    <tr>\n      <th>Great Day in Harlem, A (1994)</th>\n      <td>1</td>\n      <td>5.0</td>\n    </tr>\n    <tr>\n      <th>Marlene Dietrich: Shadow and Light (1996)</th>\n      <td>1</td>\n      <td>5.0</td>\n    </tr>\n    <tr>\n      <th>Someone Else's America (1995)</th>\n      <td>1</td>\n      <td>5.0</td>\n    </tr>\n    <tr>\n      <th>They Made Me a Criminal (1939)</th>\n      <td>1</td>\n      <td>5.0</td>\n    </tr>\n  </tbody>\n</table>\n</div>"
     },
     "execution_count": 20,
     "metadata": {},
     "output_type": "execute_result"
    }
   ],
   "source": [
    "#获取评分人数\n",
    "data.groupby('movie_title')['rating'].agg(['count','mean']).sort_values(by=['mean','count'],ascending=False).head(10)"
   ]
  },
  {
   "cell_type": "code",
   "execution_count": 21,
   "metadata": {
    "ExecuteTime": {
     "end_time": "2023-10-01T03:28:04.296177Z",
     "start_time": "2023-10-01T03:28:04.250887Z"
    }
   },
   "outputs": [
    {
     "data": {
      "text/plain": "                                       count      mean\nmovie_title                                           \n'Til There Was You (1997)                  9  2.333333\n1-900 (1994)                               5  2.600000\n101 Dalmatians (1996)                    109  2.908257\n12 Angry Men (1957)                      125  4.344000\n187 (1997)                                41  3.024390\n...                                      ...       ...\nYoung Guns II (1990)                      44  2.772727\nYoung Poisoner's Handbook, The (1995)     41  3.341463\nZeus and Roxanne (1997)                    6  2.166667\nunknown                                    9  3.444444\nÁ köldum klaka (Cold Fever) (1994)         1  3.000000\n\n[1664 rows x 2 columns]",
      "text/html": "<div>\n<style scoped>\n    .dataframe tbody tr th:only-of-type {\n        vertical-align: middle;\n    }\n\n    .dataframe tbody tr th {\n        vertical-align: top;\n    }\n\n    .dataframe thead th {\n        text-align: right;\n    }\n</style>\n<table border=\"1\" class=\"dataframe\">\n  <thead>\n    <tr style=\"text-align: right;\">\n      <th></th>\n      <th>count</th>\n      <th>mean</th>\n    </tr>\n    <tr>\n      <th>movie_title</th>\n      <th></th>\n      <th></th>\n    </tr>\n  </thead>\n  <tbody>\n    <tr>\n      <th>'Til There Was You (1997)</th>\n      <td>9</td>\n      <td>2.333333</td>\n    </tr>\n    <tr>\n      <th>1-900 (1994)</th>\n      <td>5</td>\n      <td>2.600000</td>\n    </tr>\n    <tr>\n      <th>101 Dalmatians (1996)</th>\n      <td>109</td>\n      <td>2.908257</td>\n    </tr>\n    <tr>\n      <th>12 Angry Men (1957)</th>\n      <td>125</td>\n      <td>4.344000</td>\n    </tr>\n    <tr>\n      <th>187 (1997)</th>\n      <td>41</td>\n      <td>3.024390</td>\n    </tr>\n    <tr>\n      <th>...</th>\n      <td>...</td>\n      <td>...</td>\n    </tr>\n    <tr>\n      <th>Young Guns II (1990)</th>\n      <td>44</td>\n      <td>2.772727</td>\n    </tr>\n    <tr>\n      <th>Young Poisoner's Handbook, The (1995)</th>\n      <td>41</td>\n      <td>3.341463</td>\n    </tr>\n    <tr>\n      <th>Zeus and Roxanne (1997)</th>\n      <td>6</td>\n      <td>2.166667</td>\n    </tr>\n    <tr>\n      <th>unknown</th>\n      <td>9</td>\n      <td>3.444444</td>\n    </tr>\n    <tr>\n      <th>Á köldum klaka (Cold Fever) (1994)</th>\n      <td>1</td>\n      <td>3.000000</td>\n    </tr>\n  </tbody>\n</table>\n<p>1664 rows × 2 columns</p>\n</div>"
     },
     "execution_count": 21,
     "metadata": {},
     "output_type": "execute_result"
    }
   ],
   "source": [
    "#评分人数要大于100 获取评分最高的电影\n",
    "data.groupby('movie_title').agg({'rating':['count','mean']})['rating']"
   ]
  },
  {
   "cell_type": "code",
   "execution_count": 22,
   "metadata": {
    "ExecuteTime": {
     "end_time": "2023-10-01T03:28:04.296306Z",
     "start_time": "2023-10-01T03:28:04.270585Z"
    }
   },
   "outputs": [],
   "source": [
    "data_group = data.groupby('movie_title')['rating'].agg(['count','mean'])"
   ]
  },
  {
   "cell_type": "code",
   "execution_count": 23,
   "metadata": {
    "ExecuteTime": {
     "end_time": "2023-10-01T03:28:04.296393Z",
     "start_time": "2023-10-01T03:28:04.281859Z"
    }
   },
   "outputs": [],
   "source": [
    "#过滤 评分人数大于100\n",
    "most_100 = data_group[data_group['count']>100]"
   ]
  },
  {
   "cell_type": "code",
   "execution_count": 24,
   "metadata": {
    "ExecuteTime": {
     "end_time": "2023-10-01T03:28:04.296917Z",
     "start_time": "2023-10-01T03:28:04.286184Z"
    }
   },
   "outputs": [],
   "source": [
    "#先按评分均值 再人数进行降序排序\n",
    "top_10 = most_100.sort_values(by=['mean','count'],ascending=False).head(10)"
   ]
  },
  {
   "cell_type": "code",
   "execution_count": 25,
   "metadata": {
    "ExecuteTime": {
     "end_time": "2023-10-01T03:28:04.519431Z",
     "start_time": "2023-10-01T03:28:04.292352Z"
    }
   },
   "outputs": [
    {
     "data": {
      "text/plain": "<AxesSubplot:xlabel='movie_title'>"
     },
     "execution_count": 25,
     "metadata": {},
     "output_type": "execute_result"
    },
    {
     "data": {
      "text/plain": "<Figure size 432x288 with 1 Axes>",
      "image/png": "[encoded data removed]"
     },
     "metadata": {
      "needs_background": "light"
     },
     "output_type": "display_data"
    }
   ],
   "source": [
    "#使用条形图绘制\n",
    "top_10['mean'].plot(kind='bar')"
   ]
  },
  {
   "cell_type": "code",
   "execution_count": 26,
   "metadata": {
    "ExecuteTime": {
     "end_time": "2023-10-01T03:28:04.519966Z",
     "start_time": "2023-10-01T03:28:04.428696Z"
    }
   },
   "outputs": [
    {
     "data": {
      "text/plain": "                                  count      mean\nmovie_title                                      \nClose Shave, A (1995)               112  4.491071\nSchindler's List (1993)             298  4.466443\nWrong Trousers, The (1993)          118  4.466102\nCasablanca (1942)                   243  4.456790\nShawshank Redemption, The (1994)    283  4.445230\nRear Window (1954)                  209  4.387560\nUsual Suspects, The (1995)          267  4.385768\nStar Wars (1977)                    583  4.358491\n12 Angry Men (1957)                 125  4.344000\nCitizen Kane (1941)                 198  4.292929",
      "text/html": "<div>\n<style scoped>\n    .dataframe tbody tr th:only-of-type {\n        vertical-align: middle;\n    }\n\n    .dataframe tbody tr th {\n        vertical-align: top;\n    }\n\n    .dataframe thead th {\n        text-align: right;\n    }\n</style>\n<table border=\"1\" class=\"dataframe\">\n  <thead>\n    <tr style=\"text-align: right;\">\n      <th></th>\n      <th>count</th>\n      <th>mean</th>\n    </tr>\n    <tr>\n      <th>movie_title</th>\n      <th></th>\n      <th></th>\n    </tr>\n  </thead>\n  <tbody>\n    <tr>\n      <th>Close Shave, A (1995)</th>\n      <td>112</td>\n      <td>4.491071</td>\n    </tr>\n    <tr>\n      <th>Schindler's List (1993)</th>\n      <td>298</td>\n      <td>4.466443</td>\n    </tr>\n    <tr>\n      <th>Wrong Trousers, The (1993)</th>\n      <td>118</td>\n      <td>4.466102</td>\n    </tr>\n    <tr>\n      <th>Casablanca (1942)</th>\n      <td>243</td>\n      <td>4.456790</td>\n    </tr>\n    <tr>\n      <th>Shawshank Redemption, The (1994)</th>\n      <td>283</td>\n      <td>4.445230</td>\n    </tr>\n    <tr>\n      <th>Rear Window (1954)</th>\n      <td>209</td>\n      <td>4.387560</td>\n    </tr>\n    <tr>\n      <th>Usual Suspects, The (1995)</th>\n      <td>267</td>\n      <td>4.385768</td>\n    </tr>\n    <tr>\n      <th>Star Wars (1977)</th>\n      <td>583</td>\n      <td>4.358491</td>\n    </tr>\n    <tr>\n      <th>12 Angry Men (1957)</th>\n      <td>125</td>\n      <td>4.344000</td>\n    </tr>\n    <tr>\n      <th>Citizen Kane (1941)</th>\n      <td>198</td>\n      <td>4.292929</td>\n    </tr>\n  </tbody>\n</table>\n</div>"
     },
     "execution_count": 26,
     "metadata": {},
     "output_type": "execute_result"
    }
   ],
   "source": [
    "top_10"
   ]
  },
  {
   "cell_type": "markdown",
   "metadata": {},
   "source": [
    "评分与年龄的关系"
   ]
  },
  {
   "cell_type": "code",
   "execution_count": 27,
   "metadata": {
    "ExecuteTime": {
     "end_time": "2023-10-01T03:28:04.520761Z",
     "start_time": "2023-10-01T03:28:04.433024Z"
    }
   },
   "outputs": [
    {
     "data": {
      "text/plain": "count    100000.000000\nmean         32.969850\nstd          11.562623\nmin           7.000000\n25%          24.000000\n50%          30.000000\n75%          40.000000\nmax          73.000000\nName: age, dtype: float64"
     },
     "execution_count": 27,
     "metadata": {},
     "output_type": "execute_result"
    }
   ],
   "source": [
    "#年龄的分布\n",
    "data['age'].describe()"
   ]
  },
  {
   "cell_type": "code",
   "execution_count": 28,
   "metadata": {
    "ExecuteTime": {
     "end_time": "2023-10-01T03:28:04.683009Z",
     "start_time": "2023-10-01T03:28:04.452267Z"
    }
   },
   "outputs": [
    {
     "data": {
      "text/plain": "<AxesSubplot:ylabel='Frequency'>"
     },
     "execution_count": 28,
     "metadata": {},
     "output_type": "execute_result"
    },
    {
     "data": {
      "text/plain": "<Figure size 864x576 with 1 Axes>",
      "image/png": "[encoded data removed]"
     },
     "metadata": {
      "needs_background": "light"
     },
     "output_type": "display_data"
    }
   ],
   "source": [
    "#绘制直方图\n",
    "data['age'].plot(kind='hist',bins=30,figsize=(12,8))"
   ]
  },
  {
   "cell_type": "code",
   "execution_count": 29,
   "metadata": {
    "ExecuteTime": {
     "end_time": "2023-10-01T03:28:04.683760Z",
     "start_time": "2023-10-01T03:28:04.617842Z"
    }
   },
   "outputs": [
    {
     "data": {
      "text/plain": "0        [20, 30)\n1        [40, 50)\n2        [30, 40)\n3        [20, 30)\n4        [40, 50)\n           ...   \n99995    [10, 20)\n99996    [10, 20)\n99997    [10, 20)\n99998    [20, 30)\n99999    [20, 30)\nName: age, Length: 100000, dtype: category\nCategories (8, interval[int64, left]): [[0, 10) < [10, 20) < [20, 30) < [30, 40) < [40, 50) < [50, 60) < [60, 70) < [70, 80)]"
     },
     "execution_count": 29,
     "metadata": {},
     "output_type": "execute_result"
    }
   ],
   "source": [
    "#自定义区间 [0-9,10-19]\n",
    "# np.arange(0,81,10)\n",
    "pd.cut(data['age'],np.arange(0,81,10),right=False)"
   ]
  },
  {
   "cell_type": "code",
   "execution_count": 30,
   "metadata": {
    "ExecuteTime": {
     "end_time": "2023-10-01T03:28:04.683880Z",
     "start_time": "2023-10-01T03:28:04.627945Z"
    }
   },
   "outputs": [],
   "source": [
    "#新增列\n",
    "data['age_group'] =pd.cut(data['age'],np.arange(0,81,10),right=False)"
   ]
  },
  {
   "cell_type": "code",
   "execution_count": 31,
   "metadata": {
    "ExecuteTime": {
     "end_time": "2023-10-01T03:28:04.684243Z",
     "start_time": "2023-10-01T03:28:04.639116Z"
    }
   },
   "outputs": [
    {
     "data": {
      "text/plain": "0        [20, 30)\n1        [40, 50)\n2        [30, 40)\n3        [20, 30)\n4        [40, 50)\n           ...   \n99995    [10, 20)\n99996    [10, 20)\n99997    [10, 20)\n99998    [20, 30)\n99999    [20, 30)\nName: age_group, Length: 100000, dtype: category\nCategories (8, interval[int64, left]): [[0, 10) < [10, 20) < [20, 30) < [30, 40) < [40, 50) < [50, 60) < [60, 70) < [70, 80)]"
     },
     "execution_count": 31,
     "metadata": {},
     "output_type": "execute_result"
    }
   ],
   "source": [
    "data['age_group']"
   ]
  },
  {
   "cell_type": "code",
   "execution_count": 32,
   "metadata": {
    "ExecuteTime": {
     "end_time": "2023-10-01T03:28:04.684631Z",
     "start_time": "2023-10-01T03:28:04.642326Z"
    }
   },
   "outputs": [
    {
     "data": {
      "text/plain": "      age_group  rating\n0      [20, 30)       4\n1      [40, 50)       4\n2      [30, 40)       4\n3      [20, 30)       5\n4      [40, 50)       4\n...         ...     ...\n99995  [10, 20)       3\n99996  [10, 20)       1\n99997  [10, 20)       2\n99998  [20, 30)       3\n99999  [20, 30)       3\n\n[100000 rows x 2 columns]",
      "text/html": "<div>\n<style scoped>\n    .dataframe tbody tr th:only-of-type {\n        vertical-align: middle;\n    }\n\n    .dataframe tbody tr th {\n        vertical-align: top;\n    }\n\n    .dataframe thead th {\n        text-align: right;\n    }\n</style>\n<table border=\"1\" class=\"dataframe\">\n  <thead>\n    <tr style=\"text-align: right;\">\n      <th></th>\n      <th>age_group</th>\n      <th>rating</th>\n    </tr>\n  </thead>\n  <tbody>\n    <tr>\n      <th>0</th>\n      <td>[20, 30)</td>\n      <td>4</td>\n    </tr>\n    <tr>\n      <th>1</th>\n      <td>[40, 50)</td>\n      <td>4</td>\n    </tr>\n    <tr>\n      <th>2</th>\n      <td>[30, 40)</td>\n      <td>4</td>\n    </tr>\n    <tr>\n      <th>3</th>\n      <td>[20, 30)</td>\n      <td>5</td>\n    </tr>\n    <tr>\n      <th>4</th>\n      <td>[40, 50)</td>\n      <td>4</td>\n    </tr>\n    <tr>\n      <th>...</th>\n      <td>...</td>\n      <td>...</td>\n    </tr>\n    <tr>\n      <th>99995</th>\n      <td>[10, 20)</td>\n      <td>3</td>\n    </tr>\n    <tr>\n      <th>99996</th>\n      <td>[10, 20)</td>\n      <td>1</td>\n    </tr>\n    <tr>\n      <th>99997</th>\n      <td>[10, 20)</td>\n      <td>2</td>\n    </tr>\n    <tr>\n      <th>99998</th>\n      <td>[20, 30)</td>\n      <td>3</td>\n    </tr>\n    <tr>\n      <th>99999</th>\n      <td>[20, 30)</td>\n      <td>3</td>\n    </tr>\n  </tbody>\n</table>\n<p>100000 rows × 2 columns</p>\n</div>"
     },
     "execution_count": 32,
     "metadata": {},
     "output_type": "execute_result"
    }
   ],
   "source": [
    "#不同年龄分组对评分和人数\n",
    "data[['age_group','rating']]"
   ]
  },
  {
   "cell_type": "code",
   "execution_count": 33,
   "metadata": {
    "ExecuteTime": {
     "end_time": "2023-10-01T03:28:04.686144Z",
     "start_time": "2023-10-01T03:28:04.659029Z"
    }
   },
   "outputs": [
    {
     "data": {
      "text/plain": "           count      mean\nage_group                 \n[0, 10)       43  3.767442\n[10, 20)    8181  3.486126\n[20, 30)   39535  3.467333\n[30, 40)   25696  3.554444\n[40, 50)   15021  3.591772\n[50, 60)    8704  3.635800\n[60, 70)    2623  3.648875\n[70, 80)     197  3.649746",
      "text/html": "<div>\n<style scoped>\n    .dataframe tbody tr th:only-of-type {\n        vertical-align: middle;\n    }\n\n    .dataframe tbody tr th {\n        vertical-align: top;\n    }\n\n    .dataframe thead th {\n        text-align: right;\n    }\n</style>\n<table border=\"1\" class=\"dataframe\">\n  <thead>\n    <tr style=\"text-align: right;\">\n      <th></th>\n      <th>count</th>\n      <th>mean</th>\n    </tr>\n    <tr>\n      <th>age_group</th>\n      <th></th>\n      <th></th>\n    </tr>\n  </thead>\n  <tbody>\n    <tr>\n      <th>[0, 10)</th>\n      <td>43</td>\n      <td>3.767442</td>\n    </tr>\n    <tr>\n      <th>[10, 20)</th>\n      <td>8181</td>\n      <td>3.486126</td>\n    </tr>\n    <tr>\n      <th>[20, 30)</th>\n      <td>39535</td>\n      <td>3.467333</td>\n    </tr>\n    <tr>\n      <th>[30, 40)</th>\n      <td>25696</td>\n      <td>3.554444</td>\n    </tr>\n    <tr>\n      <th>[40, 50)</th>\n      <td>15021</td>\n      <td>3.591772</td>\n    </tr>\n    <tr>\n      <th>[50, 60)</th>\n      <td>8704</td>\n      <td>3.635800</td>\n    </tr>\n    <tr>\n      <th>[60, 70)</th>\n      <td>2623</td>\n      <td>3.648875</td>\n    </tr>\n    <tr>\n      <th>[70, 80)</th>\n      <td>197</td>\n      <td>3.649746</td>\n    </tr>\n  </tbody>\n</table>\n</div>"
     },
     "execution_count": 33,
     "metadata": {},
     "output_type": "execute_result"
    }
   ],
   "source": [
    "#按age_group分组  统计人数  平均评分\n",
    "data.groupby('age_group')['rating'].agg(['count','mean'])\n",
    "#年龄越大的分组，对电影评分越高"
   ]
  },
  {
   "cell_type": "markdown",
   "metadata": {},
   "source": [
    "不同年龄段对某部电影的评分"
   ]
  },
  {
   "cell_type": "code",
   "execution_count": 34,
   "metadata": {
    "ExecuteTime": {
     "end_time": "2023-10-01T03:28:04.686424Z",
     "start_time": "2023-10-01T03:28:04.672693Z"
    }
   },
   "outputs": [
    {
     "data": {
      "text/plain": "Int64Index([ 50, 258, 100, 181, 294, 286, 288,   1, 300, 121, 174, 127,  56,\n              7,  98, 237, 117, 172, 222, 204, 313, 405,  79, 210, 151, 173,\n             69, 748, 168, 269, 257, 195, 423,   9, 276, 318,  22, 302,  96,\n            328, 118,  25,  15, 183, 216, 176,  64, 234, 202,  28, 191,  89,\n            111, 275, 742,  12, 357,  82, 289, 135,  97, 238, 268, 546,  70,\n            196, 186, 333, 475, 153, 132, 125, 228, 144, 483, 194, 323, 245,\n            197, 185,  11, 282, 496, 568, 301, 655, 265, 182, 273, 143, 471,\n            179, 180, 161,  71,  95,   8, 678, 427, 322],\n           dtype='int64')"
     },
     "execution_count": 34,
     "metadata": {},
     "output_type": "execute_result"
    }
   ],
   "source": [
    "#评分次数排在前100的电影\n",
    "most_100 = data['movie_id'].value_counts().head(100)\n",
    "#获取评分次数前100的movie_id\n",
    "most_100.index"
   ]
  },
  {
   "cell_type": "code",
   "execution_count": 35,
   "metadata": {
    "ExecuteTime": {
     "end_time": "2023-10-01T03:28:04.807570Z",
     "start_time": "2023-10-01T03:28:04.677525Z"
    }
   },
   "outputs": [
    {
     "data": {
      "text/plain": "          user_id  age gender  occupation zip_code  rating  timestamp  \\\nmovie_id                                                                \n61              1   24      M  technician    85711       4  878542420   \n61             13   47      M    educator    29206       4  882140552   \n61             18   35      F       other    37212       4  880130803   \n61             58   27      M  programmer    52246       5  884305271   \n61             59   49      M    educator    08403       4  888204597   \n...           ...  ...    ...         ...      ...     ...        ...   \n1679          863   17      M     student    60089       3  889289491   \n1678          863   17      M     student    60089       1  889289570   \n1680          863   17      M     student    60089       2  889289570   \n1681          896   28      M      writer    91505       3  887160722   \n1682          916   27      M    engineer    N2L5N       3  880845755   \n\n                                        movie_title release_date  \\\nmovie_id                                                           \n61                       Three Colors: White (1994)  01-Jan-1994   \n61                       Three Colors: White (1994)  01-Jan-1994   \n61                       Three Colors: White (1994)  01-Jan-1994   \n61                       Three Colors: White (1994)  01-Jan-1994   \n61                       Three Colors: White (1994)  01-Jan-1994   \n...                                             ...          ...   \n1679                               B. Monkey (1998)  06-Feb-1998   \n1678                              Mat' i syn (1997)  06-Feb-1998   \n1680                           Sliding Doors (1998)  01-Jan-1998   \n1681                            You So Crazy (1994)  01-Jan-1994   \n1682      Scream of Stone (Schrei aus Stein) (1991)  08-Mar-1996   \n\n                                                   IMDb_URL age_group  \nmovie_id                                                               \n61        http://us.imdb.com/M/title-exact?Trzy%20kolory...  [20, 30)  \n61        http://us.imdb.com/M/title-exact?Trzy%20kolory...  [40, 50)  \n61        http://us.imdb.com/M/title-exact?Trzy%20kolory...  [30, 40)  \n61        http://us.imdb.com/M/title-exact?Trzy%20kolory...  [20, 30)  \n61        http://us.imdb.com/M/title-exact?Trzy%20kolory...  [40, 50)  \n...                                                     ...       ...  \n1679      http://us.imdb.com/M/title-exact?B%2E+Monkey+(...  [10, 20)  \n1678      http://us.imdb.com/M/title-exact?Mat%27+i+syn+...  [10, 20)  \n1680          http://us.imdb.com/Title?Sliding+Doors+(1998)  [10, 20)  \n1681      http://us.imdb.com/M/title-exact?You%20So%20Cr...  [20, 30)  \n1682      http://us.imdb.com/M/title-exact?Schrei%20aus%...  [20, 30)  \n\n[100000 rows x 11 columns]",
      "text/html": "<div>\n<style scoped>\n    .dataframe tbody tr th:only-of-type {\n        vertical-align: middle;\n    }\n\n    .dataframe tbody tr th {\n        vertical-align: top;\n    }\n\n    .dataframe thead th {\n        text-align: right;\n    }\n</style>\n<table border=\"1\" class=\"dataframe\">\n  <thead>\n    <tr style=\"text-align: right;\">\n      <th></th>\n      <th>user_id</th>\n      <th>age</th>\n      <th>gender</th>\n      <th>occupation</th>\n      <th>zip_code</th>\n      <th>rating</th>\n      <th>timestamp</th>\n      <th>movie_title</th>\n      <th>release_date</th>\n      <th>IMDb_URL</th>\n      <th>age_group</th>\n    </tr>\n    <tr>\n      <th>movie_id</th>\n      <th></th>\n      <th></th>\n      <th></th>\n      <th></th>\n      <th></th>\n      <th></th>\n      <th></th>\n      <th></th>\n      <th></th>\n      <th></th>\n      <th></th>\n    </tr>\n  </thead>\n  <tbody>\n    <tr>\n      <th>61</th>\n      <td>1</td>\n      <td>24</td>\n      <td>M</td>\n      <td>technician</td>\n      <td>85711</td>\n      <td>4</td>\n      <td>878542420</td>\n      <td>Three Colors: White (1994)</td>\n      <td>01-Jan-1994</td>\n      <td>http://us.imdb.com/M/title-exact?Trzy%20kolory...</td>\n      <td>[20, 30)</td>\n    </tr>\n    <tr>\n      <th>61</th>\n      <td>13</td>\n      <td>47</td>\n      <td>M</td>\n      <td>educator</td>\n      <td>29206</td>\n      <td>4</td>\n      <td>882140552</td>\n      <td>Three Colors: White (1994)</td>\n      <td>01-Jan-1994</td>\n      <td>http://us.imdb.com/M/title-exact?Trzy%20kolory...</td>\n      <td>[40, 50)</td>\n    </tr>\n    <tr>\n      <th>61</th>\n      <td>18</td>\n      <td>35</td>\n      <td>F</td>\n      <td>other</td>\n      <td>37212</td>\n      <td>4</td>\n      <td>880130803</td>\n      <td>Three Colors: White (1994)</td>\n      <td>01-Jan-1994</td>\n      <td>http://us.imdb.com/M/title-exact?Trzy%20kolory...</td>\n      <td>[30, 40)</td>\n    </tr>\n    <tr>\n      <th>61</th>\n      <td>58</td>\n      <td>27</td>\n      <td>M</td>\n      <td>programmer</td>\n      <td>52246</td>\n      <td>5</td>\n      <td>884305271</td>\n      <td>Three Colors: White (1994)</td>\n      <td>01-Jan-1994</td>\n      <td>http://us.imdb.com/M/title-exact?Trzy%20kolory...</td>\n      <td>[20, 30)</td>\n    </tr>\n    <tr>\n      <th>61</th>\n      <td>59</td>\n      <td>49</td>\n      <td>M</td>\n      <td>educator</td>\n      <td>08403</td>\n      <td>4</td>\n      <td>888204597</td>\n      <td>Three Colors: White (1994)</td>\n      <td>01-Jan-1994</td>\n      <td>http://us.imdb.com/M/title-exact?Trzy%20kolory...</td>\n      <td>[40, 50)</td>\n    </tr>\n    <tr>\n      <th>...</th>\n      <td>...</td>\n      <td>...</td>\n      <td>...</td>\n      <td>...</td>\n      <td>...</td>\n      <td>...</td>\n      <td>...</td>\n      <td>...</td>\n      <td>...</td>\n      <td>...</td>\n      <td>...</td>\n    </tr>\n    <tr>\n      <th>1679</th>\n      <td>863</td>\n      <td>17</td>\n      <td>M</td>\n      <td>student</td>\n      <td>60089</td>\n      <td>3</td>\n      <td>889289491</td>\n      <td>B. Monkey (1998)</td>\n      <td>06-Feb-1998</td>\n      <td>http://us.imdb.com/M/title-exact?B%2E+Monkey+(...</td>\n      <td>[10, 20)</td>\n    </tr>\n    <tr>\n      <th>1678</th>\n      <td>863</td>\n      <td>17</td>\n      <td>M</td>\n      <td>student</td>\n      <td>60089</td>\n      <td>1</td>\n      <td>889289570</td>\n      <td>Mat' i syn (1997)</td>\n      <td>06-Feb-1998</td>\n      <td>http://us.imdb.com/M/title-exact?Mat%27+i+syn+...</td>\n      <td>[10, 20)</td>\n    </tr>\n    <tr>\n      <th>1680</th>\n      <td>863</td>\n      <td>17</td>\n      <td>M</td>\n      <td>student</td>\n      <td>60089</td>\n      <td>2</td>\n      <td>889289570</td>\n      <td>Sliding Doors (1998)</td>\n      <td>01-Jan-1998</td>\n      <td>http://us.imdb.com/Title?Sliding+Doors+(1998)</td>\n      <td>[10, 20)</td>\n    </tr>\n    <tr>\n      <th>1681</th>\n      <td>896</td>\n      <td>28</td>\n      <td>M</td>\n      <td>writer</td>\n      <td>91505</td>\n      <td>3</td>\n      <td>887160722</td>\n      <td>You So Crazy (1994)</td>\n      <td>01-Jan-1994</td>\n      <td>http://us.imdb.com/M/title-exact?You%20So%20Cr...</td>\n      <td>[20, 30)</td>\n    </tr>\n    <tr>\n      <th>1682</th>\n      <td>916</td>\n      <td>27</td>\n      <td>M</td>\n      <td>engineer</td>\n      <td>N2L5N</td>\n      <td>3</td>\n      <td>880845755</td>\n      <td>Scream of Stone (Schrei aus Stein) (1991)</td>\n      <td>08-Mar-1996</td>\n      <td>http://us.imdb.com/M/title-exact?Schrei%20aus%...</td>\n      <td>[20, 30)</td>\n    </tr>\n  </tbody>\n</table>\n<p>100000 rows × 11 columns</p>\n</div>"
     },
     "execution_count": 35,
     "metadata": {},
     "output_type": "execute_result"
    }
   ],
   "source": [
    "#将movie_id 设置为行索引\n",
    "data2 = data.set_index('movie_id')\n",
    "data2"
   ]
  },
  {
   "cell_type": "code",
   "execution_count": 36,
   "metadata": {
    "ExecuteTime": {
     "end_time": "2023-10-01T03:28:04.808214Z",
     "start_time": "2023-10-01T03:28:04.696076Z"
    }
   },
   "outputs": [],
   "source": [
    "#获取评分次数前100的数据\n",
    "data_group = data2.loc[most_100.index].groupby(['movie_title','age_group'])"
   ]
  },
  {
   "cell_type": "code",
   "execution_count": 37,
   "metadata": {
    "ExecuteTime": {
     "end_time": "2023-10-01T03:28:04.847516Z",
     "start_time": "2023-10-01T03:28:04.727642Z"
    }
   },
   "outputs": [
    {
     "data": {
      "text/plain": "age_group                     [0, 10)  [10, 20)  [20, 30)  [30, 40)  [40, 50)  \\\nmovie_title                                                                     \n2001: A Space Odyssey (1968)      5.0  4.100000  3.924731  3.887500  4.093023   \nAir Force One (1997)              0.0  3.647059  3.666667  3.570000  3.555556   \nAladdin (1992)                    0.0  3.840000  3.820000  3.847458  3.769231   \nAlien (1979)                      0.0  4.111111  4.026087  4.103448  3.833333   \nAliens (1986)                     0.0  4.050000  4.087719  3.887640  3.526316   \nAmadeus (1984)                    0.0  4.250000  4.067308  4.236842  4.081633   \nApocalypse Now (1979)             0.0  4.400000  4.050633  4.132353  3.700000   \nApollo 13 (1995)                  4.0  3.954545  3.845455  4.064935  3.822222   \nBabe (1995)                       0.0  3.909091  3.894737  4.032258  4.060606   \nBack to the Future (1985)         0.0  4.037037  3.720588  3.915789  4.036364   \n\nage_group                     [50, 60)  [60, 70)  [70, 80)  \nmovie_title                                                 \n2001: A Space Odyssey (1968)  4.000000  4.285714  0.000000  \nAir Force One (1997)          3.750000  3.666667  3.666667  \nAladdin (1992)                3.571429  3.500000  0.000000  \nAlien (1979)                  4.272727  3.500000  4.000000  \nAliens (1986)                 4.235294  3.800000  3.000000  \nAmadeus (1984)                4.230769  4.750000  5.000000  \nApocalypse Now (1979)         4.187500  4.142857  5.000000  \nApollo 13 (1995)              4.187500  3.750000  4.000000  \nBabe (1995)                   4.150000  4.600000  3.000000  \nBack to the Future (1985)     3.500000  3.857143  4.000000  ",
      "text/html": "<div>\n<style scoped>\n    .dataframe tbody tr th:only-of-type {\n        vertical-align: middle;\n    }\n\n    .dataframe tbody tr th {\n        vertical-align: top;\n    }\n\n    .dataframe thead th {\n        text-align: right;\n    }\n</style>\n<table border=\"1\" class=\"dataframe\">\n  <thead>\n    <tr style=\"text-align: right;\">\n      <th>age_group</th>\n      <th>[0, 10)</th>\n      <th>[10, 20)</th>\n      <th>[20, 30)</th>\n      <th>[30, 40)</th>\n      <th>[40, 50)</th>\n      <th>[50, 60)</th>\n      <th>[60, 70)</th>\n      <th>[70, 80)</th>\n    </tr>\n    <tr>\n      <th>movie_title</th>\n      <th></th>\n      <th></th>\n      <th></th>\n      <th></th>\n      <th></th>\n      <th></th>\n      <th></th>\n      <th></th>\n    </tr>\n  </thead>\n  <tbody>\n    <tr>\n      <th>2001: A Space Odyssey (1968)</th>\n      <td>5.0</td>\n      <td>4.100000</td>\n      <td>3.924731</td>\n      <td>3.887500</td>\n      <td>4.093023</td>\n      <td>4.000000</td>\n      <td>4.285714</td>\n      <td>0.000000</td>\n    </tr>\n    <tr>\n      <th>Air Force One (1997)</th>\n      <td>0.0</td>\n      <td>3.647059</td>\n      <td>3.666667</td>\n      <td>3.570000</td>\n      <td>3.555556</td>\n      <td>3.750000</td>\n      <td>3.666667</td>\n      <td>3.666667</td>\n    </tr>\n    <tr>\n      <th>Aladdin (1992)</th>\n      <td>0.0</td>\n      <td>3.840000</td>\n      <td>3.820000</td>\n      <td>3.847458</td>\n      <td>3.769231</td>\n      <td>3.571429</td>\n      <td>3.500000</td>\n      <td>0.000000</td>\n    </tr>\n    <tr>\n      <th>Alien (1979)</th>\n      <td>0.0</td>\n      <td>4.111111</td>\n      <td>4.026087</td>\n      <td>4.103448</td>\n      <td>3.833333</td>\n      <td>4.272727</td>\n      <td>3.500000</td>\n      <td>4.000000</td>\n    </tr>\n    <tr>\n      <th>Aliens (1986)</th>\n      <td>0.0</td>\n      <td>4.050000</td>\n      <td>4.087719</td>\n      <td>3.887640</td>\n      <td>3.526316</td>\n      <td>4.235294</td>\n      <td>3.800000</td>\n      <td>3.000000</td>\n    </tr>\n    <tr>\n      <th>Amadeus (1984)</th>\n      <td>0.0</td>\n      <td>4.250000</td>\n      <td>4.067308</td>\n      <td>4.236842</td>\n      <td>4.081633</td>\n      <td>4.230769</td>\n      <td>4.750000</td>\n      <td>5.000000</td>\n    </tr>\n    <tr>\n      <th>Apocalypse Now (1979)</th>\n      <td>0.0</td>\n      <td>4.400000</td>\n      <td>4.050633</td>\n      <td>4.132353</td>\n      <td>3.700000</td>\n      <td>4.187500</td>\n      <td>4.142857</td>\n      <td>5.000000</td>\n    </tr>\n    <tr>\n      <th>Apollo 13 (1995)</th>\n      <td>4.0</td>\n      <td>3.954545</td>\n      <td>3.845455</td>\n      <td>4.064935</td>\n      <td>3.822222</td>\n      <td>4.187500</td>\n      <td>3.750000</td>\n      <td>4.000000</td>\n    </tr>\n    <tr>\n      <th>Babe (1995)</th>\n      <td>0.0</td>\n      <td>3.909091</td>\n      <td>3.894737</td>\n      <td>4.032258</td>\n      <td>4.060606</td>\n      <td>4.150000</td>\n      <td>4.600000</td>\n      <td>3.000000</td>\n    </tr>\n    <tr>\n      <th>Back to the Future (1985)</th>\n      <td>0.0</td>\n      <td>4.037037</td>\n      <td>3.720588</td>\n      <td>3.915789</td>\n      <td>4.036364</td>\n      <td>3.500000</td>\n      <td>3.857143</td>\n      <td>4.000000</td>\n    </tr>\n  </tbody>\n</table>\n</div>"
     },
     "execution_count": 37,
     "metadata": {},
     "output_type": "execute_result"
    }
   ],
   "source": [
    "#获取评分均值\n",
    "data_group['rating'].mean().unstack(1).fillna(0).head(10)"
   ]
  },
  {
   "cell_type": "code",
   "execution_count": 37,
   "metadata": {
    "ExecuteTime": {
     "end_time": "2023-10-01T03:28:04.847685Z",
     "start_time": "2023-10-01T03:28:04.793322Z"
    }
   },
   "outputs": [],
   "source": []
  }
 ],
 "metadata": {
  "interpreter": {
   "hash": "c8f2176ec1295039c2a44b661b567710e5baf7112c9d90ae889ab07ed400c256"
  },
  "kernelspec": {
   "display_name": "Python 3.10.1 ('python_env')",
   "language": "python",
   "name": "python3"
  },
  "language_info": {
   "codemirror_mode": {
    "name": "ipython",
    "version": 3
   },
   "file_extension": ".py",
   "mimetype": "text/x-python",
   "name": "python",
   "nbconvert_exporter": "python",
   "pygments_lexer": "ipython3",
   "version": "3.10.1"
  },
  "orig_nbformat": 4
 },
 "nbformat": 4,
 "nbformat_minor": 2
}
