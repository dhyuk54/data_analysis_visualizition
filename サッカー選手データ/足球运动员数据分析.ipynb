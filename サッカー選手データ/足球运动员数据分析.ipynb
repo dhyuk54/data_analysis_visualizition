{
 "cells": [
  {
   "cell_type": "code",
   "execution_count": 97,
   "metadata": {
    "ExecuteTime": {
     "end_time": "2023-10-01T03:30:39.487486Z",
     "start_time": "2023-10-01T03:30:38.577010Z"
    }
   },
   "outputs": [],
   "source": [
    "#导入模块\n",
    "\n",
    "import numpy as np\n",
    "import pandas as pd\n",
    "import matplotlib.pyplot as plt"
   ]
  },
  {
   "cell_type": "code",
   "execution_count": 104,
   "metadata": {
    "ExecuteTime": {
     "end_time": "2023-10-01T03:33:40.481955Z",
     "start_time": "2023-10-01T03:33:40.353552Z"
    }
   },
   "outputs": [
    {
     "data": {
      "text/plain": "                    Name          Nationality National_Position  National_Kit  \\\n0      Cristiano Ronaldo             Portugal                LS           7.0   \n1           Lionel Messi            Argentina                RW          10.0   \n2                 Neymar               Brazil                LW          10.0   \n3            Luis Suárez              Uruguay                LS           9.0   \n4           Manuel Neuer              Germany                GK           1.0   \n...                  ...                  ...               ...           ...   \n17583        Adam Dunbar  Republic of Ireland               NaN           NaN   \n17584       Dylan McGoey  Republic of Ireland               NaN           NaN   \n17585    Tommy Ouldridge              England               NaN           NaN   \n17586         Mark Foden             Scotland               NaN           NaN   \n17587   Barry Richardson              England               NaN           NaN   \n\n                 Club  ... GK_Positioning  GK_Diving GK_Kicking  GK_Handling  \\\n0         Real Madrid  ...             14          7         15           11   \n1        FC Barcelona  ...             14          6         15           11   \n2        FC Barcelona  ...             15          9         15            9   \n3        FC Barcelona  ...             33         27         31           25   \n4           FC Bayern  ...             91         89         95           90   \n...               ...  ...            ...        ...        ...          ...   \n17583  Wexford Youths  ...             39         44         52           41   \n17584   Longford Town  ...             47         39         46           46   \n17585    Swindon Town  ...             15          7         13           14   \n17586     Ross County  ...             40         45         44           43   \n17587         Wycombe  ...             58         37         37           51   \n\n       GK_Reflexes  \n0               11  \n1                8  \n2               11  \n3               37  \n4               89  \n...            ...  \n17583           46  \n17584           46  \n17585            7  \n17586           45  \n17587           33  \n\n[17588 rows x 53 columns]",
      "text/html": "<div>\n<style scoped>\n    .dataframe tbody tr th:only-of-type {\n        vertical-align: middle;\n    }\n\n    .dataframe tbody tr th {\n        vertical-align: top;\n    }\n\n    .dataframe thead th {\n        text-align: right;\n    }\n</style>\n<table border=\"1\" class=\"dataframe\">\n  <thead>\n    <tr style=\"text-align: right;\">\n      <th></th>\n      <th>Name</th>\n      <th>Nationality</th>\n      <th>National_Position</th>\n      <th>National_Kit</th>\n      <th>Club</th>\n      <th>...</th>\n      <th>GK_Positioning</th>\n      <th>GK_Diving</th>\n      <th>GK_Kicking</th>\n      <th>GK_Handling</th>\n      <th>GK_Reflexes</th>\n    </tr>\n  </thead>\n  <tbody>\n    <tr>\n      <th>0</th>\n      <td>Cristiano Ronaldo</td>\n      <td>Portugal</td>\n      <td>LS</td>\n      <td>7.0</td>\n      <td>Real Madrid</td>\n      <td>...</td>\n      <td>14</td>\n      <td>7</td>\n      <td>15</td>\n      <td>11</td>\n      <td>11</td>\n    </tr>\n    <tr>\n      <th>1</th>\n      <td>Lionel Messi</td>\n      <td>Argentina</td>\n      <td>RW</td>\n      <td>10.0</td>\n      <td>FC Barcelona</td>\n      <td>...</td>\n      <td>14</td>\n      <td>6</td>\n      <td>15</td>\n      <td>11</td>\n      <td>8</td>\n    </tr>\n    <tr>\n      <th>2</th>\n      <td>Neymar</td>\n      <td>Brazil</td>\n      <td>LW</td>\n      <td>10.0</td>\n      <td>FC Barcelona</td>\n      <td>...</td>\n      <td>15</td>\n      <td>9</td>\n      <td>15</td>\n      <td>9</td>\n      <td>11</td>\n    </tr>\n    <tr>\n      <th>3</th>\n      <td>Luis Suárez</td>\n      <td>Uruguay</td>\n      <td>LS</td>\n      <td>9.0</td>\n      <td>FC Barcelona</td>\n      <td>...</td>\n      <td>33</td>\n      <td>27</td>\n      <td>31</td>\n      <td>25</td>\n      <td>37</td>\n    </tr>\n    <tr>\n      <th>4</th>\n      <td>Manuel Neuer</td>\n      <td>Germany</td>\n      <td>GK</td>\n      <td>1.0</td>\n      <td>FC Bayern</td>\n      <td>...</td>\n      <td>91</td>\n      <td>89</td>\n      <td>95</td>\n      <td>90</td>\n      <td>89</td>\n    </tr>\n    <tr>\n      <th>...</th>\n      <td>...</td>\n      <td>...</td>\n      <td>...</td>\n      <td>...</td>\n      <td>...</td>\n      <td>...</td>\n      <td>...</td>\n      <td>...</td>\n      <td>...</td>\n      <td>...</td>\n      <td>...</td>\n    </tr>\n    <tr>\n      <th>17583</th>\n      <td>Adam Dunbar</td>\n      <td>Republic of Ireland</td>\n      <td>NaN</td>\n      <td>NaN</td>\n      <td>Wexford Youths</td>\n      <td>...</td>\n      <td>39</td>\n      <td>44</td>\n      <td>52</td>\n      <td>41</td>\n      <td>46</td>\n    </tr>\n    <tr>\n      <th>17584</th>\n      <td>Dylan McGoey</td>\n      <td>Republic of Ireland</td>\n      <td>NaN</td>\n      <td>NaN</td>\n      <td>Longford Town</td>\n      <td>...</td>\n      <td>47</td>\n      <td>39</td>\n      <td>46</td>\n      <td>46</td>\n      <td>46</td>\n    </tr>\n    <tr>\n      <th>17585</th>\n      <td>Tommy Ouldridge</td>\n      <td>England</td>\n      <td>NaN</td>\n      <td>NaN</td>\n      <td>Swindon Town</td>\n      <td>...</td>\n      <td>15</td>\n      <td>7</td>\n      <td>13</td>\n      <td>14</td>\n      <td>7</td>\n    </tr>\n    <tr>\n      <th>17586</th>\n      <td>Mark Foden</td>\n      <td>Scotland</td>\n      <td>NaN</td>\n      <td>NaN</td>\n      <td>Ross County</td>\n      <td>...</td>\n      <td>40</td>\n      <td>45</td>\n      <td>44</td>\n      <td>43</td>\n      <td>45</td>\n    </tr>\n    <tr>\n      <th>17587</th>\n      <td>Barry Richardson</td>\n      <td>England</td>\n      <td>NaN</td>\n      <td>NaN</td>\n      <td>Wycombe</td>\n      <td>...</td>\n      <td>58</td>\n      <td>37</td>\n      <td>37</td>\n      <td>51</td>\n      <td>33</td>\n    </tr>\n  </tbody>\n</table>\n<p>17588 rows × 53 columns</p>\n</div>"
     },
     "execution_count": 104,
     "metadata": {},
     "output_type": "execute_result"
    }
   ],
   "source": [
    "#读取文件\n",
    "player = pd.read_csv('サッカー選手データ/FullData.csv')\n",
    "player"
   ]
  },
  {
   "cell_type": "code",
   "execution_count": null,
   "metadata": {
    "ExecuteTime": {
     "start_time": "2023-10-01T03:30:39.747066Z"
    }
   },
   "outputs": [],
   "source": [
    "#head() 显示前几行\n",
    "player.head()"
   ]
  },
  {
   "cell_type": "code",
   "execution_count": null,
   "metadata": {
    "ExecuteTime": {
     "start_time": "2023-10-01T03:30:39.749833Z"
    }
   },
   "outputs": [],
   "source": [
    "player.head(8)"
   ]
  },
  {
   "cell_type": "code",
   "execution_count": null,
   "metadata": {
    "ExecuteTime": {
     "start_time": "2023-10-01T03:30:39.751970Z"
    }
   },
   "outputs": [],
   "source": [
    "#tail()后几行\n",
    "player.tail(6)"
   ]
  },
  {
   "cell_type": "code",
   "execution_count": null,
   "metadata": {
    "ExecuteTime": {
     "start_time": "2023-10-01T03:30:39.753945Z"
    }
   },
   "outputs": [],
   "source": [
    "#sample 随机采样\n",
    "player.sample()"
   ]
  },
  {
   "cell_type": "code",
   "execution_count": null,
   "metadata": {
    "ExecuteTime": {
     "start_time": "2023-10-01T03:30:39.756031Z"
    }
   },
   "outputs": [],
   "source": [
    "player.sample(5)"
   ]
  },
  {
   "cell_type": "code",
   "execution_count": null,
   "metadata": {
    "ExecuteTime": {
     "start_time": "2023-10-01T03:30:39.758226Z"
    }
   },
   "outputs": [],
   "source": [
    "#设置显示的列\n",
    "pd.set_option('display.max_columns',10)\n",
    "player.head()"
   ]
  },
  {
   "cell_type": "markdown",
   "metadata": {},
   "source": [
    "缺值处理"
   ]
  },
  {
   "cell_type": "code",
   "execution_count": null,
   "metadata": {
    "ExecuteTime": {
     "start_time": "2023-10-01T03:30:39.760367Z"
    }
   },
   "outputs": [],
   "source": [
    "player.info()"
   ]
  },
  {
   "cell_type": "code",
   "execution_count": null,
   "metadata": {
    "ExecuteTime": {
     "start_time": "2023-10-01T03:30:39.776321Z"
    }
   },
   "outputs": [],
   "source": [
    "#处理缺失值\n",
    "#查看是否缺失值\n",
    "player['Club_Position'].isnull()"
   ]
  },
  {
   "cell_type": "code",
   "execution_count": null,
   "metadata": {
    "ExecuteTime": {
     "start_time": "2023-10-01T03:30:39.776523Z"
    }
   },
   "outputs": [],
   "source": [
    "#any()\n",
    "player['Club_Position'].isnull().any()"
   ]
  },
  {
   "cell_type": "code",
   "execution_count": null,
   "metadata": {
    "ExecuteTime": {
     "start_time": "2023-10-01T03:30:39.776612Z"
    }
   },
   "outputs": [],
   "source": [
    "#获取缺失值\n",
    "player[player['Club_Position'].isnull()]"
   ]
  },
  {
   "cell_type": "code",
   "execution_count": null,
   "metadata": {
    "ExecuteTime": {
     "start_time": "2023-10-01T03:30:39.776673Z"
    }
   },
   "outputs": [],
   "source": [
    "#获取非缺值数据\n",
    "player[player['Club_Position'].notnull()]"
   ]
  },
  {
   "cell_type": "code",
   "execution_count": null,
   "metadata": {
    "ExecuteTime": {
     "start_time": "2023-10-01T03:30:39.776731Z"
    }
   },
   "outputs": [],
   "source": [
    "#获取非缺值数据\n",
    "player[player['Club_Position'].notna()]"
   ]
  },
  {
   "cell_type": "code",
   "execution_count": null,
   "metadata": {
    "ExecuteTime": {
     "start_time": "2023-10-01T03:30:39.777467Z"
    }
   },
   "outputs": [],
   "source": [
    "player = player[~player['Club_Position'].isna()]"
   ]
  },
  {
   "cell_type": "code",
   "execution_count": null,
   "metadata": {
    "ExecuteTime": {
     "start_time": "2023-10-01T03:30:39.779601Z"
    }
   },
   "outputs": [],
   "source": [
    "player.info()"
   ]
  },
  {
   "cell_type": "markdown",
   "metadata": {},
   "source": [
    "异常值处理"
   ]
  },
  {
   "cell_type": "code",
   "execution_count": null,
   "metadata": {
    "ExecuteTime": {
     "start_time": "2023-10-01T03:30:39.782150Z"
    }
   },
   "outputs": [],
   "source": [
    "#调用describe()查看基本描述统计\n",
    "player.describe()"
   ]
  },
  {
   "cell_type": "code",
   "execution_count": null,
   "metadata": {
    "ExecuteTime": {
     "start_time": "2023-10-01T03:30:39.784343Z"
    }
   },
   "outputs": [],
   "source": [
    "#绘制箱图查看\n",
    "player.plot.box()"
   ]
  },
  {
   "cell_type": "code",
   "execution_count": null,
   "metadata": {
    "ExecuteTime": {
     "start_time": "2023-10-01T03:30:39.786391Z"
    }
   },
   "outputs": [],
   "source": [
    "player.plot(kind='box')"
   ]
  },
  {
   "cell_type": "code",
   "execution_count": null,
   "metadata": {
    "ExecuteTime": {
     "start_time": "2023-10-01T03:30:39.788518Z"
    }
   },
   "outputs": [],
   "source": [
    "#对Rating评分  Marking盯人能力\n",
    "player[['Rating','Marking']].plot(kind='box',figsize=(12,8))"
   ]
  },
  {
   "cell_type": "code",
   "execution_count": null,
   "metadata": {
    "ExecuteTime": {
     "start_time": "2023-10-01T03:30:39.790517Z"
    }
   },
   "outputs": [],
   "source": [
    "#获取Rating的描述统计信息\n",
    "player['Rating'].describe()"
   ]
  },
  {
   "cell_type": "markdown",
   "metadata": {},
   "source": [
    "重复值处理"
   ]
  },
  {
   "cell_type": "code",
   "execution_count": null,
   "metadata": {
    "ExecuteTime": {
     "start_time": "2023-10-01T03:30:39.792502Z"
    }
   },
   "outputs": [],
   "source": [
    "#查看是否有重复值\n",
    "# player.duplicated()\n",
    "#调用any()\n",
    "player.duplicated().any()"
   ]
  },
  {
   "cell_type": "code",
   "execution_count": null,
   "metadata": {
    "ExecuteTime": {
     "start_time": "2023-10-01T03:30:39.794519Z"
    }
   },
   "outputs": [],
   "source": [
    "#如果有重复值\n",
    "#获取重复值\n",
    "player[player.duplicated()]"
   ]
  },
  {
   "cell_type": "code",
   "execution_count": null,
   "metadata": {
    "ExecuteTime": {
     "start_time": "2023-10-01T03:30:39.796666Z"
    }
   },
   "outputs": [],
   "source": [
    "#duplicated()方法中参数\n",
    "#获取不包括第一条重复值\n",
    "player[player.duplicated(keep='first')]"
   ]
  },
  {
   "cell_type": "code",
   "execution_count": null,
   "metadata": {
    "ExecuteTime": {
     "start_time": "2023-10-01T03:30:39.798711Z"
    }
   },
   "outputs": [],
   "source": [
    "#获取不包括最后一条重复值\n",
    "player[player.duplicated(keep='last')]"
   ]
  },
  {
   "cell_type": "code",
   "execution_count": null,
   "metadata": {
    "ExecuteTime": {
     "start_time": "2023-10-01T03:30:39.800707Z"
    }
   },
   "outputs": [],
   "source": [
    "#获取所有重复数据\n",
    "player[player.duplicated(keep=False)]"
   ]
  },
  {
   "cell_type": "code",
   "execution_count": null,
   "metadata": {
    "ExecuteTime": {
     "start_time": "2023-10-01T03:30:39.802676Z"
    }
   },
   "outputs": [],
   "source": [
    "#删除重复数据\n",
    "player.drop_duplicates(keep='first',inplace=True) #last  False"
   ]
  },
  {
   "cell_type": "code",
   "execution_count": null,
   "metadata": {
    "ExecuteTime": {
     "start_time": "2023-10-01T03:30:39.804972Z"
    }
   },
   "outputs": [],
   "source": [
    "#过滤\n",
    "player[~player.duplicated()]"
   ]
  },
  {
   "cell_type": "markdown",
   "metadata": {},
   "source": [
    "运动员身高和体重分布"
   ]
  },
  {
   "cell_type": "code",
   "execution_count": null,
   "metadata": {
    "ExecuteTime": {
     "start_time": "2023-10-01T03:30:39.807371Z"
    }
   },
   "outputs": [],
   "source": [
    "#获取身高\n",
    "player['Height']"
   ]
  },
  {
   "cell_type": "code",
   "execution_count": null,
   "metadata": {
    "ExecuteTime": {
     "start_time": "2023-10-01T03:30:39.809637Z"
    }
   },
   "outputs": [],
   "source": [
    "#获取体重\n",
    "player['Weight']"
   ]
  },
  {
   "cell_type": "code",
   "execution_count": null,
   "metadata": {
    "ExecuteTime": {
     "start_time": "2023-10-01T03:30:39.811840Z"
    }
   },
   "outputs": [],
   "source": [
    "#处理身高和体重数据\n",
    "#普通方式\n",
    "# player['Height'] = player['Height'].str.replace('cm','')\n",
    "# player['Weight'] = player['Weight'].str.replace('kg','')\n",
    "\n",
    "#转换类型\n",
    "# player['Height'] = player['Height'].astype(np.int)\n",
    "# player['Weight'] = player['Weight'].astype(np.int)"
   ]
  },
  {
   "cell_type": "code",
   "execution_count": null,
   "metadata": {
    "ExecuteTime": {
     "start_time": "2023-10-01T03:30:39.814128Z"
    }
   },
   "outputs": [],
   "source": [
    "player['Height']"
   ]
  },
  {
   "cell_type": "code",
   "execution_count": null,
   "metadata": {
    "ExecuteTime": {
     "start_time": "2023-10-01T03:30:39.816321Z"
    }
   },
   "outputs": [],
   "source": [
    "#使用apply()函数\n",
    "def handle(m:str) ->int:\n",
    "    return int(m.replace('cm',''))\n",
    "player['Height'] = player['Height'].apply(handle)"
   ]
  },
  {
   "cell_type": "code",
   "execution_count": null,
   "metadata": {
    "ExecuteTime": {
     "start_time": "2023-10-01T03:30:39.818532Z"
    }
   },
   "outputs": [],
   "source": [
    "#匿名函数\n",
    "player['Weight'] = player['Weight'].apply(lambda m :int(m.replace('kg','')))"
   ]
  },
  {
   "cell_type": "code",
   "execution_count": null,
   "metadata": {
    "ExecuteTime": {
     "start_time": "2023-10-01T03:30:39.820574Z"
    }
   },
   "outputs": [],
   "source": [
    "player['Height']"
   ]
  },
  {
   "cell_type": "markdown",
   "metadata": {},
   "source": [
    "查看身高体重分布"
   ]
  },
  {
   "cell_type": "code",
   "execution_count": null,
   "metadata": {
    "ExecuteTime": {
     "start_time": "2023-10-01T03:30:39.823190Z"
    }
   },
   "outputs": [],
   "source": [
    "#调用describe()查看\n",
    "player['Height'].describe()"
   ]
  },
  {
   "cell_type": "code",
   "execution_count": null,
   "metadata": {
    "ExecuteTime": {
     "start_time": "2023-10-01T03:30:39.825180Z"
    }
   },
   "outputs": [],
   "source": [
    "player['Weight'].describe()"
   ]
  },
  {
   "cell_type": "code",
   "execution_count": null,
   "metadata": {
    "ExecuteTime": {
     "start_time": "2023-10-01T03:30:39.827400Z"
    }
   },
   "outputs": [],
   "source": [
    "#绘制直方图\n",
    "#1.使用matplotlib进行绘制\n",
    "plt.hist(player['Height'])"
   ]
  },
  {
   "cell_type": "code",
   "execution_count": null,
   "metadata": {
    "ExecuteTime": {
     "start_time": "2023-10-01T03:30:39.829454Z"
    }
   },
   "outputs": [],
   "source": [
    "#pandas绘制\n",
    "player['Height'].plot(kind='hist',bins=10)"
   ]
  },
  {
   "cell_type": "code",
   "execution_count": null,
   "metadata": {
    "ExecuteTime": {
     "start_time": "2023-10-01T03:30:39.831465Z"
    }
   },
   "outputs": [],
   "source": [
    "player['Height'].plot.hist()"
   ]
  },
  {
   "cell_type": "code",
   "execution_count": null,
   "metadata": {
    "ExecuteTime": {
     "start_time": "2023-10-01T03:30:39.833506Z"
    }
   },
   "outputs": [],
   "source": [
    "#体重分布\n",
    "player['Weight'].plot.hist()"
   ]
  },
  {
   "cell_type": "code",
   "execution_count": null,
   "metadata": {
    "ExecuteTime": {
     "start_time": "2023-10-01T03:30:39.835602Z"
    }
   },
   "outputs": [],
   "source": [
    "#对评分\n",
    "player['Rating'].plot.hist()"
   ]
  },
  {
   "cell_type": "code",
   "execution_count": null,
   "metadata": {
    "ExecuteTime": {
     "start_time": "2023-10-01T03:30:39.837977Z"
    }
   },
   "outputs": [],
   "source": [
    "#绘制密度图 kind='kde'\n",
    "player['Height'].plot(kind='kde')"
   ]
  },
  {
   "cell_type": "code",
   "execution_count": null,
   "metadata": {
    "ExecuteTime": {
     "start_time": "2023-10-01T03:30:39.840483Z"
    }
   },
   "outputs": [],
   "source": [
    "player['Weight'].plot(kind='kde')"
   ]
  },
  {
   "cell_type": "code",
   "execution_count": null,
   "metadata": {
    "ExecuteTime": {
     "start_time": "2023-10-01T03:30:39.842619Z"
    }
   },
   "outputs": [],
   "source": [
    "player['Rating'].plot(kind='kde')"
   ]
  },
  {
   "cell_type": "markdown",
   "metadata": {},
   "source": [
    "足球运动员左脚右脚使用数量"
   ]
  },
  {
   "cell_type": "code",
   "execution_count": null,
   "metadata": {
    "ExecuteTime": {
     "start_time": "2023-10-01T03:30:39.844693Z"
    }
   },
   "outputs": [],
   "source": [
    "#查看左脚右脚使用\n",
    "player['Preffered_Foot']"
   ]
  },
  {
   "cell_type": "code",
   "execution_count": null,
   "metadata": {
    "ExecuteTime": {
     "start_time": "2023-10-01T03:30:39.846621Z"
    }
   },
   "outputs": [],
   "source": [
    "#对Preffered_Foot进行分组\n",
    "group_foot = player.groupby('Preffered_Foot')\n",
    "result = group_foot['Preffered_Foot'].count()\n",
    "result"
   ]
  },
  {
   "cell_type": "code",
   "execution_count": null,
   "metadata": {
    "ExecuteTime": {
     "start_time": "2023-10-01T03:30:39.848674Z"
    }
   },
   "outputs": [],
   "source": [
    "#绘制图形 饼图\n",
    "result.plot(kind='pie',autopct='%.2f',fontsize=20,figsize=(10,8))"
   ]
  },
  {
   "cell_type": "code",
   "execution_count": null,
   "metadata": {
    "ExecuteTime": {
     "start_time": "2023-10-01T03:30:39.850715Z"
    }
   },
   "outputs": [],
   "source": [
    "#value_counts()\n",
    "result = player['Preffered_Foot'].value_counts()\n",
    "result"
   ]
  },
  {
   "cell_type": "code",
   "execution_count": null,
   "metadata": {
    "ExecuteTime": {
     "start_time": "2023-10-01T03:30:39.852625Z"
    }
   },
   "outputs": [],
   "source": [
    "#绘制饼图\n",
    "#去掉左侧名称\n",
    "result.name=' '\n",
    "result.plot.pie(autopct='%.2f',figsize=(10,8),fontsize=20)"
   ]
  },
  {
   "cell_type": "code",
   "execution_count": null,
   "metadata": {
    "ExecuteTime": {
     "start_time": "2023-10-01T03:30:39.854272Z"
    }
   },
   "outputs": [],
   "source": [
    "#绘制条形图\n",
    "result.plot(kind='bar')"
   ]
  },
  {
   "cell_type": "code",
   "execution_count": null,
   "metadata": {
    "ExecuteTime": {
     "start_time": "2023-10-01T03:30:39.855520Z"
    }
   },
   "outputs": [],
   "source": [
    "result.plot(kind='barh')"
   ]
  },
  {
   "cell_type": "markdown",
   "metadata": {},
   "source": [
    "俱乐部平均评分分析"
   ]
  },
  {
   "cell_type": "code",
   "execution_count": null,
   "metadata": {
    "ExecuteTime": {
     "start_time": "2023-10-01T03:30:39.856763Z"
    }
   },
   "outputs": [],
   "source": [
    "#获取每个俱乐部平均评分\n",
    "#按俱乐部分组\n",
    "group = player.groupby('Club')"
   ]
  },
  {
   "cell_type": "code",
   "execution_count": null,
   "metadata": {
    "ExecuteTime": {
     "start_time": "2023-10-01T03:30:39.858037Z"
    }
   },
   "outputs": [],
   "source": [
    "#平均评分\n",
    "group['Rating'].mean()"
   ]
  },
  {
   "cell_type": "code",
   "execution_count": null,
   "metadata": {
    "ExecuteTime": {
     "start_time": "2023-10-01T03:30:39.859463Z"
    }
   },
   "outputs": [],
   "source": [
    "#俱乐部平均评分前10\n",
    "group['Rating'].mean().sort_values(ascending=False).head(10)"
   ]
  },
  {
   "cell_type": "code",
   "execution_count": null,
   "metadata": {
    "ExecuteTime": {
     "start_time": "2023-10-01T03:30:39.860696Z"
    }
   },
   "outputs": [],
   "source": [
    "#绘制条形图\n",
    "group['Rating'].mean().sort_values(ascending=False).head(10).plot(kind='bar')"
   ]
  },
  {
   "cell_type": "code",
   "execution_count": null,
   "metadata": {
    "ExecuteTime": {
     "start_time": "2023-10-01T03:30:39.862278Z"
    }
   },
   "outputs": [],
   "source": [
    "#俱乐部平均评分前10 且俱乐部人数大于20\n",
    "group = player.groupby('Club')\n",
    "group['Rating'].agg(['mean','count']).sort_values('mean',ascending=False).head(10)"
   ]
  },
  {
   "cell_type": "code",
   "execution_count": null,
   "metadata": {
    "ExecuteTime": {
     "start_time": "2023-10-01T03:30:39.863817Z"
    }
   },
   "outputs": [],
   "source": [
    "group['Rating'].agg(['mean','count']).sort_values('mean',ascending=False).head(10).plot(kind='bar')"
   ]
  },
  {
   "cell_type": "code",
   "execution_count": null,
   "metadata": {
    "ExecuteTime": {
     "start_time": "2023-10-01T03:30:39.865149Z"
    }
   },
   "outputs": [],
   "source": [
    "#俱乐部平均评分前10 且俱乐部人数大于30\n",
    "result = group['Rating'].agg(['mean','count']).sort_values('mean',ascending=False)\n",
    "result[result['count']>30].head(10).plot(kind='bar')"
   ]
  },
  {
   "cell_type": "code",
   "execution_count": null,
   "metadata": {
    "ExecuteTime": {
     "start_time": "2023-10-01T03:30:39.866300Z"
    }
   },
   "outputs": [],
   "source": [
    "#国家平均评分前10 且国家人数大于20\n",
    "group=player.groupby('Nationality')"
   ]
  },
  {
   "cell_type": "code",
   "execution_count": null,
   "metadata": {
    "ExecuteTime": {
     "start_time": "2023-10-01T03:30:39.867486Z"
    }
   },
   "outputs": [],
   "source": [
    "result =group['Rating'].agg(['mean','count']).sort_values('mean',ascending=False)"
   ]
  },
  {
   "cell_type": "code",
   "execution_count": null,
   "metadata": {
    "ExecuteTime": {
     "start_time": "2023-10-01T03:30:39.868660Z"
    }
   },
   "outputs": [],
   "source": [
    "#获取人数大于20\n",
    "result[result['count']>20].head(10).plot(kind='bar')"
   ]
  },
  {
   "cell_type": "markdown",
   "metadata": {},
   "source": [
    "足球运动人数与出生日期是否有关"
   ]
  },
  {
   "cell_type": "code",
   "execution_count": null,
   "metadata": {
    "ExecuteTime": {
     "start_time": "2023-10-01T03:30:39.870071Z"
    }
   },
   "outputs": [],
   "source": [
    "#获取足球运动的出生日期  月份/日/年\n",
    "player['Birth_Date']"
   ]
  },
  {
   "cell_type": "code",
   "execution_count": null,
   "metadata": {
    "ExecuteTime": {
     "start_time": "2023-10-01T03:30:39.871455Z"
    }
   },
   "outputs": [],
   "source": [
    "data = player['Birth_Date'].str.split('/',expand=True)\n",
    "data"
   ]
  },
  {
   "cell_type": "code",
   "execution_count": null,
   "metadata": {
    "ExecuteTime": {
     "start_time": "2023-10-01T03:30:39.873970Z"
    }
   },
   "outputs": [],
   "source": [
    "#获取月份\n",
    "data[0].value_counts()"
   ]
  },
  {
   "cell_type": "code",
   "execution_count": null,
   "metadata": {
    "ExecuteTime": {
     "start_time": "2023-10-01T03:30:39.875592Z"
    }
   },
   "outputs": [],
   "source": [
    "#绘制条形图\n",
    "data[0].value_counts().plot(kind='bar')"
   ]
  },
  {
   "cell_type": "code",
   "execution_count": null,
   "metadata": {
    "ExecuteTime": {
     "start_time": "2023-10-01T03:30:39.876810Z"
    }
   },
   "outputs": [],
   "source": [
    "#获取日\n",
    "data[1].value_counts().plot(kind='bar')"
   ]
  },
  {
   "cell_type": "code",
   "execution_count": null,
   "metadata": {
    "ExecuteTime": {
     "start_time": "2023-10-01T03:30:39.878209Z"
    }
   },
   "outputs": [],
   "source": [
    "#获取年\n",
    "data[2].value_counts().plot(kind='bar')"
   ]
  },
  {
   "cell_type": "code",
   "execution_count": null,
   "metadata": {
    "ExecuteTime": {
     "start_time": "2023-10-01T03:30:39.879586Z"
    }
   },
   "outputs": [],
   "source": [
    "#将评分大于等于80的球员数据\n",
    "\n",
    "result = player[player['Rating']>80]\n",
    "#获取出生日期\n",
    "data = result['Birth_Date'].str.split('/',expand=True)"
   ]
  },
  {
   "cell_type": "code",
   "execution_count": null,
   "metadata": {
    "ExecuteTime": {
     "start_time": "2023-10-01T03:30:39.880924Z"
    }
   },
   "outputs": [],
   "source": [
    "data[0].value_counts().plot(kind='bar')"
   ]
  },
  {
   "cell_type": "code",
   "execution_count": null,
   "metadata": {
    "ExecuteTime": {
     "start_time": "2023-10-01T03:30:39.882207Z"
    }
   },
   "outputs": [],
   "source": [
    "data[1].value_counts().plot(kind='bar')"
   ]
  },
  {
   "cell_type": "code",
   "execution_count": null,
   "metadata": {
    "ExecuteTime": {
     "start_time": "2023-10-01T03:30:39.883389Z"
    }
   },
   "outputs": [],
   "source": [
    "data[2].value_counts().plot(kind='bar')"
   ]
  },
  {
   "cell_type": "markdown",
   "metadata": {},
   "source": [
    "相关性分析"
   ]
  },
  {
   "cell_type": "code",
   "execution_count": null,
   "metadata": {
    "ExecuteTime": {
     "start_time": "2023-10-01T03:30:39.884665Z"
    }
   },
   "outputs": [],
   "source": [
    "#绘制散点图  分析身高和体重\n",
    "player.plot(kind='scatter',x='Height',y='Weight')"
   ]
  },
  {
   "cell_type": "code",
   "execution_count": null,
   "metadata": {
    "ExecuteTime": {
     "start_time": "2023-10-01T03:30:39.885930Z"
    }
   },
   "outputs": [],
   "source": [
    "#分析身高和评分\n",
    "player.plot(kind='scatter',x='Height',y='Rating')"
   ]
  },
  {
   "cell_type": "code",
   "execution_count": null,
   "metadata": {
    "ExecuteTime": {
     "start_time": "2023-10-01T03:30:39.887137Z"
    }
   },
   "outputs": [],
   "source": [
    "#分析体重和评分\n",
    "player.plot(kind='scatter',x='Weight',y='Rating')"
   ]
  },
  {
   "cell_type": "code",
   "execution_count": null,
   "metadata": {
    "ExecuteTime": {
     "start_time": "2023-10-01T03:30:39.888307Z"
    }
   },
   "outputs": [],
   "source": [
    "#计算相关系数\n",
    "player['Height'].corr(player['Height'])"
   ]
  },
  {
   "cell_type": "code",
   "execution_count": null,
   "metadata": {
    "ExecuteTime": {
     "start_time": "2023-10-01T03:30:39.889640Z"
    }
   },
   "outputs": [],
   "source": [
    "#计算身高和体重相关系数\n",
    "player['Height'].corr(player['Weight'])"
   ]
  },
  {
   "cell_type": "code",
   "execution_count": null,
   "metadata": {
    "ExecuteTime": {
     "start_time": "2023-10-01T03:30:39.890821Z"
    }
   },
   "outputs": [],
   "source": [
    "#计算身高和评分相关系数\n",
    "player['Height'].corr(player['Rating'])"
   ]
  },
  {
   "cell_type": "code",
   "execution_count": null,
   "metadata": {
    "ExecuteTime": {
     "start_time": "2023-10-01T03:30:39.892050Z"
    }
   },
   "outputs": [],
   "source": [
    "#计算体重和评分相关系数\n",
    "player['Weight'].corr(player['Rating'])"
   ]
  },
  {
   "cell_type": "markdown",
   "metadata": {},
   "source": [
    "与评分相关性强的指标有哪些"
   ]
  },
  {
   "cell_type": "code",
   "execution_count": null,
   "metadata": {
    "ExecuteTime": {
     "start_time": "2023-10-01T03:30:39.893162Z"
    }
   },
   "outputs": [],
   "source": [
    "player['Height'].corr(player['Rating'])"
   ]
  },
  {
   "cell_type": "code",
   "execution_count": null,
   "metadata": {
    "ExecuteTime": {
     "start_time": "2023-10-01T03:30:39.894264Z"
    }
   },
   "outputs": [],
   "source": [
    "#DataFrame对象 corr()生成相关系数矩阵\n",
    "player.corr()"
   ]
  },
  {
   "cell_type": "code",
   "execution_count": null,
   "metadata": {
    "ExecuteTime": {
     "start_time": "2023-10-01T03:30:39.895803Z"
    }
   },
   "outputs": [],
   "source": [
    "#查看相关系数矩阵类型\n",
    "type(player.corr())"
   ]
  },
  {
   "cell_type": "code",
   "execution_count": null,
   "metadata": {
    "ExecuteTime": {
     "start_time": "2023-10-01T03:30:39.897500Z"
    }
   },
   "outputs": [],
   "source": [
    "player.corr()['Rating']"
   ]
  },
  {
   "cell_type": "code",
   "execution_count": null,
   "metadata": {
    "ExecuteTime": {
     "start_time": "2023-10-01T03:30:39.899600Z"
    }
   },
   "outputs": [],
   "source": [
    "#排序\n",
    "player.corr()['Rating'].sort_values(ascending=False)"
   ]
  },
  {
   "cell_type": "markdown",
   "metadata": {},
   "source": [
    "年龄与评分是否有相关性"
   ]
  },
  {
   "cell_type": "code",
   "execution_count": null,
   "metadata": {
    "ExecuteTime": {
     "start_time": "2023-10-01T03:30:39.901294Z"
    }
   },
   "outputs": [],
   "source": [
    "#绘制散点图\n",
    "player.plot(kind='scatter',x='Age',y='Rating')"
   ]
  },
  {
   "cell_type": "code",
   "execution_count": null,
   "metadata": {
    "ExecuteTime": {
     "start_time": "2023-10-01T03:30:39.902474Z"
    }
   },
   "outputs": [],
   "source": [
    "#计算年龄与评分相关系数\n",
    "player['Age'].corr(player['Rating'])"
   ]
  },
  {
   "cell_type": "code",
   "execution_count": null,
   "metadata": {
    "ExecuteTime": {
     "start_time": "2023-10-01T03:30:39.903672Z"
    }
   },
   "outputs": [],
   "source": [
    "#对年龄进行分组\n",
    "#cut bins参数指定分组 默认平分\n",
    "pd.cut(player['Age'],bins=4)"
   ]
  },
  {
   "cell_type": "code",
   "execution_count": null,
   "metadata": {
    "ExecuteTime": {
     "start_time": "2023-10-01T03:30:39.904843Z"
    }
   },
   "outputs": [],
   "source": [
    "#对组设置标签\n",
    "pd.cut(player['Age'],bins=4,labels=['少年队','青年队','中年队','老年队'])"
   ]
  },
  {
   "cell_type": "code",
   "execution_count": null,
   "metadata": {
    "ExecuteTime": {
     "start_time": "2023-10-01T03:30:39.906467Z"
    }
   },
   "outputs": [],
   "source": [
    "#新增一列\n",
    "player['Age2'] = pd.cut(player['Age'],bins=4,labels=['少年队','青年队','中年队','老年队'])"
   ]
  },
  {
   "cell_type": "code",
   "execution_count": null,
   "metadata": {
    "ExecuteTime": {
     "start_time": "2023-10-01T03:30:39.907969Z"
    }
   },
   "outputs": [],
   "source": [
    "player"
   ]
  },
  {
   "cell_type": "code",
   "execution_count": null,
   "metadata": {
    "ExecuteTime": {
     "start_time": "2023-10-01T03:30:39.909186Z"
    }
   },
   "outputs": [],
   "source": [
    "#按Age2分组  获取平均评分\n",
    "player.groupby('Age2')['Rating'].mean()"
   ]
  },
  {
   "cell_type": "code",
   "execution_count": null,
   "metadata": {
    "ExecuteTime": {
     "start_time": "2023-10-01T03:30:39.910705Z"
    }
   },
   "outputs": [],
   "source": [
    "#绘制图形\n",
    "player.groupby('Age2')['Rating'].mean().plot(kind='line',marker='o')"
   ]
  },
  {
   "cell_type": "code",
   "execution_count": null,
   "metadata": {
    "ExecuteTime": {
     "start_time": "2023-10-01T03:30:39.912047Z"
    }
   },
   "outputs": [],
   "source": [
    "#自定义分组\n",
    "pd.cut(player['Age'],bins=[10,30,40,50],labels=['青年队','中年队','老年队'])"
   ]
  },
  {
   "cell_type": "code",
   "execution_count": null,
   "metadata": {
    "ExecuteTime": {
     "start_time": "2023-10-01T03:30:39.913534Z"
    }
   },
   "outputs": [],
   "source": [
    "player['Age3'] =pd.cut(player['Age'],bins=[10,30,40,50],labels=['青年队','中年队','老年队'])"
   ]
  },
  {
   "cell_type": "code",
   "execution_count": null,
   "metadata": {
    "ExecuteTime": {
     "start_time": "2023-10-01T03:30:39.914823Z"
    }
   },
   "outputs": [],
   "source": [
    "#对Age3分组\n",
    "player.groupby('Age3')['Rating'].mean().plot(marker='o')"
   ]
  },
  {
   "cell_type": "code",
   "execution_count": null,
   "metadata": {
    "ExecuteTime": {
     "start_time": "2023-10-01T03:30:39.915999Z"
    }
   },
   "outputs": [],
   "source": []
  }
 ],
 "metadata": {
  "interpreter": {
   "hash": "c8f2176ec1295039c2a44b661b567710e5baf7112c9d90ae889ab07ed400c256"
  },
  "kernelspec": {
   "display_name": "Python 3.10.1 ('python_env')",
   "language": "python",
   "name": "python3"
  },
  "language_info": {
   "codemirror_mode": {
    "name": "ipython",
    "version": 3
   },
   "file_extension": ".py",
   "mimetype": "text/x-python",
   "name": "python",
   "nbconvert_exporter": "python",
   "pygments_lexer": "ipython3",
   "version": "3.10.1"
  },
  "orig_nbformat": 4
 },
 "nbformat": 4,
 "nbformat_minor": 2
}
