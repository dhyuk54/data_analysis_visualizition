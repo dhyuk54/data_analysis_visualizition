{
 "cells": [
  {
   "cell_type": "code",
   "execution_count": 1,
   "metadata": {
    "ExecuteTime": {
     "end_time": "2023-10-01T02:21:39.662516Z",
     "start_time": "2023-10-01T02:21:37.146336Z"
    }
   },
   "outputs": [],
   "source": [
    "#导入模块\n",
    "import numpy as np\n",
    "import pandas as pd\n",
    "import matplotlib.pyplot as plt"
   ]
  },
  {
   "cell_type": "code",
   "execution_count": 2,
   "metadata": {
    "ExecuteTime": {
     "end_time": "2023-10-01T02:21:39.667184Z",
     "start_time": "2023-10-01T02:21:39.662911Z"
    }
   },
   "outputs": [],
   "source": [
    "#解决中文乱码\n",
    "plt.rcParams['font.sans-serif'] = ['KaiTi'] # 指定默认字体\n",
    "plt.rcParams['axes.unicode_minus'] = False # 解决保存图像是负号'-'显示为方块的问题"
   ]
  },
  {
   "cell_type": "code",
   "execution_count": 3,
   "metadata": {
    "ExecuteTime": {
     "end_time": "2023-10-01T02:21:39.810079Z",
     "start_time": "2023-10-01T02:21:39.668468Z"
    }
   },
   "outputs": [
    {
     "data": {
      "text/plain": "                    Name          Nationality National_Position  National_Kit  \\\n0      Cristiano Ronaldo             Portugal                LS           7.0   \n1           Lionel Messi            Argentina                RW          10.0   \n2                 Neymar               Brazil                LW          10.0   \n3            Luis Suárez              Uruguay                LS           9.0   \n4           Manuel Neuer              Germany                GK           1.0   \n...                  ...                  ...               ...           ...   \n17583        Adam Dunbar  Republic of Ireland               NaN           NaN   \n17584       Dylan McGoey  Republic of Ireland               NaN           NaN   \n17585    Tommy Ouldridge              England               NaN           NaN   \n17586         Mark Foden             Scotland               NaN           NaN   \n17587   Barry Richardson              England               NaN           NaN   \n\n                 Club Club_Position  Club_Kit Club_Joining  Contract_Expiry  \\\n0         Real Madrid            LW       7.0   07/01/2009           2021.0   \n1        FC Barcelona            RW      10.0   07/01/2004           2018.0   \n2        FC Barcelona            LW      11.0   07/01/2013           2021.0   \n3        FC Barcelona            ST       9.0   07/11/2014           2021.0   \n4           FC Bayern            GK       1.0   07/01/2011           2021.0   \n...               ...           ...       ...          ...              ...   \n17583  Wexford Youths           Sub      30.0   02/01/2016           2020.0   \n17584   Longford Town           Sub      28.0   01/01/2016           2020.0   \n17585    Swindon Town           Res      32.0   03/03/2015           2023.0   \n17586     Ross County           Sub      45.0   03/02/2016           2017.0   \n17587         Wycombe           Sub      13.0   01/30/2014           2023.0   \n\n       Rating  ... Long_Shots Curve Freekick_Accuracy Penalties  Volleys  \\\n0          94  ...         90    81                76        85       88   \n1          93  ...         88    89                90        74       85   \n2          92  ...         77    79                84        81       83   \n3          92  ...         86    86                84        85       88   \n4          92  ...         16    14                11        47       11   \n...       ...  ...        ...   ...               ...       ...      ...   \n17583      45  ...         13    11                13        15       12   \n17584      45  ...         11    12                13        16       12   \n17585      45  ...         42    35                36        42       37   \n17586      45  ...         12    13                12        24       12   \n17587      45  ...         16    12                11        22       12   \n\n      GK_Positioning GK_Diving  GK_Kicking  GK_Handling  GK_Reflexes  \n0                 14         7          15           11           11  \n1                 14         6          15           11            8  \n2                 15         9          15            9           11  \n3                 33        27          31           25           37  \n4                 91        89          95           90           89  \n...              ...       ...         ...          ...          ...  \n17583             39        44          52           41           46  \n17584             47        39          46           46           46  \n17585             15         7          13           14            7  \n17586             40        45          44           43           45  \n17587             58        37          37           51           33  \n\n[17588 rows x 53 columns]",
      "text/html": "<div>\n<style scoped>\n    .dataframe tbody tr th:only-of-type {\n        vertical-align: middle;\n    }\n\n    .dataframe tbody tr th {\n        vertical-align: top;\n    }\n\n    .dataframe thead th {\n        text-align: right;\n    }\n</style>\n<table border=\"1\" class=\"dataframe\">\n  <thead>\n    <tr style=\"text-align: right;\">\n      <th></th>\n      <th>Name</th>\n      <th>Nationality</th>\n      <th>National_Position</th>\n      <th>National_Kit</th>\n      <th>Club</th>\n      <th>Club_Position</th>\n      <th>Club_Kit</th>\n      <th>Club_Joining</th>\n      <th>Contract_Expiry</th>\n      <th>Rating</th>\n      <th>...</th>\n      <th>Long_Shots</th>\n      <th>Curve</th>\n      <th>Freekick_Accuracy</th>\n      <th>Penalties</th>\n      <th>Volleys</th>\n      <th>GK_Positioning</th>\n      <th>GK_Diving</th>\n      <th>GK_Kicking</th>\n      <th>GK_Handling</th>\n      <th>GK_Reflexes</th>\n    </tr>\n  </thead>\n  <tbody>\n    <tr>\n      <th>0</th>\n      <td>Cristiano Ronaldo</td>\n      <td>Portugal</td>\n      <td>LS</td>\n      <td>7.0</td>\n      <td>Real Madrid</td>\n      <td>LW</td>\n      <td>7.0</td>\n      <td>07/01/2009</td>\n      <td>2021.0</td>\n      <td>94</td>\n      <td>...</td>\n      <td>90</td>\n      <td>81</td>\n      <td>76</td>\n      <td>85</td>\n      <td>88</td>\n      <td>14</td>\n      <td>7</td>\n      <td>15</td>\n      <td>11</td>\n      <td>11</td>\n    </tr>\n    <tr>\n      <th>1</th>\n      <td>Lionel Messi</td>\n      <td>Argentina</td>\n      <td>RW</td>\n      <td>10.0</td>\n      <td>FC Barcelona</td>\n      <td>RW</td>\n      <td>10.0</td>\n      <td>07/01/2004</td>\n      <td>2018.0</td>\n      <td>93</td>\n      <td>...</td>\n      <td>88</td>\n      <td>89</td>\n      <td>90</td>\n      <td>74</td>\n      <td>85</td>\n      <td>14</td>\n      <td>6</td>\n      <td>15</td>\n      <td>11</td>\n      <td>8</td>\n    </tr>\n    <tr>\n      <th>2</th>\n      <td>Neymar</td>\n      <td>Brazil</td>\n      <td>LW</td>\n      <td>10.0</td>\n      <td>FC Barcelona</td>\n      <td>LW</td>\n      <td>11.0</td>\n      <td>07/01/2013</td>\n      <td>2021.0</td>\n      <td>92</td>\n      <td>...</td>\n      <td>77</td>\n      <td>79</td>\n      <td>84</td>\n      <td>81</td>\n      <td>83</td>\n      <td>15</td>\n      <td>9</td>\n      <td>15</td>\n      <td>9</td>\n      <td>11</td>\n    </tr>\n    <tr>\n      <th>3</th>\n      <td>Luis Suárez</td>\n      <td>Uruguay</td>\n      <td>LS</td>\n      <td>9.0</td>\n      <td>FC Barcelona</td>\n      <td>ST</td>\n      <td>9.0</td>\n      <td>07/11/2014</td>\n      <td>2021.0</td>\n      <td>92</td>\n      <td>...</td>\n      <td>86</td>\n      <td>86</td>\n      <td>84</td>\n      <td>85</td>\n      <td>88</td>\n      <td>33</td>\n      <td>27</td>\n      <td>31</td>\n      <td>25</td>\n      <td>37</td>\n    </tr>\n    <tr>\n      <th>4</th>\n      <td>Manuel Neuer</td>\n      <td>Germany</td>\n      <td>GK</td>\n      <td>1.0</td>\n      <td>FC Bayern</td>\n      <td>GK</td>\n      <td>1.0</td>\n      <td>07/01/2011</td>\n      <td>2021.0</td>\n      <td>92</td>\n      <td>...</td>\n      <td>16</td>\n      <td>14</td>\n      <td>11</td>\n      <td>47</td>\n      <td>11</td>\n      <td>91</td>\n      <td>89</td>\n      <td>95</td>\n      <td>90</td>\n      <td>89</td>\n    </tr>\n    <tr>\n      <th>...</th>\n      <td>...</td>\n      <td>...</td>\n      <td>...</td>\n      <td>...</td>\n      <td>...</td>\n      <td>...</td>\n      <td>...</td>\n      <td>...</td>\n      <td>...</td>\n      <td>...</td>\n      <td>...</td>\n      <td>...</td>\n      <td>...</td>\n      <td>...</td>\n      <td>...</td>\n      <td>...</td>\n      <td>...</td>\n      <td>...</td>\n      <td>...</td>\n      <td>...</td>\n      <td>...</td>\n    </tr>\n    <tr>\n      <th>17583</th>\n      <td>Adam Dunbar</td>\n      <td>Republic of Ireland</td>\n      <td>NaN</td>\n      <td>NaN</td>\n      <td>Wexford Youths</td>\n      <td>Sub</td>\n      <td>30.0</td>\n      <td>02/01/2016</td>\n      <td>2020.0</td>\n      <td>45</td>\n      <td>...</td>\n      <td>13</td>\n      <td>11</td>\n      <td>13</td>\n      <td>15</td>\n      <td>12</td>\n      <td>39</td>\n      <td>44</td>\n      <td>52</td>\n      <td>41</td>\n      <td>46</td>\n    </tr>\n    <tr>\n      <th>17584</th>\n      <td>Dylan McGoey</td>\n      <td>Republic of Ireland</td>\n      <td>NaN</td>\n      <td>NaN</td>\n      <td>Longford Town</td>\n      <td>Sub</td>\n      <td>28.0</td>\n      <td>01/01/2016</td>\n      <td>2020.0</td>\n      <td>45</td>\n      <td>...</td>\n      <td>11</td>\n      <td>12</td>\n      <td>13</td>\n      <td>16</td>\n      <td>12</td>\n      <td>47</td>\n      <td>39</td>\n      <td>46</td>\n      <td>46</td>\n      <td>46</td>\n    </tr>\n    <tr>\n      <th>17585</th>\n      <td>Tommy Ouldridge</td>\n      <td>England</td>\n      <td>NaN</td>\n      <td>NaN</td>\n      <td>Swindon Town</td>\n      <td>Res</td>\n      <td>32.0</td>\n      <td>03/03/2015</td>\n      <td>2023.0</td>\n      <td>45</td>\n      <td>...</td>\n      <td>42</td>\n      <td>35</td>\n      <td>36</td>\n      <td>42</td>\n      <td>37</td>\n      <td>15</td>\n      <td>7</td>\n      <td>13</td>\n      <td>14</td>\n      <td>7</td>\n    </tr>\n    <tr>\n      <th>17586</th>\n      <td>Mark Foden</td>\n      <td>Scotland</td>\n      <td>NaN</td>\n      <td>NaN</td>\n      <td>Ross County</td>\n      <td>Sub</td>\n      <td>45.0</td>\n      <td>03/02/2016</td>\n      <td>2017.0</td>\n      <td>45</td>\n      <td>...</td>\n      <td>12</td>\n      <td>13</td>\n      <td>12</td>\n      <td>24</td>\n      <td>12</td>\n      <td>40</td>\n      <td>45</td>\n      <td>44</td>\n      <td>43</td>\n      <td>45</td>\n    </tr>\n    <tr>\n      <th>17587</th>\n      <td>Barry Richardson</td>\n      <td>England</td>\n      <td>NaN</td>\n      <td>NaN</td>\n      <td>Wycombe</td>\n      <td>Sub</td>\n      <td>13.0</td>\n      <td>01/30/2014</td>\n      <td>2023.0</td>\n      <td>45</td>\n      <td>...</td>\n      <td>16</td>\n      <td>12</td>\n      <td>11</td>\n      <td>22</td>\n      <td>12</td>\n      <td>58</td>\n      <td>37</td>\n      <td>37</td>\n      <td>51</td>\n      <td>33</td>\n    </tr>\n  </tbody>\n</table>\n<p>17588 rows × 53 columns</p>\n</div>"
     },
     "execution_count": 3,
     "metadata": {},
     "output_type": "execute_result"
    }
   ],
   "source": [
    "#读取文件\n",
    "player = pd.read_csv('FullData.csv')\n",
    "player"
   ]
  },
  {
   "cell_type": "code",
   "execution_count": 4,
   "metadata": {
    "ExecuteTime": {
     "end_time": "2023-10-01T02:21:39.825232Z",
     "start_time": "2023-10-01T02:21:39.819768Z"
    }
   },
   "outputs": [
    {
     "data": {
      "text/plain": "                Name Nationality National_Position  National_Kit  \\\n0  Cristiano Ronaldo    Portugal                LS           7.0   \n1       Lionel Messi   Argentina                RW          10.0   \n2             Neymar      Brazil                LW          10.0   \n3        Luis Suárez     Uruguay                LS           9.0   \n4       Manuel Neuer     Germany                GK           1.0   \n\n           Club Club_Position  Club_Kit Club_Joining  Contract_Expiry  Rating  \\\n0   Real Madrid            LW       7.0   07/01/2009           2021.0      94   \n1  FC Barcelona            RW      10.0   07/01/2004           2018.0      93   \n2  FC Barcelona            LW      11.0   07/01/2013           2021.0      92   \n3  FC Barcelona            ST       9.0   07/11/2014           2021.0      92   \n4     FC Bayern            GK       1.0   07/01/2011           2021.0      92   \n\n   ... Long_Shots Curve Freekick_Accuracy Penalties  Volleys GK_Positioning  \\\n0  ...         90    81                76        85       88             14   \n1  ...         88    89                90        74       85             14   \n2  ...         77    79                84        81       83             15   \n3  ...         86    86                84        85       88             33   \n4  ...         16    14                11        47       11             91   \n\n  GK_Diving  GK_Kicking  GK_Handling  GK_Reflexes  \n0         7          15           11           11  \n1         6          15           11            8  \n2         9          15            9           11  \n3        27          31           25           37  \n4        89          95           90           89  \n\n[5 rows x 53 columns]",
      "text/html": "<div>\n<style scoped>\n    .dataframe tbody tr th:only-of-type {\n        vertical-align: middle;\n    }\n\n    .dataframe tbody tr th {\n        vertical-align: top;\n    }\n\n    .dataframe thead th {\n        text-align: right;\n    }\n</style>\n<table border=\"1\" class=\"dataframe\">\n  <thead>\n    <tr style=\"text-align: right;\">\n      <th></th>\n      <th>Name</th>\n      <th>Nationality</th>\n      <th>National_Position</th>\n      <th>National_Kit</th>\n      <th>Club</th>\n      <th>Club_Position</th>\n      <th>Club_Kit</th>\n      <th>Club_Joining</th>\n      <th>Contract_Expiry</th>\n      <th>Rating</th>\n      <th>...</th>\n      <th>Long_Shots</th>\n      <th>Curve</th>\n      <th>Freekick_Accuracy</th>\n      <th>Penalties</th>\n      <th>Volleys</th>\n      <th>GK_Positioning</th>\n      <th>GK_Diving</th>\n      <th>GK_Kicking</th>\n      <th>GK_Handling</th>\n      <th>GK_Reflexes</th>\n    </tr>\n  </thead>\n  <tbody>\n    <tr>\n      <th>0</th>\n      <td>Cristiano Ronaldo</td>\n      <td>Portugal</td>\n      <td>LS</td>\n      <td>7.0</td>\n      <td>Real Madrid</td>\n      <td>LW</td>\n      <td>7.0</td>\n      <td>07/01/2009</td>\n      <td>2021.0</td>\n      <td>94</td>\n      <td>...</td>\n      <td>90</td>\n      <td>81</td>\n      <td>76</td>\n      <td>85</td>\n      <td>88</td>\n      <td>14</td>\n      <td>7</td>\n      <td>15</td>\n      <td>11</td>\n      <td>11</td>\n    </tr>\n    <tr>\n      <th>1</th>\n      <td>Lionel Messi</td>\n      <td>Argentina</td>\n      <td>RW</td>\n      <td>10.0</td>\n      <td>FC Barcelona</td>\n      <td>RW</td>\n      <td>10.0</td>\n      <td>07/01/2004</td>\n      <td>2018.0</td>\n      <td>93</td>\n      <td>...</td>\n      <td>88</td>\n      <td>89</td>\n      <td>90</td>\n      <td>74</td>\n      <td>85</td>\n      <td>14</td>\n      <td>6</td>\n      <td>15</td>\n      <td>11</td>\n      <td>8</td>\n    </tr>\n    <tr>\n      <th>2</th>\n      <td>Neymar</td>\n      <td>Brazil</td>\n      <td>LW</td>\n      <td>10.0</td>\n      <td>FC Barcelona</td>\n      <td>LW</td>\n      <td>11.0</td>\n      <td>07/01/2013</td>\n      <td>2021.0</td>\n      <td>92</td>\n      <td>...</td>\n      <td>77</td>\n      <td>79</td>\n      <td>84</td>\n      <td>81</td>\n      <td>83</td>\n      <td>15</td>\n      <td>9</td>\n      <td>15</td>\n      <td>9</td>\n      <td>11</td>\n    </tr>\n    <tr>\n      <th>3</th>\n      <td>Luis Suárez</td>\n      <td>Uruguay</td>\n      <td>LS</td>\n      <td>9.0</td>\n      <td>FC Barcelona</td>\n      <td>ST</td>\n      <td>9.0</td>\n      <td>07/11/2014</td>\n      <td>2021.0</td>\n      <td>92</td>\n      <td>...</td>\n      <td>86</td>\n      <td>86</td>\n      <td>84</td>\n      <td>85</td>\n      <td>88</td>\n      <td>33</td>\n      <td>27</td>\n      <td>31</td>\n      <td>25</td>\n      <td>37</td>\n    </tr>\n    <tr>\n      <th>4</th>\n      <td>Manuel Neuer</td>\n      <td>Germany</td>\n      <td>GK</td>\n      <td>1.0</td>\n      <td>FC Bayern</td>\n      <td>GK</td>\n      <td>1.0</td>\n      <td>07/01/2011</td>\n      <td>2021.0</td>\n      <td>92</td>\n      <td>...</td>\n      <td>16</td>\n      <td>14</td>\n      <td>11</td>\n      <td>47</td>\n      <td>11</td>\n      <td>91</td>\n      <td>89</td>\n      <td>95</td>\n      <td>90</td>\n      <td>89</td>\n    </tr>\n  </tbody>\n</table>\n<p>5 rows × 53 columns</p>\n</div>"
     },
     "execution_count": 4,
     "metadata": {},
     "output_type": "execute_result"
    }
   ],
   "source": [
    "#head() 显示前几行\n",
    "player.head()"
   ]
  },
  {
   "cell_type": "code",
   "execution_count": 5,
   "metadata": {
    "ExecuteTime": {
     "end_time": "2023-10-01T02:21:39.914164Z",
     "start_time": "2023-10-01T02:21:39.836998Z"
    }
   },
   "outputs": [
    {
     "data": {
      "text/plain": "                 Name Nationality National_Position  National_Kit  \\\n0   Cristiano Ronaldo    Portugal                LS           7.0   \n1        Lionel Messi   Argentina                RW          10.0   \n2              Neymar      Brazil                LW          10.0   \n3         Luis Suárez     Uruguay                LS           9.0   \n4        Manuel Neuer     Germany                GK           1.0   \n5              De Gea       Spain                GK           1.0   \n6  Robert Lewandowski      Poland                LS           9.0   \n7         Gareth Bale       Wales                RS          11.0   \n\n             Club Club_Position  Club_Kit Club_Joining  Contract_Expiry  \\\n0     Real Madrid            LW       7.0   07/01/2009           2021.0   \n1    FC Barcelona            RW      10.0   07/01/2004           2018.0   \n2    FC Barcelona            LW      11.0   07/01/2013           2021.0   \n3    FC Barcelona            ST       9.0   07/11/2014           2021.0   \n4       FC Bayern            GK       1.0   07/01/2011           2021.0   \n5  Manchester Utd            GK       1.0   07/01/2011           2019.0   \n6       FC Bayern            ST       9.0   07/01/2014           2021.0   \n7     Real Madrid            RW      11.0   09/02/2013           2022.0   \n\n   Rating  ... Long_Shots Curve Freekick_Accuracy Penalties  Volleys  \\\n0      94  ...         90    81                76        85       88   \n1      93  ...         88    89                90        74       85   \n2      92  ...         77    79                84        81       83   \n3      92  ...         86    86                84        85       88   \n4      92  ...         16    14                11        47       11   \n5      90  ...         12    21                19        40       13   \n6      90  ...         82    77                76        81       86   \n7      90  ...         90    86                85        76       76   \n\n  GK_Positioning GK_Diving  GK_Kicking  GK_Handling  GK_Reflexes  \n0             14         7          15           11           11  \n1             14         6          15           11            8  \n2             15         9          15            9           11  \n3             33        27          31           25           37  \n4             91        89          95           90           89  \n5             86        88          87           85           90  \n6              8        15          12            6           10  \n7              5        15          11           15            6  \n\n[8 rows x 53 columns]",
      "text/html": "<div>\n<style scoped>\n    .dataframe tbody tr th:only-of-type {\n        vertical-align: middle;\n    }\n\n    .dataframe tbody tr th {\n        vertical-align: top;\n    }\n\n    .dataframe thead th {\n        text-align: right;\n    }\n</style>\n<table border=\"1\" class=\"dataframe\">\n  <thead>\n    <tr style=\"text-align: right;\">\n      <th></th>\n      <th>Name</th>\n      <th>Nationality</th>\n      <th>National_Position</th>\n      <th>National_Kit</th>\n      <th>Club</th>\n      <th>Club_Position</th>\n      <th>Club_Kit</th>\n      <th>Club_Joining</th>\n      <th>Contract_Expiry</th>\n      <th>Rating</th>\n      <th>...</th>\n      <th>Long_Shots</th>\n      <th>Curve</th>\n      <th>Freekick_Accuracy</th>\n      <th>Penalties</th>\n      <th>Volleys</th>\n      <th>GK_Positioning</th>\n      <th>GK_Diving</th>\n      <th>GK_Kicking</th>\n      <th>GK_Handling</th>\n      <th>GK_Reflexes</th>\n    </tr>\n  </thead>\n  <tbody>\n    <tr>\n      <th>0</th>\n      <td>Cristiano Ronaldo</td>\n      <td>Portugal</td>\n      <td>LS</td>\n      <td>7.0</td>\n      <td>Real Madrid</td>\n      <td>LW</td>\n      <td>7.0</td>\n      <td>07/01/2009</td>\n      <td>2021.0</td>\n      <td>94</td>\n      <td>...</td>\n      <td>90</td>\n      <td>81</td>\n      <td>76</td>\n      <td>85</td>\n      <td>88</td>\n      <td>14</td>\n      <td>7</td>\n      <td>15</td>\n      <td>11</td>\n      <td>11</td>\n    </tr>\n    <tr>\n      <th>1</th>\n      <td>Lionel Messi</td>\n      <td>Argentina</td>\n      <td>RW</td>\n      <td>10.0</td>\n      <td>FC Barcelona</td>\n      <td>RW</td>\n      <td>10.0</td>\n      <td>07/01/2004</td>\n      <td>2018.0</td>\n      <td>93</td>\n      <td>...</td>\n      <td>88</td>\n      <td>89</td>\n      <td>90</td>\n      <td>74</td>\n      <td>85</td>\n      <td>14</td>\n      <td>6</td>\n      <td>15</td>\n      <td>11</td>\n      <td>8</td>\n    </tr>\n    <tr>\n      <th>2</th>\n      <td>Neymar</td>\n      <td>Brazil</td>\n      <td>LW</td>\n      <td>10.0</td>\n      <td>FC Barcelona</td>\n      <td>LW</td>\n      <td>11.0</td>\n      <td>07/01/2013</td>\n      <td>2021.0</td>\n      <td>92</td>\n      <td>...</td>\n      <td>77</td>\n      <td>79</td>\n      <td>84</td>\n      <td>81</td>\n      <td>83</td>\n      <td>15</td>\n      <td>9</td>\n      <td>15</td>\n      <td>9</td>\n      <td>11</td>\n    </tr>\n    <tr>\n      <th>3</th>\n      <td>Luis Suárez</td>\n      <td>Uruguay</td>\n      <td>LS</td>\n      <td>9.0</td>\n      <td>FC Barcelona</td>\n      <td>ST</td>\n      <td>9.0</td>\n      <td>07/11/2014</td>\n      <td>2021.0</td>\n      <td>92</td>\n      <td>...</td>\n      <td>86</td>\n      <td>86</td>\n      <td>84</td>\n      <td>85</td>\n      <td>88</td>\n      <td>33</td>\n      <td>27</td>\n      <td>31</td>\n      <td>25</td>\n      <td>37</td>\n    </tr>\n    <tr>\n      <th>4</th>\n      <td>Manuel Neuer</td>\n      <td>Germany</td>\n      <td>GK</td>\n      <td>1.0</td>\n      <td>FC Bayern</td>\n      <td>GK</td>\n      <td>1.0</td>\n      <td>07/01/2011</td>\n      <td>2021.0</td>\n      <td>92</td>\n      <td>...</td>\n      <td>16</td>\n      <td>14</td>\n      <td>11</td>\n      <td>47</td>\n      <td>11</td>\n      <td>91</td>\n      <td>89</td>\n      <td>95</td>\n      <td>90</td>\n      <td>89</td>\n    </tr>\n    <tr>\n      <th>5</th>\n      <td>De Gea</td>\n      <td>Spain</td>\n      <td>GK</td>\n      <td>1.0</td>\n      <td>Manchester Utd</td>\n      <td>GK</td>\n      <td>1.0</td>\n      <td>07/01/2011</td>\n      <td>2019.0</td>\n      <td>90</td>\n      <td>...</td>\n      <td>12</td>\n      <td>21</td>\n      <td>19</td>\n      <td>40</td>\n      <td>13</td>\n      <td>86</td>\n      <td>88</td>\n      <td>87</td>\n      <td>85</td>\n      <td>90</td>\n    </tr>\n    <tr>\n      <th>6</th>\n      <td>Robert Lewandowski</td>\n      <td>Poland</td>\n      <td>LS</td>\n      <td>9.0</td>\n      <td>FC Bayern</td>\n      <td>ST</td>\n      <td>9.0</td>\n      <td>07/01/2014</td>\n      <td>2021.0</td>\n      <td>90</td>\n      <td>...</td>\n      <td>82</td>\n      <td>77</td>\n      <td>76</td>\n      <td>81</td>\n      <td>86</td>\n      <td>8</td>\n      <td>15</td>\n      <td>12</td>\n      <td>6</td>\n      <td>10</td>\n    </tr>\n    <tr>\n      <th>7</th>\n      <td>Gareth Bale</td>\n      <td>Wales</td>\n      <td>RS</td>\n      <td>11.0</td>\n      <td>Real Madrid</td>\n      <td>RW</td>\n      <td>11.0</td>\n      <td>09/02/2013</td>\n      <td>2022.0</td>\n      <td>90</td>\n      <td>...</td>\n      <td>90</td>\n      <td>86</td>\n      <td>85</td>\n      <td>76</td>\n      <td>76</td>\n      <td>5</td>\n      <td>15</td>\n      <td>11</td>\n      <td>15</td>\n      <td>6</td>\n    </tr>\n  </tbody>\n</table>\n<p>8 rows × 53 columns</p>\n</div>"
     },
     "execution_count": 5,
     "metadata": {},
     "output_type": "execute_result"
    }
   ],
   "source": [
    "player.head(8)"
   ]
  },
  {
   "cell_type": "code",
   "execution_count": 6,
   "metadata": {
    "ExecuteTime": {
     "end_time": "2023-10-01T02:21:39.914892Z",
     "start_time": "2023-10-01T02:21:39.851450Z"
    }
   },
   "outputs": [
    {
     "data": {
      "text/plain": "                   Name          Nationality National_Position  National_Kit  \\\n17582   Mark McElhinney  Republic of Ireland               NaN           NaN   \n17583       Adam Dunbar  Republic of Ireland               NaN           NaN   \n17584      Dylan McGoey  Republic of Ireland               NaN           NaN   \n17585   Tommy Ouldridge              England               NaN           NaN   \n17586        Mark Foden             Scotland               NaN           NaN   \n17587  Barry Richardson              England               NaN           NaN   \n\n                 Club Club_Position  Club_Kit Club_Joining  Contract_Expiry  \\\n17582      Derry City           Res      20.0   01/01/2016           2017.0   \n17583  Wexford Youths           Sub      30.0   02/01/2016           2020.0   \n17584   Longford Town           Sub      28.0   01/01/2016           2020.0   \n17585    Swindon Town           Res      32.0   03/03/2015           2023.0   \n17586     Ross County           Sub      45.0   03/02/2016           2017.0   \n17587         Wycombe           Sub      13.0   01/30/2014           2023.0   \n\n       Rating  ... Long_Shots Curve Freekick_Accuracy Penalties  Volleys  \\\n17582      45  ...         12    11                11        16       12   \n17583      45  ...         13    11                13        15       12   \n17584      45  ...         11    12                13        16       12   \n17585      45  ...         42    35                36        42       37   \n17586      45  ...         12    13                12        24       12   \n17587      45  ...         16    12                11        22       12   \n\n      GK_Positioning GK_Diving  GK_Kicking  GK_Handling  GK_Reflexes  \n17582             46        41          50           45           44  \n17583             39        44          52           41           46  \n17584             47        39          46           46           46  \n17585             15         7          13           14            7  \n17586             40        45          44           43           45  \n17587             58        37          37           51           33  \n\n[6 rows x 53 columns]",
      "text/html": "<div>\n<style scoped>\n    .dataframe tbody tr th:only-of-type {\n        vertical-align: middle;\n    }\n\n    .dataframe tbody tr th {\n        vertical-align: top;\n    }\n\n    .dataframe thead th {\n        text-align: right;\n    }\n</style>\n<table border=\"1\" class=\"dataframe\">\n  <thead>\n    <tr style=\"text-align: right;\">\n      <th></th>\n      <th>Name</th>\n      <th>Nationality</th>\n      <th>National_Position</th>\n      <th>National_Kit</th>\n      <th>Club</th>\n      <th>Club_Position</th>\n      <th>Club_Kit</th>\n      <th>Club_Joining</th>\n      <th>Contract_Expiry</th>\n      <th>Rating</th>\n      <th>...</th>\n      <th>Long_Shots</th>\n      <th>Curve</th>\n      <th>Freekick_Accuracy</th>\n      <th>Penalties</th>\n      <th>Volleys</th>\n      <th>GK_Positioning</th>\n      <th>GK_Diving</th>\n      <th>GK_Kicking</th>\n      <th>GK_Handling</th>\n      <th>GK_Reflexes</th>\n    </tr>\n  </thead>\n  <tbody>\n    <tr>\n      <th>17582</th>\n      <td>Mark McElhinney</td>\n      <td>Republic of Ireland</td>\n      <td>NaN</td>\n      <td>NaN</td>\n      <td>Derry City</td>\n      <td>Res</td>\n      <td>20.0</td>\n      <td>01/01/2016</td>\n      <td>2017.0</td>\n      <td>45</td>\n      <td>...</td>\n      <td>12</td>\n      <td>11</td>\n      <td>11</td>\n      <td>16</td>\n      <td>12</td>\n      <td>46</td>\n      <td>41</td>\n      <td>50</td>\n      <td>45</td>\n      <td>44</td>\n    </tr>\n    <tr>\n      <th>17583</th>\n      <td>Adam Dunbar</td>\n      <td>Republic of Ireland</td>\n      <td>NaN</td>\n      <td>NaN</td>\n      <td>Wexford Youths</td>\n      <td>Sub</td>\n      <td>30.0</td>\n      <td>02/01/2016</td>\n      <td>2020.0</td>\n      <td>45</td>\n      <td>...</td>\n      <td>13</td>\n      <td>11</td>\n      <td>13</td>\n      <td>15</td>\n      <td>12</td>\n      <td>39</td>\n      <td>44</td>\n      <td>52</td>\n      <td>41</td>\n      <td>46</td>\n    </tr>\n    <tr>\n      <th>17584</th>\n      <td>Dylan McGoey</td>\n      <td>Republic of Ireland</td>\n      <td>NaN</td>\n      <td>NaN</td>\n      <td>Longford Town</td>\n      <td>Sub</td>\n      <td>28.0</td>\n      <td>01/01/2016</td>\n      <td>2020.0</td>\n      <td>45</td>\n      <td>...</td>\n      <td>11</td>\n      <td>12</td>\n      <td>13</td>\n      <td>16</td>\n      <td>12</td>\n      <td>47</td>\n      <td>39</td>\n      <td>46</td>\n      <td>46</td>\n      <td>46</td>\n    </tr>\n    <tr>\n      <th>17585</th>\n      <td>Tommy Ouldridge</td>\n      <td>England</td>\n      <td>NaN</td>\n      <td>NaN</td>\n      <td>Swindon Town</td>\n      <td>Res</td>\n      <td>32.0</td>\n      <td>03/03/2015</td>\n      <td>2023.0</td>\n      <td>45</td>\n      <td>...</td>\n      <td>42</td>\n      <td>35</td>\n      <td>36</td>\n      <td>42</td>\n      <td>37</td>\n      <td>15</td>\n      <td>7</td>\n      <td>13</td>\n      <td>14</td>\n      <td>7</td>\n    </tr>\n    <tr>\n      <th>17586</th>\n      <td>Mark Foden</td>\n      <td>Scotland</td>\n      <td>NaN</td>\n      <td>NaN</td>\n      <td>Ross County</td>\n      <td>Sub</td>\n      <td>45.0</td>\n      <td>03/02/2016</td>\n      <td>2017.0</td>\n      <td>45</td>\n      <td>...</td>\n      <td>12</td>\n      <td>13</td>\n      <td>12</td>\n      <td>24</td>\n      <td>12</td>\n      <td>40</td>\n      <td>45</td>\n      <td>44</td>\n      <td>43</td>\n      <td>45</td>\n    </tr>\n    <tr>\n      <th>17587</th>\n      <td>Barry Richardson</td>\n      <td>England</td>\n      <td>NaN</td>\n      <td>NaN</td>\n      <td>Wycombe</td>\n      <td>Sub</td>\n      <td>13.0</td>\n      <td>01/30/2014</td>\n      <td>2023.0</td>\n      <td>45</td>\n      <td>...</td>\n      <td>16</td>\n      <td>12</td>\n      <td>11</td>\n      <td>22</td>\n      <td>12</td>\n      <td>58</td>\n      <td>37</td>\n      <td>37</td>\n      <td>51</td>\n      <td>33</td>\n    </tr>\n  </tbody>\n</table>\n<p>6 rows × 53 columns</p>\n</div>"
     },
     "execution_count": 6,
     "metadata": {},
     "output_type": "execute_result"
    }
   ],
   "source": [
    "#tail()后几行\n",
    "player.tail(6)"
   ]
  },
  {
   "cell_type": "code",
   "execution_count": 7,
   "metadata": {
    "ExecuteTime": {
     "end_time": "2023-10-01T02:21:39.997081Z",
     "start_time": "2023-10-01T02:21:39.856400Z"
    }
   },
   "outputs": [
    {
     "data": {
      "text/plain": "                     Name Nationality National_Position  National_Kit  \\\n9217  Richard Windbichler     Austria               NaN           NaN   \n\n               Club Club_Position  Club_Kit Club_Joining  Contract_Expiry  \\\n9217  Ulsan Hyundai           Res      27.0   01/25/2017           2017.0   \n\n      Rating  ... Long_Shots Curve Freekick_Accuracy Penalties  Volleys  \\\n9217      66  ...         21    35                16        56       21   \n\n     GK_Positioning GK_Diving  GK_Kicking  GK_Handling  GK_Reflexes  \n9217             11         9           7           16           11  \n\n[1 rows x 53 columns]",
      "text/html": "<div>\n<style scoped>\n    .dataframe tbody tr th:only-of-type {\n        vertical-align: middle;\n    }\n\n    .dataframe tbody tr th {\n        vertical-align: top;\n    }\n\n    .dataframe thead th {\n        text-align: right;\n    }\n</style>\n<table border=\"1\" class=\"dataframe\">\n  <thead>\n    <tr style=\"text-align: right;\">\n      <th></th>\n      <th>Name</th>\n      <th>Nationality</th>\n      <th>National_Position</th>\n      <th>National_Kit</th>\n      <th>Club</th>\n      <th>Club_Position</th>\n      <th>Club_Kit</th>\n      <th>Club_Joining</th>\n      <th>Contract_Expiry</th>\n      <th>Rating</th>\n      <th>...</th>\n      <th>Long_Shots</th>\n      <th>Curve</th>\n      <th>Freekick_Accuracy</th>\n      <th>Penalties</th>\n      <th>Volleys</th>\n      <th>GK_Positioning</th>\n      <th>GK_Diving</th>\n      <th>GK_Kicking</th>\n      <th>GK_Handling</th>\n      <th>GK_Reflexes</th>\n    </tr>\n  </thead>\n  <tbody>\n    <tr>\n      <th>9217</th>\n      <td>Richard Windbichler</td>\n      <td>Austria</td>\n      <td>NaN</td>\n      <td>NaN</td>\n      <td>Ulsan Hyundai</td>\n      <td>Res</td>\n      <td>27.0</td>\n      <td>01/25/2017</td>\n      <td>2017.0</td>\n      <td>66</td>\n      <td>...</td>\n      <td>21</td>\n      <td>35</td>\n      <td>16</td>\n      <td>56</td>\n      <td>21</td>\n      <td>11</td>\n      <td>9</td>\n      <td>7</td>\n      <td>16</td>\n      <td>11</td>\n    </tr>\n  </tbody>\n</table>\n<p>1 rows × 53 columns</p>\n</div>"
     },
     "execution_count": 7,
     "metadata": {},
     "output_type": "execute_result"
    }
   ],
   "source": [
    "#sample 随机采样\n",
    "player.sample()"
   ]
  },
  {
   "cell_type": "code",
   "execution_count": 8,
   "metadata": {
    "ExecuteTime": {
     "end_time": "2023-10-01T02:21:40.105353Z",
     "start_time": "2023-10-01T02:21:39.884531Z"
    }
   },
   "outputs": [
    {
     "data": {
      "text/plain": "                        Name   Nationality National_Position  National_Kit  \\\n13664  Krzysztof Danielewicz        Poland               NaN           NaN   \n11766          Pablo Rosario   Netherlands               NaN           NaN   \n15156            Álex Lázaro         Spain               NaN           NaN   \n13846      Fahad Al Shammari  Saudi Arabia               NaN           NaN   \n619              Jeroen Zoet   Netherlands                GK           1.0   \n\n                Club Club_Position  Club_Kit Club_Joining  Contract_Expiry  \\\n13664  Górnik Łęczna           LDM      77.0   07/01/2016           2017.0   \n11766            PSV           Res      43.0   07/25/2016           2020.0   \n15156     Cádiz C.F.           Res      27.0   06/30/2015           2018.0   \n13846     Al Taawoun            GK      22.0   05/31/2016           2017.0   \n619              PSV            GK       1.0   07/01/2009           2019.0   \n\n       Rating  ... Long_Shots Curve Freekick_Accuracy Penalties  Volleys  \\\n13664      61  ...         49    49                42        55       49   \n11766      63  ...         56    30                37        50       42   \n15156      58  ...         28    32                14        28       16   \n13846      61  ...         18    14                19        22       13   \n619        79  ...         17    13                16        27       19   \n\n      GK_Positioning GK_Diving  GK_Kicking  GK_Handling  GK_Reflexes  \n13664             11         8          16            7           11  \n11766              9        12           7           12            5  \n15156             57        62          59           56           54  \n13846             58        63          53           57           64  \n619               78        80          77           76           82  \n\n[5 rows x 53 columns]",
      "text/html": "<div>\n<style scoped>\n    .dataframe tbody tr th:only-of-type {\n        vertical-align: middle;\n    }\n\n    .dataframe tbody tr th {\n        vertical-align: top;\n    }\n\n    .dataframe thead th {\n        text-align: right;\n    }\n</style>\n<table border=\"1\" class=\"dataframe\">\n  <thead>\n    <tr style=\"text-align: right;\">\n      <th></th>\n      <th>Name</th>\n      <th>Nationality</th>\n      <th>National_Position</th>\n      <th>National_Kit</th>\n      <th>Club</th>\n      <th>Club_Position</th>\n      <th>Club_Kit</th>\n      <th>Club_Joining</th>\n      <th>Contract_Expiry</th>\n      <th>Rating</th>\n      <th>...</th>\n      <th>Long_Shots</th>\n      <th>Curve</th>\n      <th>Freekick_Accuracy</th>\n      <th>Penalties</th>\n      <th>Volleys</th>\n      <th>GK_Positioning</th>\n      <th>GK_Diving</th>\n      <th>GK_Kicking</th>\n      <th>GK_Handling</th>\n      <th>GK_Reflexes</th>\n    </tr>\n  </thead>\n  <tbody>\n    <tr>\n      <th>13664</th>\n      <td>Krzysztof Danielewicz</td>\n      <td>Poland</td>\n      <td>NaN</td>\n      <td>NaN</td>\n      <td>Górnik Łęczna</td>\n      <td>LDM</td>\n      <td>77.0</td>\n      <td>07/01/2016</td>\n      <td>2017.0</td>\n      <td>61</td>\n      <td>...</td>\n      <td>49</td>\n      <td>49</td>\n      <td>42</td>\n      <td>55</td>\n      <td>49</td>\n      <td>11</td>\n      <td>8</td>\n      <td>16</td>\n      <td>7</td>\n      <td>11</td>\n    </tr>\n    <tr>\n      <th>11766</th>\n      <td>Pablo Rosario</td>\n      <td>Netherlands</td>\n      <td>NaN</td>\n      <td>NaN</td>\n      <td>PSV</td>\n      <td>Res</td>\n      <td>43.0</td>\n      <td>07/25/2016</td>\n      <td>2020.0</td>\n      <td>63</td>\n      <td>...</td>\n      <td>56</td>\n      <td>30</td>\n      <td>37</td>\n      <td>50</td>\n      <td>42</td>\n      <td>9</td>\n      <td>12</td>\n      <td>7</td>\n      <td>12</td>\n      <td>5</td>\n    </tr>\n    <tr>\n      <th>15156</th>\n      <td>Álex Lázaro</td>\n      <td>Spain</td>\n      <td>NaN</td>\n      <td>NaN</td>\n      <td>Cádiz C.F.</td>\n      <td>Res</td>\n      <td>27.0</td>\n      <td>06/30/2015</td>\n      <td>2018.0</td>\n      <td>58</td>\n      <td>...</td>\n      <td>28</td>\n      <td>32</td>\n      <td>14</td>\n      <td>28</td>\n      <td>16</td>\n      <td>57</td>\n      <td>62</td>\n      <td>59</td>\n      <td>56</td>\n      <td>54</td>\n    </tr>\n    <tr>\n      <th>13846</th>\n      <td>Fahad Al Shammari</td>\n      <td>Saudi Arabia</td>\n      <td>NaN</td>\n      <td>NaN</td>\n      <td>Al Taawoun</td>\n      <td>GK</td>\n      <td>22.0</td>\n      <td>05/31/2016</td>\n      <td>2017.0</td>\n      <td>61</td>\n      <td>...</td>\n      <td>18</td>\n      <td>14</td>\n      <td>19</td>\n      <td>22</td>\n      <td>13</td>\n      <td>58</td>\n      <td>63</td>\n      <td>53</td>\n      <td>57</td>\n      <td>64</td>\n    </tr>\n    <tr>\n      <th>619</th>\n      <td>Jeroen Zoet</td>\n      <td>Netherlands</td>\n      <td>GK</td>\n      <td>1.0</td>\n      <td>PSV</td>\n      <td>GK</td>\n      <td>1.0</td>\n      <td>07/01/2009</td>\n      <td>2019.0</td>\n      <td>79</td>\n      <td>...</td>\n      <td>17</td>\n      <td>13</td>\n      <td>16</td>\n      <td>27</td>\n      <td>19</td>\n      <td>78</td>\n      <td>80</td>\n      <td>77</td>\n      <td>76</td>\n      <td>82</td>\n    </tr>\n  </tbody>\n</table>\n<p>5 rows × 53 columns</p>\n</div>"
     },
     "execution_count": 8,
     "metadata": {},
     "output_type": "execute_result"
    }
   ],
   "source": [
    "player.sample(5)"
   ]
  },
  {
   "cell_type": "code",
   "execution_count": 9,
   "metadata": {
    "ExecuteTime": {
     "end_time": "2023-10-01T02:21:40.105951Z",
     "start_time": "2023-10-01T02:21:39.897006Z"
    }
   },
   "outputs": [
    {
     "data": {
      "text/plain": "                Name Nationality National_Position  National_Kit  \\\n0  Cristiano Ronaldo    Portugal                LS           7.0   \n1       Lionel Messi   Argentina                RW          10.0   \n2             Neymar      Brazil                LW          10.0   \n3        Luis Suárez     Uruguay                LS           9.0   \n4       Manuel Neuer     Germany                GK           1.0   \n\n           Club  ... GK_Positioning  GK_Diving GK_Kicking  GK_Handling  \\\n0   Real Madrid  ...             14          7         15           11   \n1  FC Barcelona  ...             14          6         15           11   \n2  FC Barcelona  ...             15          9         15            9   \n3  FC Barcelona  ...             33         27         31           25   \n4     FC Bayern  ...             91         89         95           90   \n\n   GK_Reflexes  \n0           11  \n1            8  \n2           11  \n3           37  \n4           89  \n\n[5 rows x 53 columns]",
      "text/html": "<div>\n<style scoped>\n    .dataframe tbody tr th:only-of-type {\n        vertical-align: middle;\n    }\n\n    .dataframe tbody tr th {\n        vertical-align: top;\n    }\n\n    .dataframe thead th {\n        text-align: right;\n    }\n</style>\n<table border=\"1\" class=\"dataframe\">\n  <thead>\n    <tr style=\"text-align: right;\">\n      <th></th>\n      <th>Name</th>\n      <th>Nationality</th>\n      <th>National_Position</th>\n      <th>National_Kit</th>\n      <th>Club</th>\n      <th>...</th>\n      <th>GK_Positioning</th>\n      <th>GK_Diving</th>\n      <th>GK_Kicking</th>\n      <th>GK_Handling</th>\n      <th>GK_Reflexes</th>\n    </tr>\n  </thead>\n  <tbody>\n    <tr>\n      <th>0</th>\n      <td>Cristiano Ronaldo</td>\n      <td>Portugal</td>\n      <td>LS</td>\n      <td>7.0</td>\n      <td>Real Madrid</td>\n      <td>...</td>\n      <td>14</td>\n      <td>7</td>\n      <td>15</td>\n      <td>11</td>\n      <td>11</td>\n    </tr>\n    <tr>\n      <th>1</th>\n      <td>Lionel Messi</td>\n      <td>Argentina</td>\n      <td>RW</td>\n      <td>10.0</td>\n      <td>FC Barcelona</td>\n      <td>...</td>\n      <td>14</td>\n      <td>6</td>\n      <td>15</td>\n      <td>11</td>\n      <td>8</td>\n    </tr>\n    <tr>\n      <th>2</th>\n      <td>Neymar</td>\n      <td>Brazil</td>\n      <td>LW</td>\n      <td>10.0</td>\n      <td>FC Barcelona</td>\n      <td>...</td>\n      <td>15</td>\n      <td>9</td>\n      <td>15</td>\n      <td>9</td>\n      <td>11</td>\n    </tr>\n    <tr>\n      <th>3</th>\n      <td>Luis Suárez</td>\n      <td>Uruguay</td>\n      <td>LS</td>\n      <td>9.0</td>\n      <td>FC Barcelona</td>\n      <td>...</td>\n      <td>33</td>\n      <td>27</td>\n      <td>31</td>\n      <td>25</td>\n      <td>37</td>\n    </tr>\n    <tr>\n      <th>4</th>\n      <td>Manuel Neuer</td>\n      <td>Germany</td>\n      <td>GK</td>\n      <td>1.0</td>\n      <td>FC Bayern</td>\n      <td>...</td>\n      <td>91</td>\n      <td>89</td>\n      <td>95</td>\n      <td>90</td>\n      <td>89</td>\n    </tr>\n  </tbody>\n</table>\n<p>5 rows × 53 columns</p>\n</div>"
     },
     "execution_count": 9,
     "metadata": {},
     "output_type": "execute_result"
    }
   ],
   "source": [
    "#设置显示的列\n",
    "pd.set_option('display.max_columns',10)\n",
    "player.head()"
   ]
  },
  {
   "cell_type": "markdown",
   "metadata": {},
   "source": [
    "缺值处理"
   ]
  },
  {
   "cell_type": "code",
   "execution_count": 10,
   "metadata": {
    "ExecuteTime": {
     "end_time": "2023-10-01T02:21:40.203745Z",
     "start_time": "2023-10-01T02:21:39.901055Z"
    }
   },
   "outputs": [
    {
     "name": "stdout",
     "output_type": "stream",
     "text": [
      "<class 'pandas.core.frame.DataFrame'>\n",
      "RangeIndex: 17588 entries, 0 to 17587\n",
      "Data columns (total 53 columns):\n",
      " #   Column              Non-Null Count  Dtype  \n",
      "---  ------              --------------  -----  \n",
      " 0   Name                17588 non-null  object \n",
      " 1   Nationality         17588 non-null  object \n",
      " 2   National_Position   1075 non-null   object \n",
      " 3   National_Kit        1075 non-null   float64\n",
      " 4   Club                17588 non-null  object \n",
      " 5   Club_Position       17587 non-null  object \n",
      " 6   Club_Kit            17587 non-null  float64\n",
      " 7   Club_Joining        17587 non-null  object \n",
      " 8   Contract_Expiry     17587 non-null  float64\n",
      " 9   Rating              17588 non-null  int64  \n",
      " 10  Height              17588 non-null  object \n",
      " 11  Weight              17588 non-null  object \n",
      " 12  Preffered_Foot      17588 non-null  object \n",
      " 13  Birth_Date          17588 non-null  object \n",
      " 14  Age                 17588 non-null  int64  \n",
      " 15  Preffered_Position  17588 non-null  object \n",
      " 16  Work_Rate           17588 non-null  object \n",
      " 17  Weak_foot           17588 non-null  int64  \n",
      " 18  Skill_Moves         17588 non-null  int64  \n",
      " 19  Ball_Control        17588 non-null  int64  \n",
      " 20  Dribbling           17588 non-null  int64  \n",
      " 21  Marking             17588 non-null  int64  \n",
      " 22  Sliding_Tackle      17588 non-null  int64  \n",
      " 23  Standing_Tackle     17588 non-null  int64  \n",
      " 24  Aggression          17588 non-null  int64  \n",
      " 25  Reactions           17588 non-null  int64  \n",
      " 26  Attacking_Position  17588 non-null  int64  \n",
      " 27  Interceptions       17588 non-null  int64  \n",
      " 28  Vision              17588 non-null  int64  \n",
      " 29  Composure           17588 non-null  int64  \n",
      " 30  Crossing            17588 non-null  int64  \n",
      " 31  Short_Pass          17588 non-null  int64  \n",
      " 32  Long_Pass           17588 non-null  int64  \n",
      " 33  Acceleration        17588 non-null  int64  \n",
      " 34  Speed               17588 non-null  int64  \n",
      " 35  Stamina             17588 non-null  int64  \n",
      " 36  Strength            17588 non-null  int64  \n",
      " 37  Balance             17588 non-null  int64  \n",
      " 38  Agility             17588 non-null  int64  \n",
      " 39  Jumping             17588 non-null  int64  \n",
      " 40  Heading             17588 non-null  int64  \n",
      " 41  Shot_Power          17588 non-null  int64  \n",
      " 42  Finishing           17588 non-null  int64  \n",
      " 43  Long_Shots          17588 non-null  int64  \n",
      " 44  Curve               17588 non-null  int64  \n",
      " 45  Freekick_Accuracy   17588 non-null  int64  \n",
      " 46  Penalties           17588 non-null  int64  \n",
      " 47  Volleys             17588 non-null  int64  \n",
      " 48  GK_Positioning      17588 non-null  int64  \n",
      " 49  GK_Diving           17588 non-null  int64  \n",
      " 50  GK_Kicking          17588 non-null  int64  \n",
      " 51  GK_Handling         17588 non-null  int64  \n",
      " 52  GK_Reflexes         17588 non-null  int64  \n",
      "dtypes: float64(3), int64(38), object(12)\n",
      "memory usage: 7.1+ MB\n"
     ]
    }
   ],
   "source": [
    "player.info()"
   ]
  },
  {
   "cell_type": "code",
   "execution_count": 11,
   "metadata": {
    "ExecuteTime": {
     "end_time": "2023-10-01T02:21:40.204140Z",
     "start_time": "2023-10-01T02:21:39.934943Z"
    }
   },
   "outputs": [
    {
     "data": {
      "text/plain": "0        False\n1        False\n2        False\n3        False\n4        False\n         ...  \n17583    False\n17584    False\n17585    False\n17586    False\n17587    False\nName: Club_Position, Length: 17588, dtype: bool"
     },
     "execution_count": 11,
     "metadata": {},
     "output_type": "execute_result"
    }
   ],
   "source": [
    "#处理缺失值\n",
    "#查看是否缺失值\n",
    "player['Club_Position'].isnull()"
   ]
  },
  {
   "cell_type": "code",
   "execution_count": 12,
   "metadata": {
    "ExecuteTime": {
     "end_time": "2023-10-01T02:21:40.204415Z",
     "start_time": "2023-10-01T02:21:39.944952Z"
    }
   },
   "outputs": [
    {
     "data": {
      "text/plain": "True"
     },
     "execution_count": 12,
     "metadata": {},
     "output_type": "execute_result"
    }
   ],
   "source": [
    "#any()\n",
    "player['Club_Position'].isnull().any()"
   ]
  },
  {
   "cell_type": "code",
   "execution_count": 13,
   "metadata": {
    "ExecuteTime": {
     "end_time": "2023-10-01T02:21:40.204938Z",
     "start_time": "2023-10-01T02:21:39.948224Z"
    }
   },
   "outputs": [
    {
     "data": {
      "text/plain": "              Name  Nationality National_Position  National_Kit        Club  \\\n383  Didier Drogba  Ivory Coast               NaN           NaN  Free agent   \n\n     ... GK_Positioning  GK_Diving GK_Kicking  GK_Handling  GK_Reflexes  \n383  ...              6         10          8           11           14  \n\n[1 rows x 53 columns]",
      "text/html": "<div>\n<style scoped>\n    .dataframe tbody tr th:only-of-type {\n        vertical-align: middle;\n    }\n\n    .dataframe tbody tr th {\n        vertical-align: top;\n    }\n\n    .dataframe thead th {\n        text-align: right;\n    }\n</style>\n<table border=\"1\" class=\"dataframe\">\n  <thead>\n    <tr style=\"text-align: right;\">\n      <th></th>\n      <th>Name</th>\n      <th>Nationality</th>\n      <th>National_Position</th>\n      <th>National_Kit</th>\n      <th>Club</th>\n      <th>...</th>\n      <th>GK_Positioning</th>\n      <th>GK_Diving</th>\n      <th>GK_Kicking</th>\n      <th>GK_Handling</th>\n      <th>GK_Reflexes</th>\n    </tr>\n  </thead>\n  <tbody>\n    <tr>\n      <th>383</th>\n      <td>Didier Drogba</td>\n      <td>Ivory Coast</td>\n      <td>NaN</td>\n      <td>NaN</td>\n      <td>Free agent</td>\n      <td>...</td>\n      <td>6</td>\n      <td>10</td>\n      <td>8</td>\n      <td>11</td>\n      <td>14</td>\n    </tr>\n  </tbody>\n</table>\n<p>1 rows × 53 columns</p>\n</div>"
     },
     "execution_count": 13,
     "metadata": {},
     "output_type": "execute_result"
    }
   ],
   "source": [
    "#获取缺失值\n",
    "player[player['Club_Position'].isnull()]"
   ]
  },
  {
   "cell_type": "code",
   "execution_count": 14,
   "metadata": {
    "ExecuteTime": {
     "end_time": "2023-10-01T02:21:40.205574Z",
     "start_time": "2023-10-01T02:21:39.967821Z"
    }
   },
   "outputs": [
    {
     "data": {
      "text/plain": "                    Name          Nationality National_Position  National_Kit  \\\n0      Cristiano Ronaldo             Portugal                LS           7.0   \n1           Lionel Messi            Argentina                RW          10.0   \n2                 Neymar               Brazil                LW          10.0   \n3            Luis Suárez              Uruguay                LS           9.0   \n4           Manuel Neuer              Germany                GK           1.0   \n...                  ...                  ...               ...           ...   \n17583        Adam Dunbar  Republic of Ireland               NaN           NaN   \n17584       Dylan McGoey  Republic of Ireland               NaN           NaN   \n17585    Tommy Ouldridge              England               NaN           NaN   \n17586         Mark Foden             Scotland               NaN           NaN   \n17587   Barry Richardson              England               NaN           NaN   \n\n                 Club  ... GK_Positioning  GK_Diving GK_Kicking  GK_Handling  \\\n0         Real Madrid  ...             14          7         15           11   \n1        FC Barcelona  ...             14          6         15           11   \n2        FC Barcelona  ...             15          9         15            9   \n3        FC Barcelona  ...             33         27         31           25   \n4           FC Bayern  ...             91         89         95           90   \n...               ...  ...            ...        ...        ...          ...   \n17583  Wexford Youths  ...             39         44         52           41   \n17584   Longford Town  ...             47         39         46           46   \n17585    Swindon Town  ...             15          7         13           14   \n17586     Ross County  ...             40         45         44           43   \n17587         Wycombe  ...             58         37         37           51   \n\n       GK_Reflexes  \n0               11  \n1                8  \n2               11  \n3               37  \n4               89  \n...            ...  \n17583           46  \n17584           46  \n17585            7  \n17586           45  \n17587           33  \n\n[17587 rows x 53 columns]",
      "text/html": "<div>\n<style scoped>\n    .dataframe tbody tr th:only-of-type {\n        vertical-align: middle;\n    }\n\n    .dataframe tbody tr th {\n        vertical-align: top;\n    }\n\n    .dataframe thead th {\n        text-align: right;\n    }\n</style>\n<table border=\"1\" class=\"dataframe\">\n  <thead>\n    <tr style=\"text-align: right;\">\n      <th></th>\n      <th>Name</th>\n      <th>Nationality</th>\n      <th>National_Position</th>\n      <th>National_Kit</th>\n      <th>Club</th>\n      <th>...</th>\n      <th>GK_Positioning</th>\n      <th>GK_Diving</th>\n      <th>GK_Kicking</th>\n      <th>GK_Handling</th>\n      <th>GK_Reflexes</th>\n    </tr>\n  </thead>\n  <tbody>\n    <tr>\n      <th>0</th>\n      <td>Cristiano Ronaldo</td>\n      <td>Portugal</td>\n      <td>LS</td>\n      <td>7.0</td>\n      <td>Real Madrid</td>\n      <td>...</td>\n      <td>14</td>\n      <td>7</td>\n      <td>15</td>\n      <td>11</td>\n      <td>11</td>\n    </tr>\n    <tr>\n      <th>1</th>\n      <td>Lionel Messi</td>\n      <td>Argentina</td>\n      <td>RW</td>\n      <td>10.0</td>\n      <td>FC Barcelona</td>\n      <td>...</td>\n      <td>14</td>\n      <td>6</td>\n      <td>15</td>\n      <td>11</td>\n      <td>8</td>\n    </tr>\n    <tr>\n      <th>2</th>\n      <td>Neymar</td>\n      <td>Brazil</td>\n      <td>LW</td>\n      <td>10.0</td>\n      <td>FC Barcelona</td>\n      <td>...</td>\n      <td>15</td>\n      <td>9</td>\n      <td>15</td>\n      <td>9</td>\n      <td>11</td>\n    </tr>\n    <tr>\n      <th>3</th>\n      <td>Luis Suárez</td>\n      <td>Uruguay</td>\n      <td>LS</td>\n      <td>9.0</td>\n      <td>FC Barcelona</td>\n      <td>...</td>\n      <td>33</td>\n      <td>27</td>\n      <td>31</td>\n      <td>25</td>\n      <td>37</td>\n    </tr>\n    <tr>\n      <th>4</th>\n      <td>Manuel Neuer</td>\n      <td>Germany</td>\n      <td>GK</td>\n      <td>1.0</td>\n      <td>FC Bayern</td>\n      <td>...</td>\n      <td>91</td>\n      <td>89</td>\n      <td>95</td>\n      <td>90</td>\n      <td>89</td>\n    </tr>\n    <tr>\n      <th>...</th>\n      <td>...</td>\n      <td>...</td>\n      <td>...</td>\n      <td>...</td>\n      <td>...</td>\n      <td>...</td>\n      <td>...</td>\n      <td>...</td>\n      <td>...</td>\n      <td>...</td>\n      <td>...</td>\n    </tr>\n    <tr>\n      <th>17583</th>\n      <td>Adam Dunbar</td>\n      <td>Republic of Ireland</td>\n      <td>NaN</td>\n      <td>NaN</td>\n      <td>Wexford Youths</td>\n      <td>...</td>\n      <td>39</td>\n      <td>44</td>\n      <td>52</td>\n      <td>41</td>\n      <td>46</td>\n    </tr>\n    <tr>\n      <th>17584</th>\n      <td>Dylan McGoey</td>\n      <td>Republic of Ireland</td>\n      <td>NaN</td>\n      <td>NaN</td>\n      <td>Longford Town</td>\n      <td>...</td>\n      <td>47</td>\n      <td>39</td>\n      <td>46</td>\n      <td>46</td>\n      <td>46</td>\n    </tr>\n    <tr>\n      <th>17585</th>\n      <td>Tommy Ouldridge</td>\n      <td>England</td>\n      <td>NaN</td>\n      <td>NaN</td>\n      <td>Swindon Town</td>\n      <td>...</td>\n      <td>15</td>\n      <td>7</td>\n      <td>13</td>\n      <td>14</td>\n      <td>7</td>\n    </tr>\n    <tr>\n      <th>17586</th>\n      <td>Mark Foden</td>\n      <td>Scotland</td>\n      <td>NaN</td>\n      <td>NaN</td>\n      <td>Ross County</td>\n      <td>...</td>\n      <td>40</td>\n      <td>45</td>\n      <td>44</td>\n      <td>43</td>\n      <td>45</td>\n    </tr>\n    <tr>\n      <th>17587</th>\n      <td>Barry Richardson</td>\n      <td>England</td>\n      <td>NaN</td>\n      <td>NaN</td>\n      <td>Wycombe</td>\n      <td>...</td>\n      <td>58</td>\n      <td>37</td>\n      <td>37</td>\n      <td>51</td>\n      <td>33</td>\n    </tr>\n  </tbody>\n</table>\n<p>17587 rows × 53 columns</p>\n</div>"
     },
     "execution_count": 14,
     "metadata": {},
     "output_type": "execute_result"
    }
   ],
   "source": [
    "#获取非缺值数据\n",
    "player[player['Club_Position'].notnull()]"
   ]
  },
  {
   "cell_type": "code",
   "execution_count": 15,
   "metadata": {
    "ExecuteTime": {
     "end_time": "2023-10-01T02:21:40.230464Z",
     "start_time": "2023-10-01T02:21:39.992011Z"
    }
   },
   "outputs": [
    {
     "data": {
      "text/plain": "                    Name          Nationality National_Position  National_Kit  \\\n0      Cristiano Ronaldo             Portugal                LS           7.0   \n1           Lionel Messi            Argentina                RW          10.0   \n2                 Neymar               Brazil                LW          10.0   \n3            Luis Suárez              Uruguay                LS           9.0   \n4           Manuel Neuer              Germany                GK           1.0   \n...                  ...                  ...               ...           ...   \n17583        Adam Dunbar  Republic of Ireland               NaN           NaN   \n17584       Dylan McGoey  Republic of Ireland               NaN           NaN   \n17585    Tommy Ouldridge              England               NaN           NaN   \n17586         Mark Foden             Scotland               NaN           NaN   \n17587   Barry Richardson              England               NaN           NaN   \n\n                 Club  ... GK_Positioning  GK_Diving GK_Kicking  GK_Handling  \\\n0         Real Madrid  ...             14          7         15           11   \n1        FC Barcelona  ...             14          6         15           11   \n2        FC Barcelona  ...             15          9         15            9   \n3        FC Barcelona  ...             33         27         31           25   \n4           FC Bayern  ...             91         89         95           90   \n...               ...  ...            ...        ...        ...          ...   \n17583  Wexford Youths  ...             39         44         52           41   \n17584   Longford Town  ...             47         39         46           46   \n17585    Swindon Town  ...             15          7         13           14   \n17586     Ross County  ...             40         45         44           43   \n17587         Wycombe  ...             58         37         37           51   \n\n       GK_Reflexes  \n0               11  \n1                8  \n2               11  \n3               37  \n4               89  \n...            ...  \n17583           46  \n17584           46  \n17585            7  \n17586           45  \n17587           33  \n\n[17587 rows x 53 columns]",
      "text/html": "<div>\n<style scoped>\n    .dataframe tbody tr th:only-of-type {\n        vertical-align: middle;\n    }\n\n    .dataframe tbody tr th {\n        vertical-align: top;\n    }\n\n    .dataframe thead th {\n        text-align: right;\n    }\n</style>\n<table border=\"1\" class=\"dataframe\">\n  <thead>\n    <tr style=\"text-align: right;\">\n      <th></th>\n      <th>Name</th>\n      <th>Nationality</th>\n      <th>National_Position</th>\n      <th>National_Kit</th>\n      <th>Club</th>\n      <th>...</th>\n      <th>GK_Positioning</th>\n      <th>GK_Diving</th>\n      <th>GK_Kicking</th>\n      <th>GK_Handling</th>\n      <th>GK_Reflexes</th>\n    </tr>\n  </thead>\n  <tbody>\n    <tr>\n      <th>0</th>\n      <td>Cristiano Ronaldo</td>\n      <td>Portugal</td>\n      <td>LS</td>\n      <td>7.0</td>\n      <td>Real Madrid</td>\n      <td>...</td>\n      <td>14</td>\n      <td>7</td>\n      <td>15</td>\n      <td>11</td>\n      <td>11</td>\n    </tr>\n    <tr>\n      <th>1</th>\n      <td>Lionel Messi</td>\n      <td>Argentina</td>\n      <td>RW</td>\n      <td>10.0</td>\n      <td>FC Barcelona</td>\n      <td>...</td>\n      <td>14</td>\n      <td>6</td>\n      <td>15</td>\n      <td>11</td>\n      <td>8</td>\n    </tr>\n    <tr>\n      <th>2</th>\n      <td>Neymar</td>\n      <td>Brazil</td>\n      <td>LW</td>\n      <td>10.0</td>\n      <td>FC Barcelona</td>\n      <td>...</td>\n      <td>15</td>\n      <td>9</td>\n      <td>15</td>\n      <td>9</td>\n      <td>11</td>\n    </tr>\n    <tr>\n      <th>3</th>\n      <td>Luis Suárez</td>\n      <td>Uruguay</td>\n      <td>LS</td>\n      <td>9.0</td>\n      <td>FC Barcelona</td>\n      <td>...</td>\n      <td>33</td>\n      <td>27</td>\n      <td>31</td>\n      <td>25</td>\n      <td>37</td>\n    </tr>\n    <tr>\n      <th>4</th>\n      <td>Manuel Neuer</td>\n      <td>Germany</td>\n      <td>GK</td>\n      <td>1.0</td>\n      <td>FC Bayern</td>\n      <td>...</td>\n      <td>91</td>\n      <td>89</td>\n      <td>95</td>\n      <td>90</td>\n      <td>89</td>\n    </tr>\n    <tr>\n      <th>...</th>\n      <td>...</td>\n      <td>...</td>\n      <td>...</td>\n      <td>...</td>\n      <td>...</td>\n      <td>...</td>\n      <td>...</td>\n      <td>...</td>\n      <td>...</td>\n      <td>...</td>\n      <td>...</td>\n    </tr>\n    <tr>\n      <th>17583</th>\n      <td>Adam Dunbar</td>\n      <td>Republic of Ireland</td>\n      <td>NaN</td>\n      <td>NaN</td>\n      <td>Wexford Youths</td>\n      <td>...</td>\n      <td>39</td>\n      <td>44</td>\n      <td>52</td>\n      <td>41</td>\n      <td>46</td>\n    </tr>\n    <tr>\n      <th>17584</th>\n      <td>Dylan McGoey</td>\n      <td>Republic of Ireland</td>\n      <td>NaN</td>\n      <td>NaN</td>\n      <td>Longford Town</td>\n      <td>...</td>\n      <td>47</td>\n      <td>39</td>\n      <td>46</td>\n      <td>46</td>\n      <td>46</td>\n    </tr>\n    <tr>\n      <th>17585</th>\n      <td>Tommy Ouldridge</td>\n      <td>England</td>\n      <td>NaN</td>\n      <td>NaN</td>\n      <td>Swindon Town</td>\n      <td>...</td>\n      <td>15</td>\n      <td>7</td>\n      <td>13</td>\n      <td>14</td>\n      <td>7</td>\n    </tr>\n    <tr>\n      <th>17586</th>\n      <td>Mark Foden</td>\n      <td>Scotland</td>\n      <td>NaN</td>\n      <td>NaN</td>\n      <td>Ross County</td>\n      <td>...</td>\n      <td>40</td>\n      <td>45</td>\n      <td>44</td>\n      <td>43</td>\n      <td>45</td>\n    </tr>\n    <tr>\n      <th>17587</th>\n      <td>Barry Richardson</td>\n      <td>England</td>\n      <td>NaN</td>\n      <td>NaN</td>\n      <td>Wycombe</td>\n      <td>...</td>\n      <td>58</td>\n      <td>37</td>\n      <td>37</td>\n      <td>51</td>\n      <td>33</td>\n    </tr>\n  </tbody>\n</table>\n<p>17587 rows × 53 columns</p>\n</div>"
     },
     "execution_count": 15,
     "metadata": {},
     "output_type": "execute_result"
    }
   ],
   "source": [
    "#获取非缺值数据\n",
    "player[player['Club_Position'].notna()]"
   ]
  },
  {
   "cell_type": "code",
   "execution_count": 16,
   "metadata": {
    "ExecuteTime": {
     "end_time": "2023-10-01T02:21:40.245404Z",
     "start_time": "2023-10-01T02:21:40.014353Z"
    }
   },
   "outputs": [],
   "source": [
    "player = player[~player['Club_Position'].isna()]"
   ]
  },
  {
   "cell_type": "code",
   "execution_count": 17,
   "metadata": {
    "ExecuteTime": {
     "end_time": "2023-10-01T02:21:40.245902Z",
     "start_time": "2023-10-01T02:21:40.048708Z"
    }
   },
   "outputs": [
    {
     "name": "stdout",
     "output_type": "stream",
     "text": [
      "<class 'pandas.core.frame.DataFrame'>\n",
      "Int64Index: 17587 entries, 0 to 17587\n",
      "Data columns (total 53 columns):\n",
      " #   Column              Non-Null Count  Dtype  \n",
      "---  ------              --------------  -----  \n",
      " 0   Name                17587 non-null  object \n",
      " 1   Nationality         17587 non-null  object \n",
      " 2   National_Position   1075 non-null   object \n",
      " 3   National_Kit        1075 non-null   float64\n",
      " 4   Club                17587 non-null  object \n",
      " 5   Club_Position       17587 non-null  object \n",
      " 6   Club_Kit            17587 non-null  float64\n",
      " 7   Club_Joining        17587 non-null  object \n",
      " 8   Contract_Expiry     17587 non-null  float64\n",
      " 9   Rating              17587 non-null  int64  \n",
      " 10  Height              17587 non-null  object \n",
      " 11  Weight              17587 non-null  object \n",
      " 12  Preffered_Foot      17587 non-null  object \n",
      " 13  Birth_Date          17587 non-null  object \n",
      " 14  Age                 17587 non-null  int64  \n",
      " 15  Preffered_Position  17587 non-null  object \n",
      " 16  Work_Rate           17587 non-null  object \n",
      " 17  Weak_foot           17587 non-null  int64  \n",
      " 18  Skill_Moves         17587 non-null  int64  \n",
      " 19  Ball_Control        17587 non-null  int64  \n",
      " 20  Dribbling           17587 non-null  int64  \n",
      " 21  Marking             17587 non-null  int64  \n",
      " 22  Sliding_Tackle      17587 non-null  int64  \n",
      " 23  Standing_Tackle     17587 non-null  int64  \n",
      " 24  Aggression          17587 non-null  int64  \n",
      " 25  Reactions           17587 non-null  int64  \n",
      " 26  Attacking_Position  17587 non-null  int64  \n",
      " 27  Interceptions       17587 non-null  int64  \n",
      " 28  Vision              17587 non-null  int64  \n",
      " 29  Composure           17587 non-null  int64  \n",
      " 30  Crossing            17587 non-null  int64  \n",
      " 31  Short_Pass          17587 non-null  int64  \n",
      " 32  Long_Pass           17587 non-null  int64  \n",
      " 33  Acceleration        17587 non-null  int64  \n",
      " 34  Speed               17587 non-null  int64  \n",
      " 35  Stamina             17587 non-null  int64  \n",
      " 36  Strength            17587 non-null  int64  \n",
      " 37  Balance             17587 non-null  int64  \n",
      " 38  Agility             17587 non-null  int64  \n",
      " 39  Jumping             17587 non-null  int64  \n",
      " 40  Heading             17587 non-null  int64  \n",
      " 41  Shot_Power          17587 non-null  int64  \n",
      " 42  Finishing           17587 non-null  int64  \n",
      " 43  Long_Shots          17587 non-null  int64  \n",
      " 44  Curve               17587 non-null  int64  \n",
      " 45  Freekick_Accuracy   17587 non-null  int64  \n",
      " 46  Penalties           17587 non-null  int64  \n",
      " 47  Volleys             17587 non-null  int64  \n",
      " 48  GK_Positioning      17587 non-null  int64  \n",
      " 49  GK_Diving           17587 non-null  int64  \n",
      " 50  GK_Kicking          17587 non-null  int64  \n",
      " 51  GK_Handling         17587 non-null  int64  \n",
      " 52  GK_Reflexes         17587 non-null  int64  \n",
      "dtypes: float64(3), int64(38), object(12)\n",
      "memory usage: 7.2+ MB\n"
     ]
    }
   ],
   "source": [
    "player.info()"
   ]
  },
  {
   "cell_type": "markdown",
   "metadata": {},
   "source": [
    "异常值处理"
   ]
  },
  {
   "cell_type": "code",
   "execution_count": 18,
   "metadata": {
    "ExecuteTime": {
     "end_time": "2023-10-01T02:21:40.271945Z",
     "start_time": "2023-10-01T02:21:40.060768Z"
    }
   },
   "outputs": [
    {
     "data": {
      "text/plain": "       National_Kit      Club_Kit  Contract_Expiry        Rating  \\\ncount   1075.000000  17587.000000     17587.000000  17587.000000   \nmean      12.219535     21.294536      2018.899414     66.165349   \nstd        6.933187     19.163741         1.698787      7.082330   \nmin        1.000000      1.000000      2017.000000     45.000000   \n25%        6.000000      9.000000      2017.000000     62.000000   \n50%       12.000000     18.000000      2019.000000     66.000000   \n75%       18.000000     27.000000      2020.000000     71.000000   \nmax       36.000000     99.000000      2023.000000     94.000000   \n\n                Age  ...  GK_Positioning     GK_Diving    GK_Kicking  \\\ncount  17587.000000  ...    17587.000000  17587.000000  17587.000000   \nmean      25.459544  ...       16.610223     16.823449     16.458805   \nstd        4.679237  ...       17.140204     17.798483     16.601091   \nmin       17.000000  ...        1.000000      1.000000      1.000000   \n25%       22.000000  ...        8.000000      8.000000      8.000000   \n50%       25.000000  ...       11.000000     11.000000     11.000000   \n75%       29.000000  ...       14.000000     14.000000     14.000000   \nmax       47.000000  ...       91.000000     89.000000     95.000000   \n\n        GK_Handling   GK_Reflexes  \ncount  17587.000000  17587.000000  \nmean      16.560130     16.901348  \nstd       16.967686     18.034984  \nmin        1.000000      1.000000  \n25%        8.000000      8.000000  \n50%       11.000000     11.000000  \n75%       14.000000     14.000000  \nmax       91.000000     90.000000  \n\n[8 rows x 41 columns]",
      "text/html": "<div>\n<style scoped>\n    .dataframe tbody tr th:only-of-type {\n        vertical-align: middle;\n    }\n\n    .dataframe tbody tr th {\n        vertical-align: top;\n    }\n\n    .dataframe thead th {\n        text-align: right;\n    }\n</style>\n<table border=\"1\" class=\"dataframe\">\n  <thead>\n    <tr style=\"text-align: right;\">\n      <th></th>\n      <th>National_Kit</th>\n      <th>Club_Kit</th>\n      <th>Contract_Expiry</th>\n      <th>Rating</th>\n      <th>Age</th>\n      <th>...</th>\n      <th>GK_Positioning</th>\n      <th>GK_Diving</th>\n      <th>GK_Kicking</th>\n      <th>GK_Handling</th>\n      <th>GK_Reflexes</th>\n    </tr>\n  </thead>\n  <tbody>\n    <tr>\n      <th>count</th>\n      <td>1075.000000</td>\n      <td>17587.000000</td>\n      <td>17587.000000</td>\n      <td>17587.000000</td>\n      <td>17587.000000</td>\n      <td>...</td>\n      <td>17587.000000</td>\n      <td>17587.000000</td>\n      <td>17587.000000</td>\n      <td>17587.000000</td>\n      <td>17587.000000</td>\n    </tr>\n    <tr>\n      <th>mean</th>\n      <td>12.219535</td>\n      <td>21.294536</td>\n      <td>2018.899414</td>\n      <td>66.165349</td>\n      <td>25.459544</td>\n      <td>...</td>\n      <td>16.610223</td>\n      <td>16.823449</td>\n      <td>16.458805</td>\n      <td>16.560130</td>\n      <td>16.901348</td>\n    </tr>\n    <tr>\n      <th>std</th>\n      <td>6.933187</td>\n      <td>19.163741</td>\n      <td>1.698787</td>\n      <td>7.082330</td>\n      <td>4.679237</td>\n      <td>...</td>\n      <td>17.140204</td>\n      <td>17.798483</td>\n      <td>16.601091</td>\n      <td>16.967686</td>\n      <td>18.034984</td>\n    </tr>\n    <tr>\n      <th>min</th>\n      <td>1.000000</td>\n      <td>1.000000</td>\n      <td>2017.000000</td>\n      <td>45.000000</td>\n      <td>17.000000</td>\n      <td>...</td>\n      <td>1.000000</td>\n      <td>1.000000</td>\n      <td>1.000000</td>\n      <td>1.000000</td>\n      <td>1.000000</td>\n    </tr>\n    <tr>\n      <th>25%</th>\n      <td>6.000000</td>\n      <td>9.000000</td>\n      <td>2017.000000</td>\n      <td>62.000000</td>\n      <td>22.000000</td>\n      <td>...</td>\n      <td>8.000000</td>\n      <td>8.000000</td>\n      <td>8.000000</td>\n      <td>8.000000</td>\n      <td>8.000000</td>\n    </tr>\n    <tr>\n      <th>50%</th>\n      <td>12.000000</td>\n      <td>18.000000</td>\n      <td>2019.000000</td>\n      <td>66.000000</td>\n      <td>25.000000</td>\n      <td>...</td>\n      <td>11.000000</td>\n      <td>11.000000</td>\n      <td>11.000000</td>\n      <td>11.000000</td>\n      <td>11.000000</td>\n    </tr>\n    <tr>\n      <th>75%</th>\n      <td>18.000000</td>\n      <td>27.000000</td>\n      <td>2020.000000</td>\n      <td>71.000000</td>\n      <td>29.000000</td>\n      <td>...</td>\n      <td>14.000000</td>\n      <td>14.000000</td>\n      <td>14.000000</td>\n      <td>14.000000</td>\n      <td>14.000000</td>\n    </tr>\n    <tr>\n      <th>max</th>\n      <td>36.000000</td>\n      <td>99.000000</td>\n      <td>2023.000000</td>\n      <td>94.000000</td>\n      <td>47.000000</td>\n      <td>...</td>\n      <td>91.000000</td>\n      <td>89.000000</td>\n      <td>95.000000</td>\n      <td>91.000000</td>\n      <td>90.000000</td>\n    </tr>\n  </tbody>\n</table>\n<p>8 rows × 41 columns</p>\n</div>"
     },
     "execution_count": 18,
     "metadata": {},
     "output_type": "execute_result"
    }
   ],
   "source": [
    "#调用describe()查看基本描述统计\n",
    "player.describe()"
   ]
  },
  {
   "cell_type": "code",
   "execution_count": 19,
   "metadata": {
    "ExecuteTime": {
     "end_time": "2023-10-01T02:21:41.008350Z",
     "start_time": "2023-10-01T02:21:40.144132Z"
    }
   },
   "outputs": [
    {
     "data": {
      "text/plain": "<AxesSubplot:>"
     },
     "execution_count": 19,
     "metadata": {},
     "output_type": "execute_result"
    },
    {
     "name": "stderr",
     "output_type": "stream",
     "text": [
      "findfont: Font family ['sans-serif'] not found. Falling back to DejaVu Sans.\n",
      "findfont: Generic family 'sans-serif' not found because none of the following families were found: KaiTi\n"
     ]
    },
    {
     "data": {
      "text/plain": "<Figure size 432x288 with 1 Axes>",
      "image/png": "[encoded data removed]"
     },
     "metadata": {
      "needs_background": "light"
     },
     "output_type": "display_data"
    }
   ],
   "source": [
    "#绘制箱图查看\n",
    "player.plot.box()"
   ]
  },
  {
   "cell_type": "code",
   "execution_count": 20,
   "metadata": {
    "ExecuteTime": {
     "end_time": "2023-10-01T02:21:41.612852Z",
     "start_time": "2023-10-01T02:21:40.886964Z"
    }
   },
   "outputs": [
    {
     "data": {
      "text/plain": "<AxesSubplot:>"
     },
     "execution_count": 20,
     "metadata": {},
     "output_type": "execute_result"
    },
    {
     "data": {
      "text/plain": "<Figure size 432x288 with 1 Axes>",
      "image/png": "[encoded data removed]"
     },
     "metadata": {
      "needs_background": "light"
     },
     "output_type": "display_data"
    }
   ],
   "source": [
    "player.plot(kind='box')"
   ]
  },
  {
   "cell_type": "code",
   "execution_count": 21,
   "metadata": {
    "ExecuteTime": {
     "end_time": "2023-10-01T02:21:41.766842Z",
     "start_time": "2023-10-01T02:21:41.610340Z"
    }
   },
   "outputs": [
    {
     "data": {
      "text/plain": "<AxesSubplot:>"
     },
     "execution_count": 21,
     "metadata": {},
     "output_type": "execute_result"
    },
    {
     "data": {
      "text/plain": "<Figure size 864x576 with 1 Axes>",
      "image/png": "[encoded data removed]"
     },
     "metadata": {
      "needs_background": "light"
     },
     "output_type": "display_data"
    }
   ],
   "source": [
    "#对Rating评分  Marking盯人能力\n",
    "player[['Rating','Marking']].plot(kind='box',figsize=(12,8))"
   ]
  },
  {
   "cell_type": "code",
   "execution_count": 22,
   "metadata": {
    "ExecuteTime": {
     "end_time": "2023-10-01T02:21:41.791416Z",
     "start_time": "2023-10-01T02:21:41.760048Z"
    }
   },
   "outputs": [
    {
     "data": {
      "text/plain": "count    17587.000000\nmean        66.165349\nstd          7.082330\nmin         45.000000\n25%         62.000000\n50%         66.000000\n75%         71.000000\nmax         94.000000\nName: Rating, dtype: float64"
     },
     "execution_count": 22,
     "metadata": {},
     "output_type": "execute_result"
    }
   ],
   "source": [
    "#获取Rating的描述统计信息\n",
    "player['Rating'].describe()"
   ]
  },
  {
   "cell_type": "markdown",
   "metadata": {},
   "source": [
    "重复值处理"
   ]
  },
  {
   "cell_type": "code",
   "execution_count": 23,
   "metadata": {
    "ExecuteTime": {
     "end_time": "2023-10-01T02:21:41.844609Z",
     "start_time": "2023-10-01T02:21:41.769924Z"
    }
   },
   "outputs": [
    {
     "data": {
      "text/plain": "False"
     },
     "execution_count": 23,
     "metadata": {},
     "output_type": "execute_result"
    }
   ],
   "source": [
    "#查看是否有重复值\n",
    "# player.duplicated()\n",
    "#调用any()\n",
    "player.duplicated().any()"
   ]
  },
  {
   "cell_type": "code",
   "execution_count": 24,
   "metadata": {
    "ExecuteTime": {
     "end_time": "2023-10-01T02:21:41.845732Z",
     "start_time": "2023-10-01T02:21:41.805016Z"
    }
   },
   "outputs": [
    {
     "data": {
      "text/plain": "Empty DataFrame\nColumns: [Name, Nationality, National_Position, National_Kit, Club, Club_Position, Club_Kit, Club_Joining, Contract_Expiry, Rating, Height, Weight, Preffered_Foot, Birth_Date, Age, Preffered_Position, Work_Rate, Weak_foot, Skill_Moves, Ball_Control, Dribbling, Marking, Sliding_Tackle, Standing_Tackle, Aggression, Reactions, Attacking_Position, Interceptions, Vision, Composure, Crossing, Short_Pass, Long_Pass, Acceleration, Speed, Stamina, Strength, Balance, Agility, Jumping, Heading, Shot_Power, Finishing, Long_Shots, Curve, Freekick_Accuracy, Penalties, Volleys, GK_Positioning, GK_Diving, GK_Kicking, GK_Handling, GK_Reflexes]\nIndex: []\n\n[0 rows x 53 columns]",
      "text/html": "<div>\n<style scoped>\n    .dataframe tbody tr th:only-of-type {\n        vertical-align: middle;\n    }\n\n    .dataframe tbody tr th {\n        vertical-align: top;\n    }\n\n    .dataframe thead th {\n        text-align: right;\n    }\n</style>\n<table border=\"1\" class=\"dataframe\">\n  <thead>\n    <tr style=\"text-align: right;\">\n      <th></th>\n      <th>Name</th>\n      <th>Nationality</th>\n      <th>National_Position</th>\n      <th>National_Kit</th>\n      <th>Club</th>\n      <th>...</th>\n      <th>GK_Positioning</th>\n      <th>GK_Diving</th>\n      <th>GK_Kicking</th>\n      <th>GK_Handling</th>\n      <th>GK_Reflexes</th>\n    </tr>\n  </thead>\n  <tbody>\n  </tbody>\n</table>\n<p>0 rows × 53 columns</p>\n</div>"
     },
     "execution_count": 24,
     "metadata": {},
     "output_type": "execute_result"
    }
   ],
   "source": [
    "#如果有重复值\n",
    "#获取重复值\n",
    "player[player.duplicated()]"
   ]
  },
  {
   "cell_type": "code",
   "execution_count": 25,
   "metadata": {
    "ExecuteTime": {
     "end_time": "2023-10-01T02:21:42.032885Z",
     "start_time": "2023-10-01T02:21:41.840209Z"
    }
   },
   "outputs": [
    {
     "data": {
      "text/plain": "Empty DataFrame\nColumns: [Name, Nationality, National_Position, National_Kit, Club, Club_Position, Club_Kit, Club_Joining, Contract_Expiry, Rating, Height, Weight, Preffered_Foot, Birth_Date, Age, Preffered_Position, Work_Rate, Weak_foot, Skill_Moves, Ball_Control, Dribbling, Marking, Sliding_Tackle, Standing_Tackle, Aggression, Reactions, Attacking_Position, Interceptions, Vision, Composure, Crossing, Short_Pass, Long_Pass, Acceleration, Speed, Stamina, Strength, Balance, Agility, Jumping, Heading, Shot_Power, Finishing, Long_Shots, Curve, Freekick_Accuracy, Penalties, Volleys, GK_Positioning, GK_Diving, GK_Kicking, GK_Handling, GK_Reflexes]\nIndex: []\n\n[0 rows x 53 columns]",
      "text/html": "<div>\n<style scoped>\n    .dataframe tbody tr th:only-of-type {\n        vertical-align: middle;\n    }\n\n    .dataframe tbody tr th {\n        vertical-align: top;\n    }\n\n    .dataframe thead th {\n        text-align: right;\n    }\n</style>\n<table border=\"1\" class=\"dataframe\">\n  <thead>\n    <tr style=\"text-align: right;\">\n      <th></th>\n      <th>Name</th>\n      <th>Nationality</th>\n      <th>National_Position</th>\n      <th>National_Kit</th>\n      <th>Club</th>\n      <th>...</th>\n      <th>GK_Positioning</th>\n      <th>GK_Diving</th>\n      <th>GK_Kicking</th>\n      <th>GK_Handling</th>\n      <th>GK_Reflexes</th>\n    </tr>\n  </thead>\n  <tbody>\n  </tbody>\n</table>\n<p>0 rows × 53 columns</p>\n</div>"
     },
     "execution_count": 25,
     "metadata": {},
     "output_type": "execute_result"
    }
   ],
   "source": [
    "#duplicated()方法中参数\n",
    "#获取不包括第一条重复值\n",
    "player[player.duplicated(keep='first')]"
   ]
  },
  {
   "cell_type": "code",
   "execution_count": 26,
   "metadata": {
    "ExecuteTime": {
     "end_time": "2023-10-01T02:21:42.033401Z",
     "start_time": "2023-10-01T02:21:41.876048Z"
    }
   },
   "outputs": [
    {
     "data": {
      "text/plain": "Empty DataFrame\nColumns: [Name, Nationality, National_Position, National_Kit, Club, Club_Position, Club_Kit, Club_Joining, Contract_Expiry, Rating, Height, Weight, Preffered_Foot, Birth_Date, Age, Preffered_Position, Work_Rate, Weak_foot, Skill_Moves, Ball_Control, Dribbling, Marking, Sliding_Tackle, Standing_Tackle, Aggression, Reactions, Attacking_Position, Interceptions, Vision, Composure, Crossing, Short_Pass, Long_Pass, Acceleration, Speed, Stamina, Strength, Balance, Agility, Jumping, Heading, Shot_Power, Finishing, Long_Shots, Curve, Freekick_Accuracy, Penalties, Volleys, GK_Positioning, GK_Diving, GK_Kicking, GK_Handling, GK_Reflexes]\nIndex: []\n\n[0 rows x 53 columns]",
      "text/html": "<div>\n<style scoped>\n    .dataframe tbody tr th:only-of-type {\n        vertical-align: middle;\n    }\n\n    .dataframe tbody tr th {\n        vertical-align: top;\n    }\n\n    .dataframe thead th {\n        text-align: right;\n    }\n</style>\n<table border=\"1\" class=\"dataframe\">\n  <thead>\n    <tr style=\"text-align: right;\">\n      <th></th>\n      <th>Name</th>\n      <th>Nationality</th>\n      <th>National_Position</th>\n      <th>National_Kit</th>\n      <th>Club</th>\n      <th>...</th>\n      <th>GK_Positioning</th>\n      <th>GK_Diving</th>\n      <th>GK_Kicking</th>\n      <th>GK_Handling</th>\n      <th>GK_Reflexes</th>\n    </tr>\n  </thead>\n  <tbody>\n  </tbody>\n</table>\n<p>0 rows × 53 columns</p>\n</div>"
     },
     "execution_count": 26,
     "metadata": {},
     "output_type": "execute_result"
    }
   ],
   "source": [
    "#获取不包括最后一条重复值\n",
    "player[player.duplicated(keep='last')]"
   ]
  },
  {
   "cell_type": "code",
   "execution_count": 27,
   "metadata": {
    "ExecuteTime": {
     "end_time": "2023-10-01T02:21:42.102769Z",
     "start_time": "2023-10-01T02:21:41.913048Z"
    }
   },
   "outputs": [
    {
     "data": {
      "text/plain": "Empty DataFrame\nColumns: [Name, Nationality, National_Position, National_Kit, Club, Club_Position, Club_Kit, Club_Joining, Contract_Expiry, Rating, Height, Weight, Preffered_Foot, Birth_Date, Age, Preffered_Position, Work_Rate, Weak_foot, Skill_Moves, Ball_Control, Dribbling, Marking, Sliding_Tackle, Standing_Tackle, Aggression, Reactions, Attacking_Position, Interceptions, Vision, Composure, Crossing, Short_Pass, Long_Pass, Acceleration, Speed, Stamina, Strength, Balance, Agility, Jumping, Heading, Shot_Power, Finishing, Long_Shots, Curve, Freekick_Accuracy, Penalties, Volleys, GK_Positioning, GK_Diving, GK_Kicking, GK_Handling, GK_Reflexes]\nIndex: []\n\n[0 rows x 53 columns]",
      "text/html": "<div>\n<style scoped>\n    .dataframe tbody tr th:only-of-type {\n        vertical-align: middle;\n    }\n\n    .dataframe tbody tr th {\n        vertical-align: top;\n    }\n\n    .dataframe thead th {\n        text-align: right;\n    }\n</style>\n<table border=\"1\" class=\"dataframe\">\n  <thead>\n    <tr style=\"text-align: right;\">\n      <th></th>\n      <th>Name</th>\n      <th>Nationality</th>\n      <th>National_Position</th>\n      <th>National_Kit</th>\n      <th>Club</th>\n      <th>...</th>\n      <th>GK_Positioning</th>\n      <th>GK_Diving</th>\n      <th>GK_Kicking</th>\n      <th>GK_Handling</th>\n      <th>GK_Reflexes</th>\n    </tr>\n  </thead>\n  <tbody>\n  </tbody>\n</table>\n<p>0 rows × 53 columns</p>\n</div>"
     },
     "execution_count": 27,
     "metadata": {},
     "output_type": "execute_result"
    }
   ],
   "source": [
    "#获取所有重复数据\n",
    "player[player.duplicated(keep=False)]"
   ]
  },
  {
   "cell_type": "code",
   "execution_count": 28,
   "metadata": {
    "ExecuteTime": {
     "end_time": "2023-10-01T02:21:42.388010Z",
     "start_time": "2023-10-01T02:21:41.947072Z"
    }
   },
   "outputs": [
    {
     "name": "stderr",
     "output_type": "stream",
     "text": [
      "/var/folders/1j/zwjsh6y95b17l9zt2672mvlh0000gn/T/ipykernel_68030/2938047276.py:2: SettingWithCopyWarning: \n",
      "A value is trying to be set on a copy of a slice from a DataFrame\n",
      "\n",
      "See the caveats in the documentation: https://pandas.pydata.org/pandas-docs/stable/user_guide/indexing.html#returning-a-view-versus-a-copy\n",
      "  player.drop_duplicates(keep='first',inplace=True) #last  False\n"
     ]
    }
   ],
   "source": [
    "#删除重复数据\n",
    "player.drop_duplicates(keep='first',inplace=True) #last  False"
   ]
  },
  {
   "cell_type": "code",
   "execution_count": 29,
   "metadata": {
    "ExecuteTime": {
     "end_time": "2023-10-01T02:21:42.418574Z",
     "start_time": "2023-10-01T02:21:42.215611Z"
    }
   },
   "outputs": [
    {
     "data": {
      "text/plain": "                    Name          Nationality National_Position  National_Kit  \\\n0      Cristiano Ronaldo             Portugal                LS           7.0   \n1           Lionel Messi            Argentina                RW          10.0   \n2                 Neymar               Brazil                LW          10.0   \n3            Luis Suárez              Uruguay                LS           9.0   \n4           Manuel Neuer              Germany                GK           1.0   \n...                  ...                  ...               ...           ...   \n17583        Adam Dunbar  Republic of Ireland               NaN           NaN   \n17584       Dylan McGoey  Republic of Ireland               NaN           NaN   \n17585    Tommy Ouldridge              England               NaN           NaN   \n17586         Mark Foden             Scotland               NaN           NaN   \n17587   Barry Richardson              England               NaN           NaN   \n\n                 Club  ... GK_Positioning  GK_Diving GK_Kicking  GK_Handling  \\\n0         Real Madrid  ...             14          7         15           11   \n1        FC Barcelona  ...             14          6         15           11   \n2        FC Barcelona  ...             15          9         15            9   \n3        FC Barcelona  ...             33         27         31           25   \n4           FC Bayern  ...             91         89         95           90   \n...               ...  ...            ...        ...        ...          ...   \n17583  Wexford Youths  ...             39         44         52           41   \n17584   Longford Town  ...             47         39         46           46   \n17585    Swindon Town  ...             15          7         13           14   \n17586     Ross County  ...             40         45         44           43   \n17587         Wycombe  ...             58         37         37           51   \n\n       GK_Reflexes  \n0               11  \n1                8  \n2               11  \n3               37  \n4               89  \n...            ...  \n17583           46  \n17584           46  \n17585            7  \n17586           45  \n17587           33  \n\n[17587 rows x 53 columns]",
      "text/html": "<div>\n<style scoped>\n    .dataframe tbody tr th:only-of-type {\n        vertical-align: middle;\n    }\n\n    .dataframe tbody tr th {\n        vertical-align: top;\n    }\n\n    .dataframe thead th {\n        text-align: right;\n    }\n</style>\n<table border=\"1\" class=\"dataframe\">\n  <thead>\n    <tr style=\"text-align: right;\">\n      <th></th>\n      <th>Name</th>\n      <th>Nationality</th>\n      <th>National_Position</th>\n      <th>National_Kit</th>\n      <th>Club</th>\n      <th>...</th>\n      <th>GK_Positioning</th>\n      <th>GK_Diving</th>\n      <th>GK_Kicking</th>\n      <th>GK_Handling</th>\n      <th>GK_Reflexes</th>\n    </tr>\n  </thead>\n  <tbody>\n    <tr>\n      <th>0</th>\n      <td>Cristiano Ronaldo</td>\n      <td>Portugal</td>\n      <td>LS</td>\n      <td>7.0</td>\n      <td>Real Madrid</td>\n      <td>...</td>\n      <td>14</td>\n      <td>7</td>\n      <td>15</td>\n      <td>11</td>\n      <td>11</td>\n    </tr>\n    <tr>\n      <th>1</th>\n      <td>Lionel Messi</td>\n      <td>Argentina</td>\n      <td>RW</td>\n      <td>10.0</td>\n      <td>FC Barcelona</td>\n      <td>...</td>\n      <td>14</td>\n      <td>6</td>\n      <td>15</td>\n      <td>11</td>\n      <td>8</td>\n    </tr>\n    <tr>\n      <th>2</th>\n      <td>Neymar</td>\n      <td>Brazil</td>\n      <td>LW</td>\n      <td>10.0</td>\n      <td>FC Barcelona</td>\n      <td>...</td>\n      <td>15</td>\n      <td>9</td>\n      <td>15</td>\n      <td>9</td>\n      <td>11</td>\n    </tr>\n    <tr>\n      <th>3</th>\n      <td>Luis Suárez</td>\n      <td>Uruguay</td>\n      <td>LS</td>\n      <td>9.0</td>\n      <td>FC Barcelona</td>\n      <td>...</td>\n      <td>33</td>\n      <td>27</td>\n      <td>31</td>\n      <td>25</td>\n      <td>37</td>\n    </tr>\n    <tr>\n      <th>4</th>\n      <td>Manuel Neuer</td>\n      <td>Germany</td>\n      <td>GK</td>\n      <td>1.0</td>\n      <td>FC Bayern</td>\n      <td>...</td>\n      <td>91</td>\n      <td>89</td>\n      <td>95</td>\n      <td>90</td>\n      <td>89</td>\n    </tr>\n    <tr>\n      <th>...</th>\n      <td>...</td>\n      <td>...</td>\n      <td>...</td>\n      <td>...</td>\n      <td>...</td>\n      <td>...</td>\n      <td>...</td>\n      <td>...</td>\n      <td>...</td>\n      <td>...</td>\n      <td>...</td>\n    </tr>\n    <tr>\n      <th>17583</th>\n      <td>Adam Dunbar</td>\n      <td>Republic of Ireland</td>\n      <td>NaN</td>\n      <td>NaN</td>\n      <td>Wexford Youths</td>\n      <td>...</td>\n      <td>39</td>\n      <td>44</td>\n      <td>52</td>\n      <td>41</td>\n      <td>46</td>\n    </tr>\n    <tr>\n      <th>17584</th>\n      <td>Dylan McGoey</td>\n      <td>Republic of Ireland</td>\n      <td>NaN</td>\n      <td>NaN</td>\n      <td>Longford Town</td>\n      <td>...</td>\n      <td>47</td>\n      <td>39</td>\n      <td>46</td>\n      <td>46</td>\n      <td>46</td>\n    </tr>\n    <tr>\n      <th>17585</th>\n      <td>Tommy Ouldridge</td>\n      <td>England</td>\n      <td>NaN</td>\n      <td>NaN</td>\n      <td>Swindon Town</td>\n      <td>...</td>\n      <td>15</td>\n      <td>7</td>\n      <td>13</td>\n      <td>14</td>\n      <td>7</td>\n    </tr>\n    <tr>\n      <th>17586</th>\n      <td>Mark Foden</td>\n      <td>Scotland</td>\n      <td>NaN</td>\n      <td>NaN</td>\n      <td>Ross County</td>\n      <td>...</td>\n      <td>40</td>\n      <td>45</td>\n      <td>44</td>\n      <td>43</td>\n      <td>45</td>\n    </tr>\n    <tr>\n      <th>17587</th>\n      <td>Barry Richardson</td>\n      <td>England</td>\n      <td>NaN</td>\n      <td>NaN</td>\n      <td>Wycombe</td>\n      <td>...</td>\n      <td>58</td>\n      <td>37</td>\n      <td>37</td>\n      <td>51</td>\n      <td>33</td>\n    </tr>\n  </tbody>\n</table>\n<p>17587 rows × 53 columns</p>\n</div>"
     },
     "execution_count": 29,
     "metadata": {},
     "output_type": "execute_result"
    }
   ],
   "source": [
    "#过滤\n",
    "player[~player.duplicated()]"
   ]
  },
  {
   "cell_type": "markdown",
   "metadata": {},
   "source": [
    "运动员身高和体重分布"
   ]
  },
  {
   "cell_type": "code",
   "execution_count": 30,
   "metadata": {
    "ExecuteTime": {
     "end_time": "2023-10-01T02:21:42.418971Z",
     "start_time": "2023-10-01T02:21:42.269915Z"
    }
   },
   "outputs": [
    {
     "data": {
      "text/plain": "0        185 cm\n1        170 cm\n2        174 cm\n3        182 cm\n4        193 cm\n          ...  \n17583    183 cm\n17584    185 cm\n17585    173 cm\n17586    180 cm\n17587    185 cm\nName: Height, Length: 17587, dtype: object"
     },
     "execution_count": 30,
     "metadata": {},
     "output_type": "execute_result"
    }
   ],
   "source": [
    "#获取身高\n",
    "player['Height']"
   ]
  },
  {
   "cell_type": "code",
   "execution_count": 31,
   "metadata": {
    "ExecuteTime": {
     "end_time": "2023-10-01T02:21:42.419297Z",
     "start_time": "2023-10-01T02:21:42.273231Z"
    }
   },
   "outputs": [
    {
     "data": {
      "text/plain": "0        80 kg\n1        72 kg\n2        68 kg\n3        85 kg\n4        92 kg\n         ...  \n17583    82 kg\n17584    80 kg\n17585    61 kg\n17586    80 kg\n17587    77 kg\nName: Weight, Length: 17587, dtype: object"
     },
     "execution_count": 31,
     "metadata": {},
     "output_type": "execute_result"
    }
   ],
   "source": [
    "#获取体重\n",
    "player['Weight']"
   ]
  },
  {
   "cell_type": "code",
   "execution_count": 32,
   "metadata": {
    "ExecuteTime": {
     "end_time": "2023-10-01T02:21:42.419499Z",
     "start_time": "2023-10-01T02:21:42.281333Z"
    }
   },
   "outputs": [],
   "source": [
    "#处理身高和体重数据\n",
    "#普通方式\n",
    "# player['Height'] = player['Height'].str.replace('cm','')\n",
    "# player['Weight'] = player['Weight'].str.replace('kg','')\n",
    "\n",
    "#转换类型\n",
    "# player['Height'] = player['Height'].astype(np.int)\n",
    "# player['Weight'] = player['Weight'].astype(np.int)"
   ]
  },
  {
   "cell_type": "code",
   "execution_count": 33,
   "metadata": {
    "ExecuteTime": {
     "end_time": "2023-10-01T02:21:42.419796Z",
     "start_time": "2023-10-01T02:21:42.287102Z"
    }
   },
   "outputs": [
    {
     "data": {
      "text/plain": "0        185 cm\n1        170 cm\n2        174 cm\n3        182 cm\n4        193 cm\n          ...  \n17583    183 cm\n17584    185 cm\n17585    173 cm\n17586    180 cm\n17587    185 cm\nName: Height, Length: 17587, dtype: object"
     },
     "execution_count": 33,
     "metadata": {},
     "output_type": "execute_result"
    }
   ],
   "source": [
    "player['Height']"
   ]
  },
  {
   "cell_type": "code",
   "execution_count": 34,
   "metadata": {
    "ExecuteTime": {
     "end_time": "2023-10-01T02:21:42.420129Z",
     "start_time": "2023-10-01T02:21:42.300557Z"
    }
   },
   "outputs": [
    {
     "name": "stderr",
     "output_type": "stream",
     "text": [
      "/var/folders/1j/zwjsh6y95b17l9zt2672mvlh0000gn/T/ipykernel_68030/3785736265.py:4: SettingWithCopyWarning: \n",
      "A value is trying to be set on a copy of a slice from a DataFrame.\n",
      "Try using .loc[row_indexer,col_indexer] = value instead\n",
      "\n",
      "See the caveats in the documentation: https://pandas.pydata.org/pandas-docs/stable/user_guide/indexing.html#returning-a-view-versus-a-copy\n",
      "  player['Height'] = player['Height'].apply(handle)\n"
     ]
    }
   ],
   "source": [
    "#使用apply()函数\n",
    "def handle(m:str) ->int:\n",
    "    return int(m.replace('cm',''))\n",
    "player['Height'] = player['Height'].apply(handle)"
   ]
  },
  {
   "cell_type": "code",
   "execution_count": 35,
   "metadata": {
    "ExecuteTime": {
     "end_time": "2023-10-01T02:21:42.437465Z",
     "start_time": "2023-10-01T02:21:42.313173Z"
    }
   },
   "outputs": [
    {
     "name": "stderr",
     "output_type": "stream",
     "text": [
      "/var/folders/1j/zwjsh6y95b17l9zt2672mvlh0000gn/T/ipykernel_68030/3202962845.py:2: SettingWithCopyWarning: \n",
      "A value is trying to be set on a copy of a slice from a DataFrame.\n",
      "Try using .loc[row_indexer,col_indexer] = value instead\n",
      "\n",
      "See the caveats in the documentation: https://pandas.pydata.org/pandas-docs/stable/user_guide/indexing.html#returning-a-view-versus-a-copy\n",
      "  player['Weight'] = player['Weight'].apply(lambda m :int(m.replace('kg','')))\n"
     ]
    }
   ],
   "source": [
    "#匿名函数\n",
    "player['Weight'] = player['Weight'].apply(lambda m :int(m.replace('kg','')))"
   ]
  },
  {
   "cell_type": "code",
   "execution_count": 36,
   "metadata": {
    "ExecuteTime": {
     "end_time": "2023-10-01T02:21:42.437857Z",
     "start_time": "2023-10-01T02:21:42.334075Z"
    }
   },
   "outputs": [
    {
     "data": {
      "text/plain": "0        185\n1        170\n2        174\n3        182\n4        193\n        ... \n17583    183\n17584    185\n17585    173\n17586    180\n17587    185\nName: Height, Length: 17587, dtype: int64"
     },
     "execution_count": 36,
     "metadata": {},
     "output_type": "execute_result"
    }
   ],
   "source": [
    "player['Height']"
   ]
  },
  {
   "cell_type": "markdown",
   "metadata": {},
   "source": [
    "查看身高体重分布"
   ]
  },
  {
   "cell_type": "code",
   "execution_count": 37,
   "metadata": {
    "ExecuteTime": {
     "end_time": "2023-10-01T02:21:42.467847Z",
     "start_time": "2023-10-01T02:21:42.339212Z"
    }
   },
   "outputs": [
    {
     "data": {
      "text/plain": "count    17587.000000\nmean       181.105021\nstd          6.675084\nmin        155.000000\n25%        176.000000\n50%        181.000000\n75%        186.000000\nmax        207.000000\nName: Height, dtype: float64"
     },
     "execution_count": 37,
     "metadata": {},
     "output_type": "execute_result"
    }
   ],
   "source": [
    "#调用describe()查看\n",
    "player['Height'].describe()"
   ]
  },
  {
   "cell_type": "code",
   "execution_count": 38,
   "metadata": {
    "ExecuteTime": {
     "end_time": "2023-10-01T02:21:42.469164Z",
     "start_time": "2023-10-01T02:21:42.346151Z"
    }
   },
   "outputs": [
    {
     "data": {
      "text/plain": "count    17587.000000\nmean        75.253085\nstd          6.898051\nmin         48.000000\n25%         70.000000\n50%         75.000000\n75%         80.000000\nmax        110.000000\nName: Weight, dtype: float64"
     },
     "execution_count": 38,
     "metadata": {},
     "output_type": "execute_result"
    }
   ],
   "source": [
    "player['Weight'].describe()"
   ]
  },
  {
   "cell_type": "code",
   "execution_count": 39,
   "metadata": {
    "ExecuteTime": {
     "end_time": "2023-10-01T02:21:42.983904Z",
     "start_time": "2023-10-01T02:21:42.353538Z"
    }
   },
   "outputs": [
    {
     "data": {
      "text/plain": "(array([  13.,  124., 1009., 2710., 4635., 5291., 2811.,  882.,  102.,\n          10.]),\n array([155. , 160.2, 165.4, 170.6, 175.8, 181. , 186.2, 191.4, 196.6,\n        201.8, 207. ]),\n <BarContainer object of 10 artists>)"
     },
     "execution_count": 39,
     "metadata": {},
     "output_type": "execute_result"
    },
    {
     "data": {
      "text/plain": "<Figure size 432x288 with 1 Axes>",
      "image/png": "[encoded data removed]"
     },
     "metadata": {
      "needs_background": "light"
     },
     "output_type": "display_data"
    }
   ],
   "source": [
    "#绘制直方图\n",
    "#1.使用matplotlib进行绘制\n",
    "plt.hist(player['Height'])"
   ]
  },
  {
   "cell_type": "code",
   "execution_count": 40,
   "metadata": {
    "ExecuteTime": {
     "end_time": "2023-10-01T02:21:42.986278Z",
     "start_time": "2023-10-01T02:21:42.499534Z"
    }
   },
   "outputs": [
    {
     "data": {
      "text/plain": "<AxesSubplot:ylabel='Frequency'>"
     },
     "execution_count": 40,
     "metadata": {},
     "output_type": "execute_result"
    },
    {
     "data": {
      "text/plain": "<Figure size 432x288 with 1 Axes>",
      "image/png": "[encoded data removed]"
     },
     "metadata": {
      "needs_background": "light"
     },
     "output_type": "display_data"
    }
   ],
   "source": [
    "#pandas绘制\n",
    "player['Height'].plot(kind='hist',bins=10)"
   ]
  },
  {
   "cell_type": "code",
   "execution_count": 41,
   "metadata": {
    "ExecuteTime": {
     "end_time": "2023-10-01T02:21:42.987053Z",
     "start_time": "2023-10-01T02:21:42.667244Z"
    }
   },
   "outputs": [
    {
     "data": {
      "text/plain": "<AxesSubplot:ylabel='Frequency'>"
     },
     "execution_count": 41,
     "metadata": {},
     "output_type": "execute_result"
    },
    {
     "data": {
      "text/plain": "<Figure size 432x288 with 1 Axes>",
      "image/png": "[encoded data removed]"
     },
     "metadata": {
      "needs_background": "light"
     },
     "output_type": "display_data"
    }
   ],
   "source": [
    "player['Height'].plot.hist()"
   ]
  },
  {
   "cell_type": "code",
   "execution_count": 42,
   "metadata": {
    "ExecuteTime": {
     "end_time": "2023-10-01T02:21:43.162348Z",
     "start_time": "2023-10-01T02:21:42.826839Z"
    }
   },
   "outputs": [
    {
     "data": {
      "text/plain": "<AxesSubplot:ylabel='Frequency'>"
     },
     "execution_count": 42,
     "metadata": {},
     "output_type": "execute_result"
    },
    {
     "data": {
      "text/plain": "<Figure size 432x288 with 1 Axes>",
      "image/png": "[encoded data removed]"
     },
     "metadata": {
      "needs_background": "light"
     },
     "output_type": "display_data"
    }
   ],
   "source": [
    "#体重分布\n",
    "player['Weight'].plot.hist()"
   ]
  },
  {
   "cell_type": "code",
   "execution_count": 43,
   "metadata": {
    "ExecuteTime": {
     "end_time": "2023-10-01T02:21:43.352158Z",
     "start_time": "2023-10-01T02:21:42.987629Z"
    }
   },
   "outputs": [
    {
     "data": {
      "text/plain": "<AxesSubplot:ylabel='Frequency'>"
     },
     "execution_count": 43,
     "metadata": {},
     "output_type": "execute_result"
    },
    {
     "data": {
      "text/plain": "<Figure size 432x288 with 1 Axes>",
      "image/png": "[encoded data removed]"
     },
     "metadata": {
      "needs_background": "light"
     },
     "output_type": "display_data"
    }
   ],
   "source": [
    "#对评分\n",
    "player['Rating'].plot.hist()"
   ]
  },
  {
   "cell_type": "code",
   "execution_count": 44,
   "metadata": {
    "ExecuteTime": {
     "end_time": "2023-10-01T02:21:44.225667Z",
     "start_time": "2023-10-01T02:21:43.189499Z"
    }
   },
   "outputs": [
    {
     "data": {
      "text/plain": "<AxesSubplot:ylabel='Density'>"
     },
     "execution_count": 44,
     "metadata": {},
     "output_type": "execute_result"
    },
    {
     "data": {
      "text/plain": "<Figure size 432x288 with 1 Axes>",
      "image/png": "[encoded data removed]"
     },
     "metadata": {
      "needs_background": "light"
     },
     "output_type": "display_data"
    }
   ],
   "source": [
    "#绘制密度图 kind='kde'\n",
    "player['Height'].plot(kind='kde')"
   ]
  },
  {
   "cell_type": "code",
   "execution_count": 45,
   "metadata": {
    "ExecuteTime": {
     "end_time": "2023-10-01T02:21:44.609022Z",
     "start_time": "2023-10-01T02:21:44.222632Z"
    }
   },
   "outputs": [
    {
     "data": {
      "text/plain": "<AxesSubplot:ylabel='Density'>"
     },
     "execution_count": 45,
     "metadata": {},
     "output_type": "execute_result"
    },
    {
     "data": {
      "text/plain": "<Figure size 432x288 with 1 Axes>",
      "image/png": "[encoded data removed]"
     },
     "metadata": {
      "needs_background": "light"
     },
     "output_type": "display_data"
    }
   ],
   "source": [
    "player['Weight'].plot(kind='kde')"
   ]
  },
  {
   "cell_type": "code",
   "execution_count": 46,
   "metadata": {
    "ExecuteTime": {
     "end_time": "2023-10-01T02:21:45.036801Z",
     "start_time": "2023-10-01T02:21:44.610022Z"
    }
   },
   "outputs": [
    {
     "data": {
      "text/plain": "<AxesSubplot:ylabel='Density'>"
     },
     "execution_count": 46,
     "metadata": {},
     "output_type": "execute_result"
    },
    {
     "data": {
      "text/plain": "<Figure size 432x288 with 1 Axes>",
      "image/png": "[encoded data removed]"
     },
     "metadata": {
      "needs_background": "light"
     },
     "output_type": "display_data"
    }
   ],
   "source": [
    "player['Rating'].plot(kind='kde')"
   ]
  },
  {
   "cell_type": "markdown",
   "metadata": {},
   "source": [
    "足球运动员左脚右脚使用数量"
   ]
  },
  {
   "cell_type": "code",
   "execution_count": 47,
   "metadata": {
    "ExecuteTime": {
     "end_time": "2023-10-01T02:21:45.051978Z",
     "start_time": "2023-10-01T02:21:45.037412Z"
    }
   },
   "outputs": [
    {
     "data": {
      "text/plain": "0        Right\n1         Left\n2        Right\n3        Right\n4        Right\n         ...  \n17583    Right\n17584    Right\n17585    Right\n17586    Right\n17587    Right\nName: Preffered_Foot, Length: 17587, dtype: object"
     },
     "execution_count": 47,
     "metadata": {},
     "output_type": "execute_result"
    }
   ],
   "source": [
    "#查看左脚右脚使用\n",
    "player['Preffered_Foot']"
   ]
  },
  {
   "cell_type": "code",
   "execution_count": 48,
   "metadata": {
    "ExecuteTime": {
     "end_time": "2023-10-01T02:21:45.052406Z",
     "start_time": "2023-10-01T02:21:45.042394Z"
    }
   },
   "outputs": [
    {
     "data": {
      "text/plain": "Preffered_Foot\nLeft      4094\nRight    13493\nName: Preffered_Foot, dtype: int64"
     },
     "execution_count": 48,
     "metadata": {},
     "output_type": "execute_result"
    }
   ],
   "source": [
    "#对Preffered_Foot进行分组\n",
    "group_foot = player.groupby('Preffered_Foot')\n",
    "result = group_foot['Preffered_Foot'].count()\n",
    "result"
   ]
  },
  {
   "cell_type": "code",
   "execution_count": 49,
   "metadata": {
    "ExecuteTime": {
     "end_time": "2023-10-01T02:21:45.244198Z",
     "start_time": "2023-10-01T02:21:45.057752Z"
    }
   },
   "outputs": [
    {
     "data": {
      "text/plain": "<AxesSubplot:ylabel='Preffered_Foot'>"
     },
     "execution_count": 49,
     "metadata": {},
     "output_type": "execute_result"
    },
    {
     "name": "stderr",
     "output_type": "stream",
     "text": [
      "findfont: Font family ['sans-serif'] not found. Falling back to DejaVu Sans.\n",
      "findfont: Generic family 'sans-serif' not found because none of the following families were found: KaiTi\n"
     ]
    },
    {
     "data": {
      "text/plain": "<Figure size 720x576 with 1 Axes>",
      "image/png": "[encoded data removed]"
     },
     "metadata": {},
     "output_type": "display_data"
    }
   ],
   "source": [
    "#绘制图形 饼图\n",
    "result.plot(kind='pie',autopct='%.2f',fontsize=20,figsize=(10,8))"
   ]
  },
  {
   "cell_type": "code",
   "execution_count": 50,
   "metadata": {
    "ExecuteTime": {
     "end_time": "2023-10-01T02:21:45.254832Z",
     "start_time": "2023-10-01T02:21:45.182266Z"
    }
   },
   "outputs": [
    {
     "data": {
      "text/plain": "Right    13493\nLeft      4094\nName: Preffered_Foot, dtype: int64"
     },
     "execution_count": 50,
     "metadata": {},
     "output_type": "execute_result"
    }
   ],
   "source": [
    "#value_counts()\n",
    "result = player['Preffered_Foot'].value_counts()\n",
    "result"
   ]
  },
  {
   "cell_type": "code",
   "execution_count": 51,
   "metadata": {
    "ExecuteTime": {
     "end_time": "2023-10-01T02:21:45.348702Z",
     "start_time": "2023-10-01T02:21:45.188949Z"
    }
   },
   "outputs": [
    {
     "data": {
      "text/plain": "<AxesSubplot:ylabel=' '>"
     },
     "execution_count": 51,
     "metadata": {},
     "output_type": "execute_result"
    },
    {
     "data": {
      "text/plain": "<Figure size 720x576 with 1 Axes>",
      "image/png": "[encoded data removed]"
     },
     "metadata": {},
     "output_type": "display_data"
    }
   ],
   "source": [
    "#绘制饼图\n",
    "#去掉左侧名称\n",
    "result.name=' '\n",
    "result.plot.pie(autopct='%.2f',figsize=(10,8),fontsize=20)"
   ]
  },
  {
   "cell_type": "code",
   "execution_count": 52,
   "metadata": {
    "ExecuteTime": {
     "end_time": "2023-10-01T02:21:45.475695Z",
     "start_time": "2023-10-01T02:21:45.328506Z"
    }
   },
   "outputs": [
    {
     "data": {
      "text/plain": "<AxesSubplot:>"
     },
     "execution_count": 52,
     "metadata": {},
     "output_type": "execute_result"
    },
    {
     "data": {
      "text/plain": "<Figure size 432x288 with 1 Axes>",
      "image/png": "[encoded data removed]"
     },
     "metadata": {
      "needs_background": "light"
     },
     "output_type": "display_data"
    }
   ],
   "source": [
    "#绘制条形图\n",
    "result.plot(kind='bar')"
   ]
  },
  {
   "cell_type": "code",
   "execution_count": 53,
   "metadata": {
    "ExecuteTime": {
     "end_time": "2023-10-01T02:21:45.588964Z",
     "start_time": "2023-10-01T02:21:45.444474Z"
    }
   },
   "outputs": [
    {
     "data": {
      "text/plain": "<AxesSubplot:>"
     },
     "execution_count": 53,
     "metadata": {},
     "output_type": "execute_result"
    },
    {
     "data": {
      "text/plain": "<Figure size 432x288 with 1 Axes>",
      "image/png": "[encoded data removed]"
     },
     "metadata": {
      "needs_background": "light"
     },
     "output_type": "display_data"
    }
   ],
   "source": [
    "result.plot(kind='barh')"
   ]
  },
  {
   "cell_type": "markdown",
   "metadata": {},
   "source": [
    "俱乐部平均评分分析"
   ]
  },
  {
   "cell_type": "code",
   "execution_count": 54,
   "metadata": {
    "ExecuteTime": {
     "end_time": "2023-10-01T02:21:45.589287Z",
     "start_time": "2023-10-01T02:21:45.578939Z"
    }
   },
   "outputs": [],
   "source": [
    "#获取每个俱乐部平均评分\n",
    "#按俱乐部分组\n",
    "group = player.groupby('Club')"
   ]
  },
  {
   "cell_type": "code",
   "execution_count": 55,
   "metadata": {
    "ExecuteTime": {
     "end_time": "2023-10-01T02:21:45.604179Z",
     "start_time": "2023-10-01T02:21:45.583553Z"
    }
   },
   "outputs": [
    {
     "data": {
      "text/plain": "Club\n1. FC Heidenheim    65.720000\n1. FC Köln          71.846154\n1. FC Nürnberg      67.392857\n1. FSV Mainz 05     71.562500\n1860 München        68.142857\n                      ...    \nÁguilas Doradas     63.250000\nÇaykur Rizespor     66.000000\nÖrebro SK           61.913043\nÖstersunds FK       62.739130\nŚląsk Wrocław       64.695652\nName: Rating, Length: 633, dtype: float64"
     },
     "execution_count": 55,
     "metadata": {},
     "output_type": "execute_result"
    }
   ],
   "source": [
    "#平均评分\n",
    "group['Rating'].mean()"
   ]
  },
  {
   "cell_type": "code",
   "execution_count": 56,
   "metadata": {
    "ExecuteTime": {
     "end_time": "2023-10-01T02:21:45.628888Z",
     "start_time": "2023-10-01T02:21:45.591050Z"
    }
   },
   "outputs": [
    {
     "data": {
      "text/plain": "Club\nJuventus           79.785714\nFC Bayern          79.115385\nReal Madrid        78.757576\nFC Barcelona       78.090909\nNapoli             77.769231\nRoma               77.760000\nSevilla FC         76.964286\nPSG                76.709677\nAtlético Madrid    76.548387\nArsenal            76.333333\nName: Rating, dtype: float64"
     },
     "execution_count": 56,
     "metadata": {},
     "output_type": "execute_result"
    }
   ],
   "source": [
    "#俱乐部平均评分前10\n",
    "group['Rating'].mean().sort_values(ascending=False).head(10)"
   ]
  },
  {
   "cell_type": "code",
   "execution_count": 57,
   "metadata": {
    "ExecuteTime": {
     "end_time": "2023-10-01T02:21:45.767431Z",
     "start_time": "2023-10-01T02:21:45.596572Z"
    }
   },
   "outputs": [
    {
     "data": {
      "text/plain": "<AxesSubplot:xlabel='Club'>"
     },
     "execution_count": 57,
     "metadata": {},
     "output_type": "execute_result"
    },
    {
     "data": {
      "text/plain": "<Figure size 432x288 with 1 Axes>",
      "image/png": "[encoded data removed]"
     },
     "metadata": {
      "needs_background": "light"
     },
     "output_type": "display_data"
    }
   ],
   "source": [
    "#绘制条形图\n",
    "group['Rating'].mean().sort_values(ascending=False).head(10).plot(kind='bar')"
   ]
  },
  {
   "cell_type": "code",
   "execution_count": 58,
   "metadata": {
    "ExecuteTime": {
     "end_time": "2023-10-01T02:21:45.784499Z",
     "start_time": "2023-10-01T02:21:45.766144Z"
    }
   },
   "outputs": [
    {
     "data": {
      "text/plain": "                      mean  count\nClub                             \nJuventus         79.785714     28\nFC Bayern        79.115385     26\nReal Madrid      78.757576     33\nFC Barcelona     78.090909     33\nNapoli           77.769231     26\nRoma             77.760000     25\nSevilla FC       76.964286     28\nPSG              76.709677     31\nAtlético Madrid  76.548387     31\nArsenal          76.333333     33",
      "text/html": "<div>\n<style scoped>\n    .dataframe tbody tr th:only-of-type {\n        vertical-align: middle;\n    }\n\n    .dataframe tbody tr th {\n        vertical-align: top;\n    }\n\n    .dataframe thead th {\n        text-align: right;\n    }\n</style>\n<table border=\"1\" class=\"dataframe\">\n  <thead>\n    <tr style=\"text-align: right;\">\n      <th></th>\n      <th>mean</th>\n      <th>count</th>\n    </tr>\n    <tr>\n      <th>Club</th>\n      <th></th>\n      <th></th>\n    </tr>\n  </thead>\n  <tbody>\n    <tr>\n      <th>Juventus</th>\n      <td>79.785714</td>\n      <td>28</td>\n    </tr>\n    <tr>\n      <th>FC Bayern</th>\n      <td>79.115385</td>\n      <td>26</td>\n    </tr>\n    <tr>\n      <th>Real Madrid</th>\n      <td>78.757576</td>\n      <td>33</td>\n    </tr>\n    <tr>\n      <th>FC Barcelona</th>\n      <td>78.090909</td>\n      <td>33</td>\n    </tr>\n    <tr>\n      <th>Napoli</th>\n      <td>77.769231</td>\n      <td>26</td>\n    </tr>\n    <tr>\n      <th>Roma</th>\n      <td>77.760000</td>\n      <td>25</td>\n    </tr>\n    <tr>\n      <th>Sevilla FC</th>\n      <td>76.964286</td>\n      <td>28</td>\n    </tr>\n    <tr>\n      <th>PSG</th>\n      <td>76.709677</td>\n      <td>31</td>\n    </tr>\n    <tr>\n      <th>Atlético Madrid</th>\n      <td>76.548387</td>\n      <td>31</td>\n    </tr>\n    <tr>\n      <th>Arsenal</th>\n      <td>76.333333</td>\n      <td>33</td>\n    </tr>\n  </tbody>\n</table>\n</div>"
     },
     "execution_count": 58,
     "metadata": {},
     "output_type": "execute_result"
    }
   ],
   "source": [
    "#俱乐部平均评分前10 且俱乐部人数大于20\n",
    "group = player.groupby('Club')\n",
    "group['Rating'].agg(['mean','count']).sort_values('mean',ascending=False).head(10)"
   ]
  },
  {
   "cell_type": "code",
   "execution_count": 59,
   "metadata": {
    "ExecuteTime": {
     "end_time": "2023-10-01T02:21:45.998030Z",
     "start_time": "2023-10-01T02:21:45.775484Z"
    }
   },
   "outputs": [
    {
     "data": {
      "text/plain": "<AxesSubplot:xlabel='Club'>"
     },
     "execution_count": 59,
     "metadata": {},
     "output_type": "execute_result"
    },
    {
     "data": {
      "text/plain": "<Figure size 432x288 with 1 Axes>",
      "image/png": "[encoded data removed]"
     },
     "metadata": {
      "needs_background": "light"
     },
     "output_type": "display_data"
    }
   ],
   "source": [
    "group['Rating'].agg(['mean','count']).sort_values('mean',ascending=False).head(10).plot(kind='bar')"
   ]
  },
  {
   "cell_type": "code",
   "execution_count": 60,
   "metadata": {
    "ExecuteTime": {
     "end_time": "2023-10-01T02:21:46.269508Z",
     "start_time": "2023-10-01T02:21:45.986660Z"
    }
   },
   "outputs": [
    {
     "data": {
      "text/plain": "<AxesSubplot:xlabel='Club'>"
     },
     "execution_count": 60,
     "metadata": {},
     "output_type": "execute_result"
    },
    {
     "data": {
      "text/plain": "<Figure size 432x288 with 1 Axes>",
      "image/png": "[encoded data removed]"
     },
     "metadata": {
      "needs_background": "light"
     },
     "output_type": "display_data"
    }
   ],
   "source": [
    "#俱乐部平均评分前10 且俱乐部人数大于30\n",
    "result = group['Rating'].agg(['mean','count']).sort_values('mean',ascending=False)\n",
    "result[result['count']>30].head(10).plot(kind='bar')"
   ]
  },
  {
   "cell_type": "code",
   "execution_count": 61,
   "metadata": {
    "ExecuteTime": {
     "end_time": "2023-10-01T02:21:46.273081Z",
     "start_time": "2023-10-01T02:21:46.268173Z"
    }
   },
   "outputs": [],
   "source": [
    "#国家平均评分前10 且国家人数大于20\n",
    "group=player.groupby('Nationality')"
   ]
  },
  {
   "cell_type": "code",
   "execution_count": 62,
   "metadata": {
    "ExecuteTime": {
     "end_time": "2023-10-01T02:21:46.285436Z",
     "start_time": "2023-10-01T02:21:46.272929Z"
    }
   },
   "outputs": [],
   "source": [
    "result =group['Rating'].agg(['mean','count']).sort_values('mean',ascending=False)"
   ]
  },
  {
   "cell_type": "code",
   "execution_count": 63,
   "metadata": {
    "ExecuteTime": {
     "end_time": "2023-10-01T02:21:46.483801Z",
     "start_time": "2023-10-01T02:21:46.278985Z"
    }
   },
   "outputs": [
    {
     "data": {
      "text/plain": "<AxesSubplot:xlabel='Nationality'>"
     },
     "execution_count": 63,
     "metadata": {},
     "output_type": "execute_result"
    },
    {
     "data": {
      "text/plain": "<Figure size 432x288 with 1 Axes>",
      "image/png": "[encoded data removed]"
     },
     "metadata": {
      "needs_background": "light"
     },
     "output_type": "display_data"
    }
   ],
   "source": [
    "#获取人数大于20\n",
    "result[result['count']>20].head(10).plot(kind='bar')"
   ]
  },
  {
   "cell_type": "markdown",
   "metadata": {},
   "source": [
    "足球运动人数与出生日期是否有关"
   ]
  },
  {
   "cell_type": "code",
   "execution_count": 64,
   "metadata": {
    "ExecuteTime": {
     "end_time": "2023-10-01T02:21:46.488203Z",
     "start_time": "2023-10-01T02:21:46.483929Z"
    }
   },
   "outputs": [
    {
     "data": {
      "text/plain": "0        02/05/1985\n1        06/24/1987\n2        02/05/1992\n3        01/24/1987\n4        03/27/1986\n            ...    \n17583    01/04/1998\n17584    11/08/1997\n17585    11/26/1998\n17586    03/19/1996\n17587    08/05/1969\nName: Birth_Date, Length: 17587, dtype: object"
     },
     "execution_count": 64,
     "metadata": {},
     "output_type": "execute_result"
    }
   ],
   "source": [
    "#获取足球运动的出生日期  月份/日/年\n",
    "player['Birth_Date']"
   ]
  },
  {
   "cell_type": "code",
   "execution_count": 65,
   "metadata": {
    "ExecuteTime": {
     "end_time": "2023-10-01T02:21:46.542997Z",
     "start_time": "2023-10-01T02:21:46.488093Z"
    }
   },
   "outputs": [
    {
     "data": {
      "text/plain": "        0   1     2\n0      02  05  1985\n1      06  24  1987\n2      02  05  1992\n3      01  24  1987\n4      03  27  1986\n...    ..  ..   ...\n17583  01  04  1998\n17584  11  08  1997\n17585  11  26  1998\n17586  03  19  1996\n17587  08  05  1969\n\n[17587 rows x 3 columns]",
      "text/html": "<div>\n<style scoped>\n    .dataframe tbody tr th:only-of-type {\n        vertical-align: middle;\n    }\n\n    .dataframe tbody tr th {\n        vertical-align: top;\n    }\n\n    .dataframe thead th {\n        text-align: right;\n    }\n</style>\n<table border=\"1\" class=\"dataframe\">\n  <thead>\n    <tr style=\"text-align: right;\">\n      <th></th>\n      <th>0</th>\n      <th>1</th>\n      <th>2</th>\n    </tr>\n  </thead>\n  <tbody>\n    <tr>\n      <th>0</th>\n      <td>02</td>\n      <td>05</td>\n      <td>1985</td>\n    </tr>\n    <tr>\n      <th>1</th>\n      <td>06</td>\n      <td>24</td>\n      <td>1987</td>\n    </tr>\n    <tr>\n      <th>2</th>\n      <td>02</td>\n      <td>05</td>\n      <td>1992</td>\n    </tr>\n    <tr>\n      <th>3</th>\n      <td>01</td>\n      <td>24</td>\n      <td>1987</td>\n    </tr>\n    <tr>\n      <th>4</th>\n      <td>03</td>\n      <td>27</td>\n      <td>1986</td>\n    </tr>\n    <tr>\n      <th>...</th>\n      <td>...</td>\n      <td>...</td>\n      <td>...</td>\n    </tr>\n    <tr>\n      <th>17583</th>\n      <td>01</td>\n      <td>04</td>\n      <td>1998</td>\n    </tr>\n    <tr>\n      <th>17584</th>\n      <td>11</td>\n      <td>08</td>\n      <td>1997</td>\n    </tr>\n    <tr>\n      <th>17585</th>\n      <td>11</td>\n      <td>26</td>\n      <td>1998</td>\n    </tr>\n    <tr>\n      <th>17586</th>\n      <td>03</td>\n      <td>19</td>\n      <td>1996</td>\n    </tr>\n    <tr>\n      <th>17587</th>\n      <td>08</td>\n      <td>05</td>\n      <td>1969</td>\n    </tr>\n  </tbody>\n</table>\n<p>17587 rows × 3 columns</p>\n</div>"
     },
     "execution_count": 65,
     "metadata": {},
     "output_type": "execute_result"
    }
   ],
   "source": [
    "data = player['Birth_Date'].str.split('/',expand=True)\n",
    "data"
   ]
  },
  {
   "cell_type": "code",
   "execution_count": 66,
   "metadata": {
    "ExecuteTime": {
     "end_time": "2023-10-01T02:21:46.543384Z",
     "start_time": "2023-10-01T02:21:46.518875Z"
    }
   },
   "outputs": [
    {
     "data": {
      "text/plain": "02    2124\n01    1892\n03    1699\n04    1540\n05    1494\n07    1379\n09    1371\n06    1367\n08    1335\n10    1179\n11    1125\n12    1082\nName: 0, dtype: int64"
     },
     "execution_count": 66,
     "metadata": {},
     "output_type": "execute_result"
    }
   ],
   "source": [
    "#获取月份\n",
    "data[0].value_counts()"
   ]
  },
  {
   "cell_type": "code",
   "execution_count": 67,
   "metadata": {
    "ExecuteTime": {
     "end_time": "2023-10-01T02:21:46.789835Z",
     "start_time": "2023-10-01T02:21:46.581351Z"
    }
   },
   "outputs": [
    {
     "data": {
      "text/plain": "<AxesSubplot:>"
     },
     "execution_count": 67,
     "metadata": {},
     "output_type": "execute_result"
    },
    {
     "data": {
      "text/plain": "<Figure size 432x288 with 1 Axes>",
      "image/png": "[encoded data removed]"
     },
     "metadata": {
      "needs_background": "light"
     },
     "output_type": "display_data"
    }
   ],
   "source": [
    "#绘制条形图\n",
    "data[0].value_counts().plot(kind='bar')"
   ]
  },
  {
   "cell_type": "code",
   "execution_count": 68,
   "metadata": {
    "ExecuteTime": {
     "end_time": "2023-10-01T02:21:46.994314Z",
     "start_time": "2023-10-01T02:21:46.723875Z"
    }
   },
   "outputs": [
    {
     "data": {
      "text/plain": "<AxesSubplot:>"
     },
     "execution_count": 68,
     "metadata": {},
     "output_type": "execute_result"
    },
    {
     "data": {
      "text/plain": "<Figure size 432x288 with 1 Axes>",
      "image/png": "[encoded data removed]"
     },
     "metadata": {
      "needs_background": "light"
     },
     "output_type": "display_data"
    }
   ],
   "source": [
    "#获取日\n",
    "data[1].value_counts().plot(kind='bar')"
   ]
  },
  {
   "cell_type": "code",
   "execution_count": 69,
   "metadata": {
    "ExecuteTime": {
     "end_time": "2023-10-01T02:21:47.297790Z",
     "start_time": "2023-10-01T02:21:47.083512Z"
    }
   },
   "outputs": [
    {
     "data": {
      "text/plain": "<AxesSubplot:>"
     },
     "execution_count": 69,
     "metadata": {},
     "output_type": "execute_result"
    },
    {
     "data": {
      "text/plain": "<Figure size 432x288 with 1 Axes>",
      "image/png": "[encoded data removed]"
     },
     "metadata": {
      "needs_background": "light"
     },
     "output_type": "display_data"
    }
   ],
   "source": [
    "#获取年\n",
    "data[2].value_counts().plot(kind='bar')"
   ]
  },
  {
   "cell_type": "code",
   "execution_count": 70,
   "metadata": {
    "ExecuteTime": {
     "end_time": "2023-10-01T02:21:47.310042Z",
     "start_time": "2023-10-01T02:21:47.296775Z"
    }
   },
   "outputs": [],
   "source": [
    "#将评分大于等于80的球员数据\n",
    "\n",
    "result = player[player['Rating']>80]\n",
    "#获取出生日期\n",
    "data = result['Birth_Date'].str.split('/',expand=True)"
   ]
  },
  {
   "cell_type": "code",
   "execution_count": 71,
   "metadata": {
    "ExecuteTime": {
     "end_time": "2023-10-01T02:21:47.481650Z",
     "start_time": "2023-10-01T02:21:47.367463Z"
    }
   },
   "outputs": [
    {
     "data": {
      "text/plain": "<AxesSubplot:>"
     },
     "execution_count": 71,
     "metadata": {},
     "output_type": "execute_result"
    },
    {
     "data": {
      "text/plain": "<Figure size 432x288 with 1 Axes>",
      "image/png": "[encoded data removed]"
     },
     "metadata": {
      "needs_background": "light"
     },
     "output_type": "display_data"
    }
   ],
   "source": [
    "data[0].value_counts().plot(kind='bar')"
   ]
  },
  {
   "cell_type": "code",
   "execution_count": 72,
   "metadata": {
    "ExecuteTime": {
     "end_time": "2023-10-01T02:21:47.731419Z",
     "start_time": "2023-10-01T02:21:47.481835Z"
    }
   },
   "outputs": [
    {
     "data": {
      "text/plain": "<AxesSubplot:>"
     },
     "execution_count": 72,
     "metadata": {},
     "output_type": "execute_result"
    },
    {
     "data": {
      "text/plain": "<Figure size 432x288 with 1 Axes>",
      "image/png": "[encoded data removed]"
     },
     "metadata": {
      "needs_background": "light"
     },
     "output_type": "display_data"
    }
   ],
   "source": [
    "data[1].value_counts().plot(kind='bar')"
   ]
  },
  {
   "cell_type": "code",
   "execution_count": 73,
   "metadata": {
    "ExecuteTime": {
     "end_time": "2023-10-01T02:21:47.925945Z",
     "start_time": "2023-10-01T02:21:47.731685Z"
    }
   },
   "outputs": [
    {
     "data": {
      "text/plain": "<AxesSubplot:>"
     },
     "execution_count": 73,
     "metadata": {},
     "output_type": "execute_result"
    },
    {
     "data": {
      "text/plain": "<Figure size 432x288 with 1 Axes>",
      "image/png": "[encoded data removed]"
     },
     "metadata": {
      "needs_background": "light"
     },
     "output_type": "display_data"
    }
   ],
   "source": [
    "data[2].value_counts().plot(kind='bar')"
   ]
  },
  {
   "cell_type": "markdown",
   "metadata": {},
   "source": [
    "相关性分析"
   ]
  },
  {
   "cell_type": "code",
   "execution_count": 74,
   "metadata": {
    "ExecuteTime": {
     "end_time": "2023-10-01T02:21:48.115679Z",
     "start_time": "2023-10-01T02:21:47.924914Z"
    }
   },
   "outputs": [
    {
     "data": {
      "text/plain": "<AxesSubplot:xlabel='Height', ylabel='Weight'>"
     },
     "execution_count": 74,
     "metadata": {},
     "output_type": "execute_result"
    },
    {
     "data": {
      "text/plain": "<Figure size 432x288 with 1 Axes>",
      "image/png": "[encoded data removed]"
     },
     "metadata": {
      "needs_background": "light"
     },
     "output_type": "display_data"
    }
   ],
   "source": [
    "#绘制散点图  分析身高和体重\n",
    "player.plot(kind='scatter',x='Height',y='Weight')"
   ]
  },
  {
   "cell_type": "code",
   "execution_count": 75,
   "metadata": {
    "ExecuteTime": {
     "end_time": "2023-10-01T02:21:48.292084Z",
     "start_time": "2023-10-01T02:21:48.114213Z"
    }
   },
   "outputs": [
    {
     "data": {
      "text/plain": "<AxesSubplot:xlabel='Height', ylabel='Rating'>"
     },
     "execution_count": 75,
     "metadata": {},
     "output_type": "execute_result"
    },
    {
     "data": {
      "text/plain": "<Figure size 432x288 with 1 Axes>",
      "image/png": "[encoded data removed]"
     },
     "metadata": {
      "needs_background": "light"
     },
     "output_type": "display_data"
    }
   ],
   "source": [
    "#分析身高和评分\n",
    "player.plot(kind='scatter',x='Height',y='Rating')"
   ]
  },
  {
   "cell_type": "code",
   "execution_count": 76,
   "metadata": {
    "ExecuteTime": {
     "end_time": "2023-10-01T02:21:48.474352Z",
     "start_time": "2023-10-01T02:21:48.289843Z"
    }
   },
   "outputs": [
    {
     "data": {
      "text/plain": "<AxesSubplot:xlabel='Weight', ylabel='Rating'>"
     },
     "execution_count": 76,
     "metadata": {},
     "output_type": "execute_result"
    },
    {
     "data": {
      "text/plain": "<Figure size 432x288 with 1 Axes>",
      "image/png": "[encoded data removed]"
     },
     "metadata": {
      "needs_background": "light"
     },
     "output_type": "display_data"
    }
   ],
   "source": [
    "#分析体重和评分\n",
    "player.plot(kind='scatter',x='Weight',y='Rating')"
   ]
  },
  {
   "cell_type": "code",
   "execution_count": 77,
   "metadata": {
    "ExecuteTime": {
     "end_time": "2023-10-01T02:21:48.479345Z",
     "start_time": "2023-10-01T02:21:48.473648Z"
    }
   },
   "outputs": [
    {
     "data": {
      "text/plain": "1.0"
     },
     "execution_count": 77,
     "metadata": {},
     "output_type": "execute_result"
    }
   ],
   "source": [
    "#计算相关系数\n",
    "player['Height'].corr(player['Height'])"
   ]
  },
  {
   "cell_type": "code",
   "execution_count": 78,
   "metadata": {
    "ExecuteTime": {
     "end_time": "2023-10-01T02:21:48.496878Z",
     "start_time": "2023-10-01T02:21:48.477774Z"
    }
   },
   "outputs": [
    {
     "data": {
      "text/plain": "0.7582075774488358"
     },
     "execution_count": 78,
     "metadata": {},
     "output_type": "execute_result"
    }
   ],
   "source": [
    "#计算身高和体重相关系数\n",
    "player['Height'].corr(player['Weight'])"
   ]
  },
  {
   "cell_type": "code",
   "execution_count": 79,
   "metadata": {
    "ExecuteTime": {
     "end_time": "2023-10-01T02:21:48.562890Z",
     "start_time": "2023-10-01T02:21:48.485236Z"
    }
   },
   "outputs": [
    {
     "data": {
      "text/plain": "0.0469370958970111"
     },
     "execution_count": 79,
     "metadata": {},
     "output_type": "execute_result"
    }
   ],
   "source": [
    "#计算身高和评分相关系数\n",
    "player['Height'].corr(player['Rating'])"
   ]
  },
  {
   "cell_type": "code",
   "execution_count": 80,
   "metadata": {
    "ExecuteTime": {
     "end_time": "2023-10-01T02:21:48.579358Z",
     "start_time": "2023-10-01T02:21:48.492332Z"
    }
   },
   "outputs": [
    {
     "data": {
      "text/plain": "0.1397030276117853"
     },
     "execution_count": 80,
     "metadata": {},
     "output_type": "execute_result"
    }
   ],
   "source": [
    "#计算体重和评分相关系数\n",
    "player['Weight'].corr(player['Rating'])"
   ]
  },
  {
   "cell_type": "markdown",
   "metadata": {},
   "source": [
    "与评分相关性强的指标有哪些"
   ]
  },
  {
   "cell_type": "code",
   "execution_count": 81,
   "metadata": {
    "ExecuteTime": {
     "end_time": "2023-10-01T02:21:48.600927Z",
     "start_time": "2023-10-01T02:21:48.498356Z"
    }
   },
   "outputs": [
    {
     "data": {
      "text/plain": "0.0469370958970111"
     },
     "execution_count": 81,
     "metadata": {},
     "output_type": "execute_result"
    }
   ],
   "source": [
    "player['Height'].corr(player['Rating'])"
   ]
  },
  {
   "cell_type": "code",
   "execution_count": 82,
   "metadata": {
    "ExecuteTime": {
     "end_time": "2023-10-01T02:21:48.695242Z",
     "start_time": "2023-10-01T02:21:48.502492Z"
    }
   },
   "outputs": [
    {
     "data": {
      "text/plain": "                    National_Kit  Club_Kit  Contract_Expiry    Rating  \\\nNational_Kit            1.000000  0.055408        -0.027211 -0.084289   \nClub_Kit                0.055408  1.000000         0.077060 -0.172710   \nContract_Expiry        -0.027211  0.077060         1.000000  0.047430   \nRating                 -0.084289 -0.172710         0.047430  1.000000   \nHeight                 -0.101229 -0.028711        -0.080641  0.046937   \nWeight                 -0.093795 -0.072341        -0.053049  0.139703   \nAge                    -0.103583 -0.198230        -0.118370  0.458098   \nWeak_foot               0.027268 -0.037234         0.004865  0.226263   \nSkill_Moves             0.105903  0.006378         0.044511  0.251926   \nBall_Control            0.046644 -0.071067         0.035324  0.463211   \nDribbling               0.093836 -0.028584         0.048664  0.368565   \nMarking                -0.162083 -0.105522         0.015409  0.236843   \nSliding_Tackle         -0.152251 -0.094920         0.011482  0.215385   \nStanding_Tackle        -0.148329 -0.104446         0.008307  0.249156   \nAggression             -0.073288 -0.121709        -0.010361  0.404422   \nReactions              -0.058696 -0.148887         0.051309  0.828329   \nAttacking_Position      0.124641 -0.031746         0.043698  0.354501   \nInterceptions          -0.154804 -0.125007         0.006995  0.319504   \nVision                  0.076988 -0.071177         0.028113  0.489277   \nComposure              -0.016093 -0.117220         0.005840  0.613612   \nCrossing                0.045986 -0.067383         0.012553  0.401851   \nShort_Pass              0.036071 -0.085123         0.034513  0.496239   \nLong_Pass              -0.006230 -0.100525         0.016371  0.483217   \nAcceleration            0.079866 -0.006315         0.071003  0.206392   \nSpeed                   0.056282 -0.010092         0.079394  0.224253   \nStamina                 0.003828 -0.101258         0.053830  0.355335   \nStrength               -0.099086 -0.141140        -0.012495  0.369045   \nBalance                 0.089038  0.010762         0.046095  0.087811   \nAgility                 0.085691 -0.036128         0.047667  0.283309   \nJumping                -0.100935 -0.106797         0.002805  0.289840   \nHeading                -0.072020 -0.076264         0.026235  0.343265   \nShot_Power              0.083610 -0.051829         0.021477  0.441773   \nFinishing               0.138914 -0.007898         0.032341  0.328576   \nLong_Shots              0.109168 -0.040658         0.028781  0.419517   \nCurve                   0.081888 -0.053631         0.010840  0.420796   \nFreekick_Accuracy       0.106621 -0.062077         0.007001  0.399575   \nPenalties               0.095289 -0.016220         0.020878  0.339898   \nVolleys                 0.117381 -0.020482         0.025120  0.386494   \nGK_Positioning         -0.031492  0.004684        -0.027994 -0.018586   \nGK_Diving              -0.012435  0.011290        -0.026117 -0.027615   \nGK_Kicking             -0.015472  0.008788        -0.023273 -0.031696   \nGK_Handling            -0.024611  0.006725        -0.023064 -0.021343   \nGK_Reflexes            -0.018816  0.007480        -0.024923 -0.022978   \n\n                      Height  ...  GK_Positioning  GK_Diving  GK_Kicking  \\\nNational_Kit       -0.101229  ...       -0.031492  -0.012435   -0.015472   \nClub_Kit           -0.028711  ...        0.004684   0.011290    0.008788   \nContract_Expiry    -0.080641  ...       -0.027994  -0.026117   -0.023273   \nRating              0.046937  ...       -0.018586  -0.027615   -0.031696   \nHeight              1.000000  ...        0.358795   0.357683    0.356070   \nWeight              0.758208  ...        0.342502   0.340775    0.339505   \nAge                 0.076727  ...        0.122371   0.105158    0.109931   \nWeak_foot          -0.180431  ...       -0.232109  -0.236372   -0.230924   \nSkill_Moves        -0.431177  ...       -0.607676  -0.610500   -0.605746   \nBall_Control       -0.402596  ...       -0.776117  -0.779922   -0.775690   \nDribbling          -0.483545  ...       -0.741793  -0.743848   -0.739995   \nMarking            -0.042485  ...       -0.492932  -0.496354   -0.495732   \nSliding_Tackle     -0.069602  ...       -0.498386  -0.501643   -0.501019   \nStanding_Tackle    -0.054282  ...       -0.521127  -0.524291   -0.523387   \nAggression         -0.049009  ...       -0.561675  -0.567497   -0.563989   \nReactions          -0.016407  ...       -0.039962  -0.048234   -0.051864   \nAttacking_Position -0.419544  ...       -0.665015  -0.668924   -0.663450   \nInterceptions      -0.050358  ...       -0.470613  -0.474997   -0.473268   \nVision             -0.359610  ...       -0.400721  -0.405353   -0.398335   \nComposure          -0.169460  ...       -0.462405  -0.470743   -0.468175   \nCrossing           -0.471327  ...       -0.658450  -0.662598   -0.658385   \nShort_Pass         -0.356768  ...       -0.714431  -0.717572   -0.713856   \nLong_Pass          -0.323575  ...       -0.595199  -0.598739   -0.594084   \nAcceleration       -0.521688  ...       -0.589681  -0.589198   -0.589036   \nSpeed              -0.451128  ...       -0.600348  -0.599891   -0.599152   \nStamina            -0.293564  ...       -0.702177  -0.705673   -0.702016   \nStrength            0.537223  ...       -0.079647  -0.085167   -0.084113   \nBalance            -0.799775  ...       -0.484823  -0.484486   -0.484118   \nAgility            -0.611198  ...       -0.507581  -0.508065   -0.508568   \nJumping            -0.063048  ...       -0.158394  -0.158524   -0.161687   \nHeading             0.005367  ...       -0.747203  -0.751930   -0.747164   \nShot_Power         -0.273413  ...       -0.650511  -0.652568   -0.648162   \nFinishing          -0.347154  ...       -0.573674  -0.576028   -0.571200   \nLong_Shots         -0.364182  ...       -0.597866  -0.601603   -0.595864   \nCurve              -0.423115  ...       -0.604127  -0.606164   -0.601059   \nFreekick_Accuracy  -0.380217  ...       -0.557384  -0.559510   -0.554188   \nPenalties          -0.321246  ...       -0.612528  -0.614877   -0.609397   \nVolleys            -0.333576  ...       -0.576643  -0.579607   -0.574444   \nGK_Positioning      0.358795  ...        1.000000   0.968213    0.962937   \nGK_Diving           0.357683  ...        0.968213   1.000000    0.963512   \nGK_Kicking          0.356070  ...        0.962937   0.963512    1.000000   \nGK_Handling         0.359746  ...        0.968031   0.968287    0.963264   \nGK_Reflexes         0.360260  ...        0.968550   0.972519    0.964500   \n\n                    GK_Handling  GK_Reflexes  \nNational_Kit          -0.024611    -0.018816  \nClub_Kit               0.006725     0.007480  \nContract_Expiry       -0.023064    -0.024923  \nRating                -0.021343    -0.022978  \nHeight                 0.359746     0.360260  \nWeight                 0.341829     0.341785  \nAge                    0.113216     0.106979  \nWeak_foot             -0.233080    -0.235275  \nSkill_Moves           -0.606713    -0.609282  \nBall_Control          -0.775632    -0.777668  \nDribbling             -0.740616    -0.742065  \nMarking               -0.496431    -0.497013  \nSliding_Tackle        -0.501429    -0.501738  \nStanding_Tackle       -0.523648    -0.524598  \nAggression            -0.564734    -0.566184  \nReactions             -0.044558    -0.045050  \nAttacking_Position    -0.664273    -0.666512  \nInterceptions         -0.474025    -0.474850  \nVision                -0.397728    -0.401582  \nComposure             -0.464087    -0.469048  \nCrossing              -0.658085    -0.661232  \nShort_Pass            -0.714071    -0.716827  \nLong_Pass             -0.594416    -0.597275  \nAcceleration          -0.589799    -0.588293  \nSpeed                 -0.599809    -0.599522  \nStamina               -0.703375    -0.705185  \nStrength              -0.080986    -0.084108  \nBalance               -0.487582    -0.485658  \nAgility               -0.506763    -0.507833  \nJumping               -0.158992    -0.157636  \nHeading               -0.749532    -0.750380  \nShot_Power            -0.649521    -0.651392  \nFinishing             -0.571792    -0.573409  \nLong_Shots            -0.597474    -0.598692  \nCurve                 -0.601801    -0.603812  \nFreekick_Accuracy     -0.554871    -0.557189  \nPenalties             -0.611300    -0.613301  \nVolleys               -0.574602    -0.576507  \nGK_Positioning         0.968031     0.968550  \nGK_Diving              0.968287     0.972519  \nGK_Kicking             0.963264     0.964500  \nGK_Handling            1.000000     0.968501  \nGK_Reflexes            0.968501     1.000000  \n\n[43 rows x 43 columns]",
      "text/html": "<div>\n<style scoped>\n    .dataframe tbody tr th:only-of-type {\n        vertical-align: middle;\n    }\n\n    .dataframe tbody tr th {\n        vertical-align: top;\n    }\n\n    .dataframe thead th {\n        text-align: right;\n    }\n</style>\n<table border=\"1\" class=\"dataframe\">\n  <thead>\n    <tr style=\"text-align: right;\">\n      <th></th>\n      <th>National_Kit</th>\n      <th>Club_Kit</th>\n      <th>Contract_Expiry</th>\n      <th>Rating</th>\n      <th>Height</th>\n      <th>...</th>\n      <th>GK_Positioning</th>\n      <th>GK_Diving</th>\n      <th>GK_Kicking</th>\n      <th>GK_Handling</th>\n      <th>GK_Reflexes</th>\n    </tr>\n  </thead>\n  <tbody>\n    <tr>\n      <th>National_Kit</th>\n      <td>1.000000</td>\n      <td>0.055408</td>\n      <td>-0.027211</td>\n      <td>-0.084289</td>\n      <td>-0.101229</td>\n      <td>...</td>\n      <td>-0.031492</td>\n      <td>-0.012435</td>\n      <td>-0.015472</td>\n      <td>-0.024611</td>\n      <td>-0.018816</td>\n    </tr>\n    <tr>\n      <th>Club_Kit</th>\n      <td>0.055408</td>\n      <td>1.000000</td>\n      <td>0.077060</td>\n      <td>-0.172710</td>\n      <td>-0.028711</td>\n      <td>...</td>\n      <td>0.004684</td>\n      <td>0.011290</td>\n      <td>0.008788</td>\n      <td>0.006725</td>\n      <td>0.007480</td>\n    </tr>\n    <tr>\n      <th>Contract_Expiry</th>\n      <td>-0.027211</td>\n      <td>0.077060</td>\n      <td>1.000000</td>\n      <td>0.047430</td>\n      <td>-0.080641</td>\n      <td>...</td>\n      <td>-0.027994</td>\n      <td>-0.026117</td>\n      <td>-0.023273</td>\n      <td>-0.023064</td>\n      <td>-0.024923</td>\n    </tr>\n    <tr>\n      <th>Rating</th>\n      <td>-0.084289</td>\n      <td>-0.172710</td>\n      <td>0.047430</td>\n      <td>1.000000</td>\n      <td>0.046937</td>\n      <td>...</td>\n      <td>-0.018586</td>\n      <td>-0.027615</td>\n      <td>-0.031696</td>\n      <td>-0.021343</td>\n      <td>-0.022978</td>\n    </tr>\n    <tr>\n      <th>Height</th>\n      <td>-0.101229</td>\n      <td>-0.028711</td>\n      <td>-0.080641</td>\n      <td>0.046937</td>\n      <td>1.000000</td>\n      <td>...</td>\n      <td>0.358795</td>\n      <td>0.357683</td>\n      <td>0.356070</td>\n      <td>0.359746</td>\n      <td>0.360260</td>\n    </tr>\n    <tr>\n      <th>Weight</th>\n      <td>-0.093795</td>\n      <td>-0.072341</td>\n      <td>-0.053049</td>\n      <td>0.139703</td>\n      <td>0.758208</td>\n      <td>...</td>\n      <td>0.342502</td>\n      <td>0.340775</td>\n      <td>0.339505</td>\n      <td>0.341829</td>\n      <td>0.341785</td>\n    </tr>\n    <tr>\n      <th>Age</th>\n      <td>-0.103583</td>\n      <td>-0.198230</td>\n      <td>-0.118370</td>\n      <td>0.458098</td>\n      <td>0.076727</td>\n      <td>...</td>\n      <td>0.122371</td>\n      <td>0.105158</td>\n      <td>0.109931</td>\n      <td>0.113216</td>\n      <td>0.106979</td>\n    </tr>\n    <tr>\n      <th>Weak_foot</th>\n      <td>0.027268</td>\n      <td>-0.037234</td>\n      <td>0.004865</td>\n      <td>0.226263</td>\n      <td>-0.180431</td>\n      <td>...</td>\n      <td>-0.232109</td>\n      <td>-0.236372</td>\n      <td>-0.230924</td>\n      <td>-0.233080</td>\n      <td>-0.235275</td>\n    </tr>\n    <tr>\n      <th>Skill_Moves</th>\n      <td>0.105903</td>\n      <td>0.006378</td>\n      <td>0.044511</td>\n      <td>0.251926</td>\n      <td>-0.431177</td>\n      <td>...</td>\n      <td>-0.607676</td>\n      <td>-0.610500</td>\n      <td>-0.605746</td>\n      <td>-0.606713</td>\n      <td>-0.609282</td>\n    </tr>\n    <tr>\n      <th>Ball_Control</th>\n      <td>0.046644</td>\n      <td>-0.071067</td>\n      <td>0.035324</td>\n      <td>0.463211</td>\n      <td>-0.402596</td>\n      <td>...</td>\n      <td>-0.776117</td>\n      <td>-0.779922</td>\n      <td>-0.775690</td>\n      <td>-0.775632</td>\n      <td>-0.777668</td>\n    </tr>\n    <tr>\n      <th>Dribbling</th>\n      <td>0.093836</td>\n      <td>-0.028584</td>\n      <td>0.048664</td>\n      <td>0.368565</td>\n      <td>-0.483545</td>\n      <td>...</td>\n      <td>-0.741793</td>\n      <td>-0.743848</td>\n      <td>-0.739995</td>\n      <td>-0.740616</td>\n      <td>-0.742065</td>\n    </tr>\n    <tr>\n      <th>Marking</th>\n      <td>-0.162083</td>\n      <td>-0.105522</td>\n      <td>0.015409</td>\n      <td>0.236843</td>\n      <td>-0.042485</td>\n      <td>...</td>\n      <td>-0.492932</td>\n      <td>-0.496354</td>\n      <td>-0.495732</td>\n      <td>-0.496431</td>\n      <td>-0.497013</td>\n    </tr>\n    <tr>\n      <th>Sliding_Tackle</th>\n      <td>-0.152251</td>\n      <td>-0.094920</td>\n      <td>0.011482</td>\n      <td>0.215385</td>\n      <td>-0.069602</td>\n      <td>...</td>\n      <td>-0.498386</td>\n      <td>-0.501643</td>\n      <td>-0.501019</td>\n      <td>-0.501429</td>\n      <td>-0.501738</td>\n    </tr>\n    <tr>\n      <th>Standing_Tackle</th>\n      <td>-0.148329</td>\n      <td>-0.104446</td>\n      <td>0.008307</td>\n      <td>0.249156</td>\n      <td>-0.054282</td>\n      <td>...</td>\n      <td>-0.521127</td>\n      <td>-0.524291</td>\n      <td>-0.523387</td>\n      <td>-0.523648</td>\n      <td>-0.524598</td>\n    </tr>\n    <tr>\n      <th>Aggression</th>\n      <td>-0.073288</td>\n      <td>-0.121709</td>\n      <td>-0.010361</td>\n      <td>0.404422</td>\n      <td>-0.049009</td>\n      <td>...</td>\n      <td>-0.561675</td>\n      <td>-0.567497</td>\n      <td>-0.563989</td>\n      <td>-0.564734</td>\n      <td>-0.566184</td>\n    </tr>\n    <tr>\n      <th>Reactions</th>\n      <td>-0.058696</td>\n      <td>-0.148887</td>\n      <td>0.051309</td>\n      <td>0.828329</td>\n      <td>-0.016407</td>\n      <td>...</td>\n      <td>-0.039962</td>\n      <td>-0.048234</td>\n      <td>-0.051864</td>\n      <td>-0.044558</td>\n      <td>-0.045050</td>\n    </tr>\n    <tr>\n      <th>Attacking_Position</th>\n      <td>0.124641</td>\n      <td>-0.031746</td>\n      <td>0.043698</td>\n      <td>0.354501</td>\n      <td>-0.419544</td>\n      <td>...</td>\n      <td>-0.665015</td>\n      <td>-0.668924</td>\n      <td>-0.663450</td>\n      <td>-0.664273</td>\n      <td>-0.666512</td>\n    </tr>\n    <tr>\n      <th>Interceptions</th>\n      <td>-0.154804</td>\n      <td>-0.125007</td>\n      <td>0.006995</td>\n      <td>0.319504</td>\n      <td>-0.050358</td>\n      <td>...</td>\n      <td>-0.470613</td>\n      <td>-0.474997</td>\n      <td>-0.473268</td>\n      <td>-0.474025</td>\n      <td>-0.474850</td>\n    </tr>\n    <tr>\n      <th>Vision</th>\n      <td>0.076988</td>\n      <td>-0.071177</td>\n      <td>0.028113</td>\n      <td>0.489277</td>\n      <td>-0.359610</td>\n      <td>...</td>\n      <td>-0.400721</td>\n      <td>-0.405353</td>\n      <td>-0.398335</td>\n      <td>-0.397728</td>\n      <td>-0.401582</td>\n    </tr>\n    <tr>\n      <th>Composure</th>\n      <td>-0.016093</td>\n      <td>-0.117220</td>\n      <td>0.005840</td>\n      <td>0.613612</td>\n      <td>-0.169460</td>\n      <td>...</td>\n      <td>-0.462405</td>\n      <td>-0.470743</td>\n      <td>-0.468175</td>\n      <td>-0.464087</td>\n      <td>-0.469048</td>\n    </tr>\n    <tr>\n      <th>Crossing</th>\n      <td>0.045986</td>\n      <td>-0.067383</td>\n      <td>0.012553</td>\n      <td>0.401851</td>\n      <td>-0.471327</td>\n      <td>...</td>\n      <td>-0.658450</td>\n      <td>-0.662598</td>\n      <td>-0.658385</td>\n      <td>-0.658085</td>\n      <td>-0.661232</td>\n    </tr>\n    <tr>\n      <th>Short_Pass</th>\n      <td>0.036071</td>\n      <td>-0.085123</td>\n      <td>0.034513</td>\n      <td>0.496239</td>\n      <td>-0.356768</td>\n      <td>...</td>\n      <td>-0.714431</td>\n      <td>-0.717572</td>\n      <td>-0.713856</td>\n      <td>-0.714071</td>\n      <td>-0.716827</td>\n    </tr>\n    <tr>\n      <th>Long_Pass</th>\n      <td>-0.006230</td>\n      <td>-0.100525</td>\n      <td>0.016371</td>\n      <td>0.483217</td>\n      <td>-0.323575</td>\n      <td>...</td>\n      <td>-0.595199</td>\n      <td>-0.598739</td>\n      <td>-0.594084</td>\n      <td>-0.594416</td>\n      <td>-0.597275</td>\n    </tr>\n    <tr>\n      <th>Acceleration</th>\n      <td>0.079866</td>\n      <td>-0.006315</td>\n      <td>0.071003</td>\n      <td>0.206392</td>\n      <td>-0.521688</td>\n      <td>...</td>\n      <td>-0.589681</td>\n      <td>-0.589198</td>\n      <td>-0.589036</td>\n      <td>-0.589799</td>\n      <td>-0.588293</td>\n    </tr>\n    <tr>\n      <th>Speed</th>\n      <td>0.056282</td>\n      <td>-0.010092</td>\n      <td>0.079394</td>\n      <td>0.224253</td>\n      <td>-0.451128</td>\n      <td>...</td>\n      <td>-0.600348</td>\n      <td>-0.599891</td>\n      <td>-0.599152</td>\n      <td>-0.599809</td>\n      <td>-0.599522</td>\n    </tr>\n    <tr>\n      <th>Stamina</th>\n      <td>0.003828</td>\n      <td>-0.101258</td>\n      <td>0.053830</td>\n      <td>0.355335</td>\n      <td>-0.293564</td>\n      <td>...</td>\n      <td>-0.702177</td>\n      <td>-0.705673</td>\n      <td>-0.702016</td>\n      <td>-0.703375</td>\n      <td>-0.705185</td>\n    </tr>\n    <tr>\n      <th>Strength</th>\n      <td>-0.099086</td>\n      <td>-0.141140</td>\n      <td>-0.012495</td>\n      <td>0.369045</td>\n      <td>0.537223</td>\n      <td>...</td>\n      <td>-0.079647</td>\n      <td>-0.085167</td>\n      <td>-0.084113</td>\n      <td>-0.080986</td>\n      <td>-0.084108</td>\n    </tr>\n    <tr>\n      <th>Balance</th>\n      <td>0.089038</td>\n      <td>0.010762</td>\n      <td>0.046095</td>\n      <td>0.087811</td>\n      <td>-0.799775</td>\n      <td>...</td>\n      <td>-0.484823</td>\n      <td>-0.484486</td>\n      <td>-0.484118</td>\n      <td>-0.487582</td>\n      <td>-0.485658</td>\n    </tr>\n    <tr>\n      <th>Agility</th>\n      <td>0.085691</td>\n      <td>-0.036128</td>\n      <td>0.047667</td>\n      <td>0.283309</td>\n      <td>-0.611198</td>\n      <td>...</td>\n      <td>-0.507581</td>\n      <td>-0.508065</td>\n      <td>-0.508568</td>\n      <td>-0.506763</td>\n      <td>-0.507833</td>\n    </tr>\n    <tr>\n      <th>Jumping</th>\n      <td>-0.100935</td>\n      <td>-0.106797</td>\n      <td>0.002805</td>\n      <td>0.289840</td>\n      <td>-0.063048</td>\n      <td>...</td>\n      <td>-0.158394</td>\n      <td>-0.158524</td>\n      <td>-0.161687</td>\n      <td>-0.158992</td>\n      <td>-0.157636</td>\n    </tr>\n    <tr>\n      <th>Heading</th>\n      <td>-0.072020</td>\n      <td>-0.076264</td>\n      <td>0.026235</td>\n      <td>0.343265</td>\n      <td>0.005367</td>\n      <td>...</td>\n      <td>-0.747203</td>\n      <td>-0.751930</td>\n      <td>-0.747164</td>\n      <td>-0.749532</td>\n      <td>-0.750380</td>\n    </tr>\n    <tr>\n      <th>Shot_Power</th>\n      <td>0.083610</td>\n      <td>-0.051829</td>\n      <td>0.021477</td>\n      <td>0.441773</td>\n      <td>-0.273413</td>\n      <td>...</td>\n      <td>-0.650511</td>\n      <td>-0.652568</td>\n      <td>-0.648162</td>\n      <td>-0.649521</td>\n      <td>-0.651392</td>\n    </tr>\n    <tr>\n      <th>Finishing</th>\n      <td>0.138914</td>\n      <td>-0.007898</td>\n      <td>0.032341</td>\n      <td>0.328576</td>\n      <td>-0.347154</td>\n      <td>...</td>\n      <td>-0.573674</td>\n      <td>-0.576028</td>\n      <td>-0.571200</td>\n      <td>-0.571792</td>\n      <td>-0.573409</td>\n    </tr>\n    <tr>\n      <th>Long_Shots</th>\n      <td>0.109168</td>\n      <td>-0.040658</td>\n      <td>0.028781</td>\n      <td>0.419517</td>\n      <td>-0.364182</td>\n      <td>...</td>\n      <td>-0.597866</td>\n      <td>-0.601603</td>\n      <td>-0.595864</td>\n      <td>-0.597474</td>\n      <td>-0.598692</td>\n    </tr>\n    <tr>\n      <th>Curve</th>\n      <td>0.081888</td>\n      <td>-0.053631</td>\n      <td>0.010840</td>\n      <td>0.420796</td>\n      <td>-0.423115</td>\n      <td>...</td>\n      <td>-0.604127</td>\n      <td>-0.606164</td>\n      <td>-0.601059</td>\n      <td>-0.601801</td>\n      <td>-0.603812</td>\n    </tr>\n    <tr>\n      <th>Freekick_Accuracy</th>\n      <td>0.106621</td>\n      <td>-0.062077</td>\n      <td>0.007001</td>\n      <td>0.399575</td>\n      <td>-0.380217</td>\n      <td>...</td>\n      <td>-0.557384</td>\n      <td>-0.559510</td>\n      <td>-0.554188</td>\n      <td>-0.554871</td>\n      <td>-0.557189</td>\n    </tr>\n    <tr>\n      <th>Penalties</th>\n      <td>0.095289</td>\n      <td>-0.016220</td>\n      <td>0.020878</td>\n      <td>0.339898</td>\n      <td>-0.321246</td>\n      <td>...</td>\n      <td>-0.612528</td>\n      <td>-0.614877</td>\n      <td>-0.609397</td>\n      <td>-0.611300</td>\n      <td>-0.613301</td>\n    </tr>\n    <tr>\n      <th>Volleys</th>\n      <td>0.117381</td>\n      <td>-0.020482</td>\n      <td>0.025120</td>\n      <td>0.386494</td>\n      <td>-0.333576</td>\n      <td>...</td>\n      <td>-0.576643</td>\n      <td>-0.579607</td>\n      <td>-0.574444</td>\n      <td>-0.574602</td>\n      <td>-0.576507</td>\n    </tr>\n    <tr>\n      <th>GK_Positioning</th>\n      <td>-0.031492</td>\n      <td>0.004684</td>\n      <td>-0.027994</td>\n      <td>-0.018586</td>\n      <td>0.358795</td>\n      <td>...</td>\n      <td>1.000000</td>\n      <td>0.968213</td>\n      <td>0.962937</td>\n      <td>0.968031</td>\n      <td>0.968550</td>\n    </tr>\n    <tr>\n      <th>GK_Diving</th>\n      <td>-0.012435</td>\n      <td>0.011290</td>\n      <td>-0.026117</td>\n      <td>-0.027615</td>\n      <td>0.357683</td>\n      <td>...</td>\n      <td>0.968213</td>\n      <td>1.000000</td>\n      <td>0.963512</td>\n      <td>0.968287</td>\n      <td>0.972519</td>\n    </tr>\n    <tr>\n      <th>GK_Kicking</th>\n      <td>-0.015472</td>\n      <td>0.008788</td>\n      <td>-0.023273</td>\n      <td>-0.031696</td>\n      <td>0.356070</td>\n      <td>...</td>\n      <td>0.962937</td>\n      <td>0.963512</td>\n      <td>1.000000</td>\n      <td>0.963264</td>\n      <td>0.964500</td>\n    </tr>\n    <tr>\n      <th>GK_Handling</th>\n      <td>-0.024611</td>\n      <td>0.006725</td>\n      <td>-0.023064</td>\n      <td>-0.021343</td>\n      <td>0.359746</td>\n      <td>...</td>\n      <td>0.968031</td>\n      <td>0.968287</td>\n      <td>0.963264</td>\n      <td>1.000000</td>\n      <td>0.968501</td>\n    </tr>\n    <tr>\n      <th>GK_Reflexes</th>\n      <td>-0.018816</td>\n      <td>0.007480</td>\n      <td>-0.024923</td>\n      <td>-0.022978</td>\n      <td>0.360260</td>\n      <td>...</td>\n      <td>0.968550</td>\n      <td>0.972519</td>\n      <td>0.964500</td>\n      <td>0.968501</td>\n      <td>1.000000</td>\n    </tr>\n  </tbody>\n</table>\n<p>43 rows × 43 columns</p>\n</div>"
     },
     "execution_count": 82,
     "metadata": {},
     "output_type": "execute_result"
    }
   ],
   "source": [
    "#DataFrame对象 corr()生成相关系数矩阵\n",
    "player.corr()"
   ]
  },
  {
   "cell_type": "code",
   "execution_count": 83,
   "metadata": {
    "ExecuteTime": {
     "end_time": "2023-10-01T02:21:48.714130Z",
     "start_time": "2023-10-01T02:21:48.590623Z"
    }
   },
   "outputs": [
    {
     "data": {
      "text/plain": "pandas.core.frame.DataFrame"
     },
     "execution_count": 83,
     "metadata": {},
     "output_type": "execute_result"
    }
   ],
   "source": [
    "#查看相关系数矩阵类型\n",
    "type(player.corr())"
   ]
  },
  {
   "cell_type": "code",
   "execution_count": 84,
   "metadata": {
    "ExecuteTime": {
     "end_time": "2023-10-01T02:21:48.772029Z",
     "start_time": "2023-10-01T02:21:48.661031Z"
    }
   },
   "outputs": [
    {
     "data": {
      "text/plain": "National_Kit         -0.084289\nClub_Kit             -0.172710\nContract_Expiry       0.047430\nRating                1.000000\nHeight                0.046937\nWeight                0.139703\nAge                   0.458098\nWeak_foot             0.226263\nSkill_Moves           0.251926\nBall_Control          0.463211\nDribbling             0.368565\nMarking               0.236843\nSliding_Tackle        0.215385\nStanding_Tackle       0.249156\nAggression            0.404422\nReactions             0.828329\nAttacking_Position    0.354501\nInterceptions         0.319504\nVision                0.489277\nComposure             0.613612\nCrossing              0.401851\nShort_Pass            0.496239\nLong_Pass             0.483217\nAcceleration          0.206392\nSpeed                 0.224253\nStamina               0.355335\nStrength              0.369045\nBalance               0.087811\nAgility               0.283309\nJumping               0.289840\nHeading               0.343265\nShot_Power            0.441773\nFinishing             0.328576\nLong_Shots            0.419517\nCurve                 0.420796\nFreekick_Accuracy     0.399575\nPenalties             0.339898\nVolleys               0.386494\nGK_Positioning       -0.018586\nGK_Diving            -0.027615\nGK_Kicking           -0.031696\nGK_Handling          -0.021343\nGK_Reflexes          -0.022978\nName: Rating, dtype: float64"
     },
     "execution_count": 84,
     "metadata": {},
     "output_type": "execute_result"
    }
   ],
   "source": [
    "player.corr()['Rating']"
   ]
  },
  {
   "cell_type": "code",
   "execution_count": 85,
   "metadata": {
    "ExecuteTime": {
     "end_time": "2023-10-01T02:21:48.886680Z",
     "start_time": "2023-10-01T02:21:48.738439Z"
    }
   },
   "outputs": [
    {
     "data": {
      "text/plain": "Rating                1.000000\nReactions             0.828329\nComposure             0.613612\nShort_Pass            0.496239\nVision                0.489277\nLong_Pass             0.483217\nBall_Control          0.463211\nAge                   0.458098\nShot_Power            0.441773\nCurve                 0.420796\nLong_Shots            0.419517\nAggression            0.404422\nCrossing              0.401851\nFreekick_Accuracy     0.399575\nVolleys               0.386494\nStrength              0.369045\nDribbling             0.368565\nStamina               0.355335\nAttacking_Position    0.354501\nHeading               0.343265\nPenalties             0.339898\nFinishing             0.328576\nInterceptions         0.319504\nJumping               0.289840\nAgility               0.283309\nSkill_Moves           0.251926\nStanding_Tackle       0.249156\nMarking               0.236843\nWeak_foot             0.226263\nSpeed                 0.224253\nSliding_Tackle        0.215385\nAcceleration          0.206392\nWeight                0.139703\nBalance               0.087811\nContract_Expiry       0.047430\nHeight                0.046937\nGK_Positioning       -0.018586\nGK_Handling          -0.021343\nGK_Reflexes          -0.022978\nGK_Diving            -0.027615\nGK_Kicking           -0.031696\nNational_Kit         -0.084289\nClub_Kit             -0.172710\nName: Rating, dtype: float64"
     },
     "execution_count": 85,
     "metadata": {},
     "output_type": "execute_result"
    }
   ],
   "source": [
    "#排序\n",
    "player.corr()['Rating'].sort_values(ascending=False)"
   ]
  },
  {
   "cell_type": "markdown",
   "metadata": {},
   "source": [
    "年龄与评分是否有相关性"
   ]
  },
  {
   "cell_type": "code",
   "execution_count": 86,
   "metadata": {
    "ExecuteTime": {
     "end_time": "2023-10-01T02:21:49.067838Z",
     "start_time": "2023-10-01T02:21:48.808991Z"
    }
   },
   "outputs": [
    {
     "data": {
      "text/plain": "<AxesSubplot:xlabel='Age', ylabel='Rating'>"
     },
     "execution_count": 86,
     "metadata": {},
     "output_type": "execute_result"
    },
    {
     "data": {
      "text/plain": "<Figure size 432x288 with 1 Axes>",
      "image/png": "[encoded data removed]"
     },
     "metadata": {
      "needs_background": "light"
     },
     "output_type": "display_data"
    }
   ],
   "source": [
    "#绘制散点图\n",
    "player.plot(kind='scatter',x='Age',y='Rating')"
   ]
  },
  {
   "cell_type": "code",
   "execution_count": 87,
   "metadata": {
    "ExecuteTime": {
     "end_time": "2023-10-01T02:21:49.072999Z",
     "start_time": "2023-10-01T02:21:49.066481Z"
    }
   },
   "outputs": [
    {
     "data": {
      "text/plain": "0.4580978906200465"
     },
     "execution_count": 87,
     "metadata": {},
     "output_type": "execute_result"
    }
   ],
   "source": [
    "#计算年龄与评分相关系数\n",
    "player['Age'].corr(player['Rating'])"
   ]
  },
  {
   "cell_type": "code",
   "execution_count": 88,
   "metadata": {
    "ExecuteTime": {
     "end_time": "2023-10-01T02:21:49.090102Z",
     "start_time": "2023-10-01T02:21:49.072549Z"
    }
   },
   "outputs": [
    {
     "data": {
      "text/plain": "0         (24.5, 32.0]\n1         (24.5, 32.0]\n2         (24.5, 32.0]\n3         (24.5, 32.0]\n4         (24.5, 32.0]\n             ...      \n17583    (16.97, 24.5]\n17584    (16.97, 24.5]\n17585    (16.97, 24.5]\n17586    (16.97, 24.5]\n17587     (39.5, 47.0]\nName: Age, Length: 17587, dtype: category\nCategories (4, interval[float64, right]): [(16.97, 24.5] < (24.5, 32.0] < (32.0, 39.5] < (39.5, 47.0]]"
     },
     "execution_count": 88,
     "metadata": {},
     "output_type": "execute_result"
    }
   ],
   "source": [
    "#对年龄进行分组\n",
    "#cut bins参数指定分组 默认平分\n",
    "pd.cut(player['Age'],bins=4)"
   ]
  },
  {
   "cell_type": "code",
   "execution_count": 89,
   "metadata": {
    "ExecuteTime": {
     "end_time": "2023-10-01T02:21:49.167550Z",
     "start_time": "2023-10-01T02:21:49.084236Z"
    }
   },
   "outputs": [
    {
     "data": {
      "text/plain": "0        青年队\n1        青年队\n2        青年队\n3        青年队\n4        青年队\n        ... \n17583    少年队\n17584    少年队\n17585    少年队\n17586    少年队\n17587    老年队\nName: Age, Length: 17587, dtype: category\nCategories (4, object): ['少年队' < '青年队' < '中年队' < '老年队']"
     },
     "execution_count": 89,
     "metadata": {},
     "output_type": "execute_result"
    }
   ],
   "source": [
    "#对组设置标签\n",
    "pd.cut(player['Age'],bins=4,labels=['少年队','青年队','中年队','老年队'])"
   ]
  },
  {
   "cell_type": "code",
   "execution_count": 90,
   "metadata": {
    "ExecuteTime": {
     "end_time": "2023-10-01T02:21:49.199255Z",
     "start_time": "2023-10-01T02:21:49.091495Z"
    }
   },
   "outputs": [
    {
     "name": "stderr",
     "output_type": "stream",
     "text": [
      "/var/folders/1j/zwjsh6y95b17l9zt2672mvlh0000gn/T/ipykernel_68030/596799078.py:2: SettingWithCopyWarning: \n",
      "A value is trying to be set on a copy of a slice from a DataFrame.\n",
      "Try using .loc[row_indexer,col_indexer] = value instead\n",
      "\n",
      "See the caveats in the documentation: https://pandas.pydata.org/pandas-docs/stable/user_guide/indexing.html#returning-a-view-versus-a-copy\n",
      "  player['Age2'] = pd.cut(player['Age'],bins=4,labels=['少年队','青年队','中年队','老年队'])\n"
     ]
    }
   ],
   "source": [
    "#新增一列\n",
    "player['Age2'] = pd.cut(player['Age'],bins=4,labels=['少年队','青年队','中年队','老年队'])"
   ]
  },
  {
   "cell_type": "code",
   "execution_count": 91,
   "metadata": {
    "ExecuteTime": {
     "end_time": "2023-10-01T02:21:49.201164Z",
     "start_time": "2023-10-01T02:21:49.172699Z"
    }
   },
   "outputs": [
    {
     "data": {
      "text/plain": "                    Name          Nationality National_Position  National_Kit  \\\n0      Cristiano Ronaldo             Portugal                LS           7.0   \n1           Lionel Messi            Argentina                RW          10.0   \n2                 Neymar               Brazil                LW          10.0   \n3            Luis Suárez              Uruguay                LS           9.0   \n4           Manuel Neuer              Germany                GK           1.0   \n...                  ...                  ...               ...           ...   \n17583        Adam Dunbar  Republic of Ireland               NaN           NaN   \n17584       Dylan McGoey  Republic of Ireland               NaN           NaN   \n17585    Tommy Ouldridge              England               NaN           NaN   \n17586         Mark Foden             Scotland               NaN           NaN   \n17587   Barry Richardson              England               NaN           NaN   \n\n                 Club  ... GK_Diving  GK_Kicking GK_Handling  GK_Reflexes  \\\n0         Real Madrid  ...         7          15          11           11   \n1        FC Barcelona  ...         6          15          11            8   \n2        FC Barcelona  ...         9          15           9           11   \n3        FC Barcelona  ...        27          31          25           37   \n4           FC Bayern  ...        89          95          90           89   \n...               ...  ...       ...         ...         ...          ...   \n17583  Wexford Youths  ...        44          52          41           46   \n17584   Longford Town  ...        39          46          46           46   \n17585    Swindon Town  ...         7          13          14            7   \n17586     Ross County  ...        45          44          43           45   \n17587         Wycombe  ...        37          37          51           33   \n\n       Age2  \n0       青年队  \n1       青年队  \n2       青年队  \n3       青年队  \n4       青年队  \n...     ...  \n17583   少年队  \n17584   少年队  \n17585   少年队  \n17586   少年队  \n17587   老年队  \n\n[17587 rows x 54 columns]",
      "text/html": "<div>\n<style scoped>\n    .dataframe tbody tr th:only-of-type {\n        vertical-align: middle;\n    }\n\n    .dataframe tbody tr th {\n        vertical-align: top;\n    }\n\n    .dataframe thead th {\n        text-align: right;\n    }\n</style>\n<table border=\"1\" class=\"dataframe\">\n  <thead>\n    <tr style=\"text-align: right;\">\n      <th></th>\n      <th>Name</th>\n      <th>Nationality</th>\n      <th>National_Position</th>\n      <th>National_Kit</th>\n      <th>Club</th>\n      <th>...</th>\n      <th>GK_Diving</th>\n      <th>GK_Kicking</th>\n      <th>GK_Handling</th>\n      <th>GK_Reflexes</th>\n      <th>Age2</th>\n    </tr>\n  </thead>\n  <tbody>\n    <tr>\n      <th>0</th>\n      <td>Cristiano Ronaldo</td>\n      <td>Portugal</td>\n      <td>LS</td>\n      <td>7.0</td>\n      <td>Real Madrid</td>\n      <td>...</td>\n      <td>7</td>\n      <td>15</td>\n      <td>11</td>\n      <td>11</td>\n      <td>青年队</td>\n    </tr>\n    <tr>\n      <th>1</th>\n      <td>Lionel Messi</td>\n      <td>Argentina</td>\n      <td>RW</td>\n      <td>10.0</td>\n      <td>FC Barcelona</td>\n      <td>...</td>\n      <td>6</td>\n      <td>15</td>\n      <td>11</td>\n      <td>8</td>\n      <td>青年队</td>\n    </tr>\n    <tr>\n      <th>2</th>\n      <td>Neymar</td>\n      <td>Brazil</td>\n      <td>LW</td>\n      <td>10.0</td>\n      <td>FC Barcelona</td>\n      <td>...</td>\n      <td>9</td>\n      <td>15</td>\n      <td>9</td>\n      <td>11</td>\n      <td>青年队</td>\n    </tr>\n    <tr>\n      <th>3</th>\n      <td>Luis Suárez</td>\n      <td>Uruguay</td>\n      <td>LS</td>\n      <td>9.0</td>\n      <td>FC Barcelona</td>\n      <td>...</td>\n      <td>27</td>\n      <td>31</td>\n      <td>25</td>\n      <td>37</td>\n      <td>青年队</td>\n    </tr>\n    <tr>\n      <th>4</th>\n      <td>Manuel Neuer</td>\n      <td>Germany</td>\n      <td>GK</td>\n      <td>1.0</td>\n      <td>FC Bayern</td>\n      <td>...</td>\n      <td>89</td>\n      <td>95</td>\n      <td>90</td>\n      <td>89</td>\n      <td>青年队</td>\n    </tr>\n    <tr>\n      <th>...</th>\n      <td>...</td>\n      <td>...</td>\n      <td>...</td>\n      <td>...</td>\n      <td>...</td>\n      <td>...</td>\n      <td>...</td>\n      <td>...</td>\n      <td>...</td>\n      <td>...</td>\n      <td>...</td>\n    </tr>\n    <tr>\n      <th>17583</th>\n      <td>Adam Dunbar</td>\n      <td>Republic of Ireland</td>\n      <td>NaN</td>\n      <td>NaN</td>\n      <td>Wexford Youths</td>\n      <td>...</td>\n      <td>44</td>\n      <td>52</td>\n      <td>41</td>\n      <td>46</td>\n      <td>少年队</td>\n    </tr>\n    <tr>\n      <th>17584</th>\n      <td>Dylan McGoey</td>\n      <td>Republic of Ireland</td>\n      <td>NaN</td>\n      <td>NaN</td>\n      <td>Longford Town</td>\n      <td>...</td>\n      <td>39</td>\n      <td>46</td>\n      <td>46</td>\n      <td>46</td>\n      <td>少年队</td>\n    </tr>\n    <tr>\n      <th>17585</th>\n      <td>Tommy Ouldridge</td>\n      <td>England</td>\n      <td>NaN</td>\n      <td>NaN</td>\n      <td>Swindon Town</td>\n      <td>...</td>\n      <td>7</td>\n      <td>13</td>\n      <td>14</td>\n      <td>7</td>\n      <td>少年队</td>\n    </tr>\n    <tr>\n      <th>17586</th>\n      <td>Mark Foden</td>\n      <td>Scotland</td>\n      <td>NaN</td>\n      <td>NaN</td>\n      <td>Ross County</td>\n      <td>...</td>\n      <td>45</td>\n      <td>44</td>\n      <td>43</td>\n      <td>45</td>\n      <td>少年队</td>\n    </tr>\n    <tr>\n      <th>17587</th>\n      <td>Barry Richardson</td>\n      <td>England</td>\n      <td>NaN</td>\n      <td>NaN</td>\n      <td>Wycombe</td>\n      <td>...</td>\n      <td>37</td>\n      <td>37</td>\n      <td>51</td>\n      <td>33</td>\n      <td>老年队</td>\n    </tr>\n  </tbody>\n</table>\n<p>17587 rows × 54 columns</p>\n</div>"
     },
     "execution_count": 91,
     "metadata": {},
     "output_type": "execute_result"
    }
   ],
   "source": [
    "player"
   ]
  },
  {
   "cell_type": "code",
   "execution_count": 92,
   "metadata": {
    "ExecuteTime": {
     "end_time": "2023-10-01T02:21:49.214432Z",
     "start_time": "2023-10-01T02:21:49.194183Z"
    }
   },
   "outputs": [
    {
     "data": {
      "text/plain": "Age2\n少年队    62.833686\n青年队    68.957701\n中年队    69.090909\n老年队    65.322581\nName: Rating, dtype: float64"
     },
     "execution_count": 92,
     "metadata": {},
     "output_type": "execute_result"
    }
   ],
   "source": [
    "#按Age2分组  获取平均评分\n",
    "player.groupby('Age2')['Rating'].mean()"
   ]
  },
  {
   "cell_type": "code",
   "execution_count": 93,
   "metadata": {
    "ExecuteTime": {
     "end_time": "2023-10-01T02:21:49.387885Z",
     "start_time": "2023-10-01T02:21:49.202121Z"
    }
   },
   "outputs": [
    {
     "data": {
      "text/plain": "<AxesSubplot:xlabel='Age2'>"
     },
     "execution_count": 93,
     "metadata": {},
     "output_type": "execute_result"
    },
    {
     "name": "stderr",
     "output_type": "stream",
     "text": [
      "/opt/anaconda3/envs/pandas_for_example/lib/python3.9/site-packages/IPython/core/pylabtools.py:151: UserWarning: Glyph 23569 (\\N{CJK UNIFIED IDEOGRAPH-5C11}) missing from current font.\n",
      "  fig.canvas.print_figure(bytes_io, **kw)\n",
      "/opt/anaconda3/envs/pandas_for_example/lib/python3.9/site-packages/IPython/core/pylabtools.py:151: UserWarning: Glyph 24180 (\\N{CJK UNIFIED IDEOGRAPH-5E74}) missing from current font.\n",
      "  fig.canvas.print_figure(bytes_io, **kw)\n",
      "/opt/anaconda3/envs/pandas_for_example/lib/python3.9/site-packages/IPython/core/pylabtools.py:151: UserWarning: Glyph 38431 (\\N{CJK UNIFIED IDEOGRAPH-961F}) missing from current font.\n",
      "  fig.canvas.print_figure(bytes_io, **kw)\n",
      "/opt/anaconda3/envs/pandas_for_example/lib/python3.9/site-packages/IPython/core/pylabtools.py:151: UserWarning: Glyph 38738 (\\N{CJK UNIFIED IDEOGRAPH-9752}) missing from current font.\n",
      "  fig.canvas.print_figure(bytes_io, **kw)\n",
      "/opt/anaconda3/envs/pandas_for_example/lib/python3.9/site-packages/IPython/core/pylabtools.py:151: UserWarning: Glyph 20013 (\\N{CJK UNIFIED IDEOGRAPH-4E2D}) missing from current font.\n",
      "  fig.canvas.print_figure(bytes_io, **kw)\n",
      "/opt/anaconda3/envs/pandas_for_example/lib/python3.9/site-packages/IPython/core/pylabtools.py:151: UserWarning: Glyph 32769 (\\N{CJK UNIFIED IDEOGRAPH-8001}) missing from current font.\n",
      "  fig.canvas.print_figure(bytes_io, **kw)\n"
     ]
    },
    {
     "data": {
      "text/plain": "<Figure size 432x288 with 1 Axes>",
      "image/png": "[encoded data removed]"
     },
     "metadata": {
      "needs_background": "light"
     },
     "output_type": "display_data"
    }
   ],
   "source": [
    "#绘制图形\n",
    "player.groupby('Age2')['Rating'].mean().plot(kind='line',marker='o')"
   ]
  },
  {
   "cell_type": "code",
   "execution_count": 94,
   "metadata": {
    "ExecuteTime": {
     "end_time": "2023-10-01T02:21:49.388438Z",
     "start_time": "2023-10-01T02:21:49.360123Z"
    }
   },
   "outputs": [
    {
     "data": {
      "text/plain": "0        中年队\n1        青年队\n2        青年队\n3        青年队\n4        中年队\n        ... \n17583    青年队\n17584    青年队\n17585    青年队\n17586    青年队\n17587    老年队\nName: Age, Length: 17587, dtype: category\nCategories (3, object): ['青年队' < '中年队' < '老年队']"
     },
     "execution_count": 94,
     "metadata": {},
     "output_type": "execute_result"
    }
   ],
   "source": [
    "#自定义分组\n",
    "pd.cut(player['Age'],bins=[10,30,40,50],labels=['青年队','中年队','老年队'])"
   ]
  },
  {
   "cell_type": "code",
   "execution_count": 95,
   "metadata": {
    "ExecuteTime": {
     "end_time": "2023-10-01T02:21:49.477672Z",
     "start_time": "2023-10-01T02:21:49.368487Z"
    }
   },
   "outputs": [
    {
     "name": "stderr",
     "output_type": "stream",
     "text": [
      "/var/folders/1j/zwjsh6y95b17l9zt2672mvlh0000gn/T/ipykernel_68030/1421376856.py:1: SettingWithCopyWarning: \n",
      "A value is trying to be set on a copy of a slice from a DataFrame.\n",
      "Try using .loc[row_indexer,col_indexer] = value instead\n",
      "\n",
      "See the caveats in the documentation: https://pandas.pydata.org/pandas-docs/stable/user_guide/indexing.html#returning-a-view-versus-a-copy\n",
      "  player['Age3'] =pd.cut(player['Age'],bins=[10,30,40,50],labels=['青年队','中年队','老年队'])\n"
     ]
    }
   ],
   "source": [
    "player['Age3'] =pd.cut(player['Age'],bins=[10,30,40,50],labels=['青年队','中年队','老年队'])"
   ]
  },
  {
   "cell_type": "code",
   "execution_count": 96,
   "metadata": {
    "ExecuteTime": {
     "end_time": "2023-10-01T02:21:49.547416Z",
     "start_time": "2023-10-01T02:21:49.395314Z"
    }
   },
   "outputs": [
    {
     "data": {
      "text/plain": "<AxesSubplot:xlabel='Age3'>"
     },
     "execution_count": 96,
     "metadata": {},
     "output_type": "execute_result"
    },
    {
     "name": "stderr",
     "output_type": "stream",
     "text": [
      "/opt/anaconda3/envs/pandas_for_example/lib/python3.9/site-packages/IPython/core/pylabtools.py:151: UserWarning: Glyph 38738 (\\N{CJK UNIFIED IDEOGRAPH-9752}) missing from current font.\n",
      "  fig.canvas.print_figure(bytes_io, **kw)\n",
      "/opt/anaconda3/envs/pandas_for_example/lib/python3.9/site-packages/IPython/core/pylabtools.py:151: UserWarning: Glyph 24180 (\\N{CJK UNIFIED IDEOGRAPH-5E74}) missing from current font.\n",
      "  fig.canvas.print_figure(bytes_io, **kw)\n",
      "/opt/anaconda3/envs/pandas_for_example/lib/python3.9/site-packages/IPython/core/pylabtools.py:151: UserWarning: Glyph 38431 (\\N{CJK UNIFIED IDEOGRAPH-961F}) missing from current font.\n",
      "  fig.canvas.print_figure(bytes_io, **kw)\n",
      "/opt/anaconda3/envs/pandas_for_example/lib/python3.9/site-packages/IPython/core/pylabtools.py:151: UserWarning: Glyph 20013 (\\N{CJK UNIFIED IDEOGRAPH-4E2D}) missing from current font.\n",
      "  fig.canvas.print_figure(bytes_io, **kw)\n",
      "/opt/anaconda3/envs/pandas_for_example/lib/python3.9/site-packages/IPython/core/pylabtools.py:151: UserWarning: Glyph 32769 (\\N{CJK UNIFIED IDEOGRAPH-8001}) missing from current font.\n",
      "  fig.canvas.print_figure(bytes_io, **kw)\n"
     ]
    },
    {
     "data": {
      "text/plain": "<Figure size 432x288 with 1 Axes>",
      "image/png": "[encoded data removed]"
     },
     "metadata": {
      "needs_background": "light"
     },
     "output_type": "display_data"
    }
   ],
   "source": [
    "#对Age3分组\n",
    "player.groupby('Age3')['Rating'].mean().plot(marker='o')"
   ]
  },
  {
   "cell_type": "code",
   "execution_count": 96,
   "metadata": {
    "ExecuteTime": {
     "end_time": "2023-10-01T02:21:49.547611Z",
     "start_time": "2023-10-01T02:21:49.536296Z"
    }
   },
   "outputs": [],
   "source": []
  }
 ],
 "metadata": {
  "interpreter": {
   "hash": "c8f2176ec1295039c2a44b661b567710e5baf7112c9d90ae889ab07ed400c256"
  },
  "kernelspec": {
   "display_name": "Python 3.10.1 ('python_env')",
   "language": "python",
   "name": "python3"
  },
  "language_info": {
   "codemirror_mode": {
    "name": "ipython",
    "version": 3
   },
   "file_extension": ".py",
   "mimetype": "text/x-python",
   "name": "python",
   "nbconvert_exporter": "python",
   "pygments_lexer": "ipython3",
   "version": "3.10.1"
  },
  "orig_nbformat": 4
 },
 "nbformat": 4,
 "nbformat_minor": 2
}
